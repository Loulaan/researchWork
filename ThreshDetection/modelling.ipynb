{
 "cells": [
  {
   "cell_type": "code",
   "execution_count": 1,
   "metadata": {
    "pycharm": {
     "name": "#%%\n"
    }
   },
   "outputs": [
    {
     "name": "stderr",
     "output_type": "stream",
     "text": [
      "Unable to determine R home: [WinError 2] Не удается найти указанный файл\n",
      "Unable to determine R library path: Command '('D:\\\\Program Files\\\\R\\\\R-4.1.3\\\\bin\\\\Rscript', '-e', 'cat(Sys.getenv(\"LD_LIBRARY_PATH\"))')' returned non-zero exit status 1.\n",
      "R[write to console]: Warning:\n",
      "R[write to console]:  package 'Rssa' is in use and will not be installed\n",
      "\n"
     ]
    }
   ],
   "source": [
    "import time\n",
    "\n",
    "import numpy as np\n",
    "from tqdm import tqdm\n",
    "from matplotlib import pyplot as plt\n",
    "\n",
    "from utils.utils import find_Q_hat\n",
    "from ThreshDetection.thresh import ThreshAnalytical\n",
    "from utils.hmatr import Hmatr\n",
    "from utils.utils import generate_series, find_fpr_corr_to_thresh"
   ]
  },
  {
   "cell_type": "code",
   "execution_count": 155,
   "metadata": {
    "pycharm": {
     "name": "#%%\n"
    }
   },
   "outputs": [],
   "source": [
    "# Parameters\n",
    "# Fixing: N = 700, w1 = 1 / 10, w_min = w1 + 1 / 100, k = 30, w2 = 1 / 5, Q = 301, noise_sd = 0.5, iter_num = 200\n",
    "N = 700  # Длина ряда\n",
    "w1 = 1 / 10  # Начальная частота\n",
    "w_min = 1/5  # Минимальная разница в частотах для обнаружения неоднородности\n",
    "k = 30  # Кол-во точек, за которые нужно обнаружить разладку\n",
    "w2 = 1/5\n",
    "Q = 301\n",
    "r = 2\n",
    "method = \"svd\"\n",
    "noise_sd = 0.5\n",
    "B = 100\n",
    "T_ = 100\n",
    "L = 60\n",
    "iter_num = 200"
   ]
  },
  {
   "cell_type": "code",
   "execution_count": 138,
   "metadata": {
    "pycharm": {
     "name": "#%%\n"
    }
   },
   "outputs": [],
   "source": [
    "def modelling_series():\n",
    "    np.random.seed(12345)\n",
    "    series = []\n",
    "    rows = []\n",
    "    time_start = time.time()\n",
    "    for i in tqdm(range(iter_num)):\n",
    "        original_series = generate_series(w1, w2, Q, N)\n",
    "        noise = np.random.randn(N) * noise_sd ** 2\n",
    "        original_series += noise\n",
    "        hm = Hmatr(f=original_series, B=B, T=T_, L=L, neig=r, svdMethod=method)\n",
    "        rows.append(hm.getRow(sync=True))\n",
    "        series.append(original_series)\n",
    "    print(f\"Modelling took {round(time.time() - time_start, 4)} s\")\n",
    "    return series, rows\n",
    "\n",
    "def modelling_series_T(Ts):\n",
    "    \"\"\"\n",
    "    Подсчет значения FPR для фиксированного порога в зависимости от параметра T\n",
    "    :param Ts: List of T\n",
    "    :return: T and corresponding FPR to analytical thresh\n",
    "    \"\"\"\n",
    "    np.random.seed(12345)\n",
    "    threshes = np.arange(0, 1.01, 0.01)\n",
    "    g_analytical = ThreshAnalytical(w1, w_min, L, T_, k)\n",
    "    fpr_to_an_thresh = []\n",
    "\n",
    "    for T in tqdm(Ts):\n",
    "        rows = []\n",
    "\n",
    "        for i in range(iter_num):\n",
    "            original_series = generate_series(w1, w2, Q, N)\n",
    "            noise = np.random.randn(N) * noise_sd ** 2\n",
    "            original_series += noise\n",
    "            row = Hmatr(f=original_series, B=B, T=T, L=L, neig=r, svdMethod=method).getRow(sync=True)\n",
    "            rows.append(row)\n",
    "\n",
    "        fpr = []\n",
    "        for thresh in threshes:\n",
    "            fp = 0\n",
    "            for row in modelled_rows:\n",
    "                Q_hat = find_Q_hat(row, thresh)\n",
    "                if Q_hat is None:\n",
    "                    # Не превзошли порог, пропускаем значение. При подсчете долей кривые будут уходить в 0\n",
    "                    continue\n",
    "                if Q_hat < Q:\n",
    "                    fp += 1\n",
    "            fpr.append(round(fp/iter_num, 4))\n",
    "\n",
    "        fpr_to_an_thresh.append(find_fpr_corr_to_thresh(threshes, fpr, g_analytical.thresh))\n",
    "    return Ts, fpr_to_an_thresh"
   ]
  },
  {
   "cell_type": "code",
   "execution_count": 139,
   "metadata": {
    "pycharm": {
     "name": "#%%\n"
    }
   },
   "outputs": [
    {
     "name": "stdout",
     "output_type": "stream",
     "text": [
      "Params: w1 = 0.1, w2 = 0.2, w_min = 0.11, L = 60, k = 30, T = 100\n"
     ]
    }
   ],
   "source": [
    "print(f\"Params: w1 = {w1}, w2 = {w2}, w_min = {round(w_min, 5)}, L = {L}, k = {k}, T = {T_}\")"
   ]
  },
  {
   "cell_type": "markdown",
   "source": [
    "# Modelling for different parameter T"
   ],
   "metadata": {
    "collapsed": false,
    "pycharm": {
     "name": "#%% md\n"
    }
   }
  },
  {
   "cell_type": "code",
   "execution_count": 133,
   "outputs": [
    {
     "name": "stderr",
     "output_type": "stream",
     "text": [
      "100%|██████████| 41/41 [2:31:33<00:00, 221.80s/it]  \n"
     ]
    }
   ],
   "source": [
    "Ts = np.arange(L, L+41, 1)\n",
    "Ts, fprs = modelling_series_T(Ts)"
   ],
   "metadata": {
    "collapsed": false,
    "pycharm": {
     "name": "#%%\n"
    }
   }
  },
  {
   "cell_type": "markdown",
   "source": [
    "# Modelling general"
   ],
   "metadata": {
    "collapsed": false,
    "pycharm": {
     "name": "#%% md\n"
    }
   }
  },
  {
   "cell_type": "code",
   "execution_count": 156,
   "outputs": [
    {
     "name": "stderr",
     "output_type": "stream",
     "text": [
      "100%|██████████| 200/200 [03:43<00:00,  1.12s/it]"
     ]
    },
    {
     "name": "stdout",
     "output_type": "stream",
     "text": [
      "Modelling took 223.0103 s\n"
     ]
    },
    {
     "name": "stderr",
     "output_type": "stream",
     "text": [
      "\n"
     ]
    }
   ],
   "source": [
    "modelled_series, modelled_rows = modelling_series()"
   ],
   "metadata": {
    "collapsed": false,
    "pycharm": {
     "name": "#%%\n"
    }
   }
  },
  {
   "cell_type": "code",
   "execution_count": 159,
   "metadata": {
    "pycharm": {
     "name": "#%%\n"
    }
   },
   "outputs": [
    {
     "name": "stdout",
     "output_type": "stream",
     "text": [
      "Calculating statistics took 0.38 s\n"
     ]
    }
   ],
   "source": [
    "threshes = np.arange(0, 1.01, 0.01)\n",
    "\n",
    "fpr = []  # Детекции раньше настоящего момента возмущения\n",
    "tpr = []  # Детекции в или позже момента возмущения, но не позже момента k\n",
    "tpr_1 = []  # Детекции в или позже момента возмущения, но не позже момента k\n",
    "\n",
    "Q_hats = []\n",
    "time_start = time.time()\n",
    "for thresh in threshes:\n",
    "    fp = 0\n",
    "    tp = 0\n",
    "    tp_1 = 0\n",
    "    for row in modelled_rows:\n",
    "        Q_hat = find_Q_hat(row, thresh)\n",
    "        Q_hats.append(Q_hat)\n",
    "        if Q_hat is None:\n",
    "            # Не превзошли порог, пропускаем значение. При подсчете долей кривые будут уходить в 0\n",
    "            continue\n",
    "        if Q_hat < Q:\n",
    "            fp += 1\n",
    "        if Q <= Q_hat <= Q + k:\n",
    "            tp += 1\n",
    "    fpr.append(round(fp/iter_num, 4))\n",
    "    tpr.append(round(tp/iter_num, 4))\n",
    "\n",
    "g_analytical = ThreshAnalytical(w1, w_min, L, T_, k)\n",
    "\n",
    "print(f\"Calculating statistics took {round(time.time() - time_start, 4)} s\")"
   ]
  },
  {
   "cell_type": "code",
   "execution_count": 163,
   "outputs": [
    {
     "data": {
      "text/plain": "0.30303030303030304"
     },
     "execution_count": 163,
     "metadata": {},
     "output_type": "execute_result"
    }
   ],
   "source": [
    "g_analytical.thresh"
   ],
   "metadata": {
    "collapsed": false,
    "pycharm": {
     "name": "#%%\n"
    }
   }
  },
  {
   "cell_type": "code",
   "execution_count": 162,
   "outputs": [
    {
     "data": {
      "text/plain": "[<matplotlib.lines.Line2D at 0x221092f2610>]"
     },
     "execution_count": 162,
     "metadata": {},
     "output_type": "execute_result"
    },
    {
     "data": {
      "text/plain": "<Figure size 432x288 with 1 Axes>",
      "image/png": "[encoded data removed]"
     },
     "metadata": {
      "needs_background": "light"
     },
     "output_type": "display_data"
    }
   ],
   "source": [
    "plt.plot(g_analytical.transition_interval)"
   ],
   "metadata": {
    "collapsed": false,
    "pycharm": {
     "name": "#%%\n"
    }
   }
  },
  {
   "cell_type": "code",
   "execution_count": 147,
   "outputs": [
    {
     "data": {
      "text/plain": "0.7753885981387785"
     },
     "execution_count": 147,
     "metadata": {},
     "output_type": "execute_result"
    }
   ],
   "source": [
    "original_series = generate_series(w1, w_min, Q, N)\n",
    "noise = np.random.randn(N) * noise_sd ** 2\n",
    "original_series += noise\n",
    "thresh = Hmatr(f=original_series, B=B, T=T_, L=L, neig=r, svdMethod=method).getRow(sync=True)[Q + k]\n",
    "thresh"
   ],
   "metadata": {
    "collapsed": false,
    "pycharm": {
     "name": "#%%\n"
    }
   }
  },
  {
   "cell_type": "code",
   "execution_count": 164,
   "outputs": [
    {
     "data": {
      "text/plain": "0.0"
     },
     "execution_count": 164,
     "metadata": {},
     "output_type": "execute_result"
    }
   ],
   "source": [
    "fpr_to_thresh"
   ],
   "metadata": {
    "collapsed": false,
    "pycharm": {
     "name": "#%%\n"
    }
   }
  },
  {
   "cell_type": "code",
   "execution_count": 165,
   "metadata": {
    "pycharm": {
     "name": "#%%\n"
    }
   },
   "outputs": [
    {
     "name": "stderr",
     "output_type": "stream",
     "text": [
      "C:\\Users\\ivank\\AppData\\Local\\Temp\\ipykernel_7952\\2172422474.py:5: RuntimeWarning: invalid value encountered in true_divide\n",
      "  values = np.array(tpr/(1-np.array(fpr)))\n"
     ]
    },
    {
     "data": {
      "text/plain": "<Figure size 864x288 with 1 Axes>",
      "image/png": "[encoded data removed]"
     },
     "metadata": {
      "needs_background": "light"
     },
     "output_type": "display_data"
    },
    {
     "name": "stdout",
     "output_type": "stream",
     "text": [
      "FPR corresponding to analytical thresh: 0.0\n"
     ]
    }
   ],
   "source": [
    "plt.figure(figsize=(12, 4))\n",
    "plt.plot([g_analytical.thresh]*len(threshes), threshes, '--', label='Exact thresh')\n",
    "plt.plot(threshes, fpr, label='FPR')\n",
    "\n",
    "values = np.array(tpr/(1-np.array(fpr)))\n",
    "idxs = np.invert(np.isnan(values))\n",
    "values = values[idxs]\n",
    "\n",
    "\n",
    "plt.plot(threshes, tpr, label='TPR')\n",
    "plt.plot(np.array(threshes)[idxs], values, label='TPR_1')\n",
    "w_min_str = r'$\\omega_{min}$'\n",
    "plt.title(fr\"$\\omega_1$={w1}, $\\omega_2$={w2}, {w_min_str}={round(w_min, 4)}, k={k}, L={L}, noise_var={noise_sd ** 2}, iter_num={iter_num}, T={T_}\")\n",
    "plt.xlabel('Thresh')\n",
    "plt.ylabel('Ratio')\n",
    "plt.legend()\n",
    "plt.grid()\n",
    "plt.savefig(f'system_estimation_T={T_}.png')\n",
    "plt.show()\n",
    "\n",
    "fpr_to_thresh = find_fpr_corr_to_thresh(threshes, fpr, g_analytical.thresh)\n",
    "print(f\"FPR corresponding to analytical thresh: {fpr_to_thresh}\")"
   ]
  },
  {
   "cell_type": "code",
   "execution_count": 117,
   "outputs": [],
   "source": [],
   "metadata": {
    "collapsed": false,
    "pycharm": {
     "name": "#%%\n"
    }
   }
  },
  {
   "cell_type": "code",
   "execution_count": 85,
   "outputs": [
    {
     "data": {
      "text/plain": "[<matplotlib.lines.Line2D at 0x2210740cbb0>]"
     },
     "execution_count": 85,
     "metadata": {},
     "output_type": "execute_result"
    },
    {
     "data": {
      "text/plain": "<Figure size 432x288 with 1 Axes>",
      "image/png": "[encoded data removed]"
     },
     "metadata": {
      "needs_background": "light"
     },
     "output_type": "display_data"
    }
   ],
   "source": [
    "plt.plot(modelled_rows[0])"
   ],
   "metadata": {
    "collapsed": false,
    "pycharm": {
     "name": "#%%\n"
    }
   }
  },
  {
   "cell_type": "code",
   "execution_count": 26,
   "outputs": [],
   "source": [],
   "metadata": {
    "collapsed": false,
    "pycharm": {
     "name": "#%%\n"
    }
   }
  },
  {
   "cell_type": "code",
   "execution_count": 26,
   "outputs": [],
   "source": [],
   "metadata": {
    "collapsed": false,
    "pycharm": {
     "name": "#%%\n"
    }
   }
  },
  {
   "cell_type": "code",
   "execution_count": null,
   "outputs": [],
   "source": [],
   "metadata": {
    "collapsed": false,
    "pycharm": {
     "name": "#%%\n"
    }
   }
  }
 ],
 "metadata": {
  "kernelspec": {
   "display_name": "Python 3 (ipykernel)",
   "language": "python",
   "name": "python3"
  },
  "language_info": {
   "codemirror_mode": {
    "name": "ipython",
    "version": 3
   },
   "file_extension": ".py",
   "mimetype": "text/x-python",
   "name": "python",
   "nbconvert_exporter": "python",
   "pygments_lexer": "ipython3",
   "version": "3.9.7"
  }
 },
 "nbformat": 4,
 "nbformat_minor": 1
}