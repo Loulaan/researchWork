{
 "cells": [
  {
   "cell_type": "code",
   "execution_count": 1,
   "metadata": {
    "collapsed": false,
    "jupyter": {
     "outputs_hidden": false
    },
    "pycharm": {
     "name": "#%%\n"
    }
   },
   "outputs": [
    {
     "name": "stderr",
     "output_type": "stream",
     "text": [
      "Unable to determine R home: [WinError 2] Не удается найти указанный файл\n",
      "Unable to determine R library path: Command '('D:\\\\Program Files\\\\R\\\\R-4.1.3\\\\bin\\\\Rscript', '-e', 'cat(Sys.getenv(\"LD_LIBRARY_PATH\"))')' returned non-zero exit status 1.\n",
      "R[write to console]: Warning:\n",
      "R[write to console]:  package 'Rssa' is in use and will not be installed\n",
      "\n",
      "R[write to console]: Warning:\n",
      "R[write to console]:  package 'Rssa' is in use and will not be installed\n",
      "\n"
     ]
    }
   ],
   "source": [
    "import warnings\n",
    "\n",
    "import numpy as np\n",
    "import pandas as pd\n",
    "import matplotlib.pyplot as plt\n",
    "\n",
    "from SystemGeneral.system import System\n",
    "from utils.utils import generate_series\n",
    "from rpy2.rinterface_lib.callbacks import logger as rpy2_logger\n",
    "import logging\n",
    "from tqdm import tqdm_notebook as tqdm\n",
    "rpy2_logger.setLevel(logging.ERROR)   # will display errors, but not warnings\n",
    "\n",
    "warnings.filterwarnings('ignore')"
   ]
  },
  {
   "cell_type": "code",
   "execution_count": 2,
   "metadata": {
    "tags": []
   },
   "outputs": [],
   "source": [
    "Q = 301\n",
    "N = 800"
   ]
  },
  {
   "cell_type": "markdown",
   "source": [
    "# K = 30"
   ],
   "metadata": {
    "collapsed": false,
    "pycharm": {
     "name": "#%% md\n"
    }
   }
  },
  {
   "cell_type": "code",
   "execution_count": 15,
   "outputs": [],
   "source": [
    "column_names = ['\\omega_1', '\\omega_2', '\\delta_min', '\\sigma', 'B', 'T', 'L', 'FPR', 'TPR', 'FNR']\n",
    "results = pd.DataFrame(columns=column_names)\n",
    "# results.to_latex(escape=False)"
   ],
   "metadata": {
    "collapsed": false,
    "pycharm": {
     "name": "#%%\n"
    }
   }
  },
  {
   "cell_type": "code",
   "execution_count": 18,
   "metadata": {
    "collapsed": false,
    "jupyter": {
     "outputs_hidden": false
    },
    "pycharm": {
     "name": "#%%\n"
    }
   },
   "outputs": [
    {
     "name": "stderr",
     "output_type": "stream",
     "text": [
      "Моделирование для sigma = 0.0: 100%|██████████| 200/200 [05:32<00:00,  1.66s/it]\n",
      "Моделирование для sigma = 0.1: 100%|██████████| 200/200 [06:17<00:00,  1.89s/it]\n",
      "Моделирование для sigma = 0.2: 100%|██████████| 200/200 [06:12<00:00,  1.86s/it]\n",
      "Моделирование для sigma = 0.30000000000000004: 100%|██████████| 200/200 [06:12<00:00,  1.86s/it]\n",
      "Моделирование для sigma = 0.4: 100%|██████████| 200/200 [06:13<00:00,  1.87s/it]\n",
      "Моделирование для sigma = 0.5: 100%|██████████| 200/200 [06:12<00:00,  1.86s/it]\n",
      "Моделирование для sigma = 0.6000000000000001: 100%|██████████| 200/200 [06:13<00:00,  1.87s/it]\n",
      "Моделирование для sigma = 0.7000000000000001: 100%|██████████| 200/200 [06:16<00:00,  1.88s/it]\n",
      "Моделирование для sigma = 0.0: 100%|██████████| 200/200 [05:38<00:00,  1.69s/it]\n",
      "Моделирование для sigma = 0.1: 100%|██████████| 200/200 [06:14<00:00,  1.87s/it]\n",
      "Моделирование для sigma = 0.2: 100%|██████████| 200/200 [06:11<00:00,  1.86s/it]\n",
      "Моделирование для sigma = 0.30000000000000004: 100%|██████████| 200/200 [06:13<00:00,  1.87s/it]\n",
      "Моделирование для sigma = 0.4: 100%|██████████| 200/200 [06:22<00:00,  1.91s/it]\n",
      "Моделирование для sigma = 0.5: 100%|██████████| 200/200 [06:24<00:00,  1.92s/it]\n",
      "Моделирование для sigma = 0.6000000000000001: 100%|██████████| 200/200 [06:21<00:00,  1.91s/it]\n",
      "Моделирование для sigma = 0.7000000000000001: 100%|██████████| 200/200 [06:20<00:00,  1.90s/it]\n",
      "Моделирование для sigma = 0.0: 100%|██████████| 200/200 [05:42<00:00,  1.71s/it]\n",
      "Моделирование для sigma = 0.1: 100%|██████████| 200/200 [06:19<00:00,  1.90s/it]\n",
      "Моделирование для sigma = 0.2: 100%|██████████| 200/200 [06:18<00:00,  1.89s/it]\n",
      "Моделирование для sigma = 0.30000000000000004: 100%|██████████| 200/200 [06:15<00:00,  1.88s/it]\n",
      "Моделирование для sigma = 0.4: 100%|██████████| 200/200 [06:16<00:00,  1.88s/it]\n",
      "Моделирование для sigma = 0.5: 100%|██████████| 200/200 [06:18<00:00,  1.89s/it]\n",
      "Моделирование для sigma = 0.6000000000000001: 100%|██████████| 200/200 [06:18<00:00,  1.89s/it]\n",
      "Моделирование для sigma = 0.7000000000000001: 100%|██████████| 200/200 [06:13<00:00,  1.87s/it]"
     ]
    },
    {
     "name": "stdout",
     "output_type": "stream",
     "text": [
      "CPU times: total: 2h 28min 36s\n",
      "Wall time: 2h 28min 41s\n"
     ]
    },
    {
     "name": "stderr",
     "output_type": "stream",
     "text": [
      "\n"
     ]
    }
   ],
   "source": [
    "%%time\n",
    "\n",
    "w1 = 1/10\n",
    "w1_str = f\"1/10\"\n",
    "for denom in range(4, 10):\n",
    "    w2 = 1/denom\n",
    "    w2_str = f\"1/{denom}\"\n",
    "    # sigma = 0.5\n",
    "\n",
    "    delta_min = 1/50\n",
    "    delta_min_str = \"1/50\"\n",
    "\n",
    "    k = 30\n",
    "    iter_num = 200\n",
    "\n",
    "    np.random.seed(1234567)\n",
    "    for sigma in np.arange(0, 0.8, 0.1):\n",
    "        fp = 0\n",
    "        fn = 0\n",
    "        tp = 0\n",
    "        for i in tqdm(range(iter_num), desc=f\"Моделирование для sigma = {sigma}\"):\n",
    "            series = generate_series(w1, w2, Q, N) + np.random.normal(scale=sigma, size=N)\n",
    "            system = System(series, k, delta_min)\n",
    "            Q_hat = system()\n",
    "            if Q_hat - Q < 0:\n",
    "                fp += 1\n",
    "            if Q_hat - Q > k:\n",
    "                fn += 1\n",
    "            if Q_hat - Q <= k:\n",
    "                tp += 1\n",
    "        fpr = fp / iter_num\n",
    "        fnr = fn / iter_num\n",
    "        tpr = tp / iter_num\n",
    "        results = results.append(dict(zip(column_names, [w1_str, w2_str, delta_min, sigma, system.B, system.T, system.L, fpr, tpr, fnr])), ignore_index=True)"
   ]
  },
  {
   "cell_type": "code",
   "execution_count": 20,
   "outputs": [
    {
     "data": {
      "text/plain": "   \\omega_1 \\omega_2 \\delta_min \\sigma    B   T   L    FPR    TPR    FNR\n0      1/10      1/3       0.02    0.0  133  79  71    0.0    1.0    0.0\n1      1/10      1/3       0.02    0.1  133  79  71    0.0    1.0    0.0\n2      1/10      1/3       0.02    0.2  133  79  71    0.0    1.0    0.0\n3      1/10      1/3       0.02    0.3  133  79  71    0.0    1.0    0.0\n4      1/10      1/3       0.02    0.4  133  79  71    0.0    1.0    0.0\n5      1/10      1/3       0.02    0.5  133  79  71    0.0   0.99   0.01\n6      1/10      1/3       0.02    0.6  133  79  71    0.0  0.955  0.045\n7      1/10      1/3       0.02    0.7  133  79  71  0.035   0.85   0.15\n8      1/10      1/4       0.02    0.0  133  79  71    0.0    1.0    0.0\n9      1/10      1/4       0.02    0.1  133  79  71    0.0    1.0    0.0\n10     1/10      1/4       0.02    0.2  133  79  71    0.0    1.0    0.0\n11     1/10      1/4       0.02    0.3  133  79  71    0.0    1.0    0.0\n12     1/10      1/4       0.02    0.4  133  79  71    0.0  0.995  0.005\n13     1/10      1/4       0.02    0.5  133  79  71    0.0   0.98   0.02\n14     1/10      1/4       0.02    0.6  133  79  71    0.0   0.94   0.06\n15     1/10      1/4       0.02    0.7  133  79  71  0.035  0.845  0.155\n16     1/10      1/5       0.02    0.0  133  79  71    0.0    1.0    0.0\n17     1/10      1/5       0.02    0.1  133  79  71    0.0    1.0    0.0\n18     1/10      1/5       0.02    0.2  133  79  71    0.0    1.0    0.0\n19     1/10      1/5       0.02    0.3  133  79  71    0.0    1.0    0.0\n20     1/10      1/5       0.02    0.4  133  79  71    0.0    1.0    0.0\n21     1/10      1/5       0.02    0.5  133  79  71    0.0   0.99   0.01\n22     1/10      1/5       0.02    0.6  133  79  71    0.0  0.935  0.065\n23     1/10      1/5       0.02    0.7  133  79  71  0.035   0.87   0.13\n24     1/10      1/6       0.02    0.0  133  79  71    0.0    1.0    0.0\n25     1/10      1/6       0.02    0.1  133  79  71    0.0    1.0    0.0\n26     1/10      1/6       0.02    0.2  133  79  71    0.0    1.0    0.0\n27     1/10      1/6       0.02    0.3  133  79  71    0.0    1.0    0.0\n28     1/10      1/6       0.02    0.4  133  79  71    0.0  0.995  0.005\n29     1/10      1/6       0.02    0.5  133  79  71    0.0  0.995  0.005\n30     1/10      1/6       0.02    0.6  133  79  71    0.0  0.955  0.045\n31     1/10      1/6       0.02    0.7  133  79  71  0.035   0.87   0.13\n32     1/10      1/7       0.02    0.0  133  79  71    0.0    1.0    0.0\n33     1/10      1/7       0.02    0.1  133  79  71    0.0    1.0    0.0\n34     1/10      1/7       0.02    0.2  133  79  71    0.0    1.0    0.0\n35     1/10      1/7       0.02    0.3  133  79  71    0.0    1.0    0.0\n36     1/10      1/7       0.02    0.4  133  79  71    0.0   0.99   0.01\n37     1/10      1/7       0.02    0.5  133  79  71    0.0  0.945  0.055\n38     1/10      1/7       0.02    0.6  133  79  71   0.01   0.94   0.06\n39     1/10      1/7       0.02    0.7  133  79  71  0.025   0.88   0.12\n40     1/10      1/8       0.02    0.0  133  79  71    0.0    1.0    0.0\n41     1/10      1/8       0.02    0.1  133  79  71    0.0    1.0    0.0\n42     1/10      1/8       0.02    0.2  133  79  71    0.0    1.0    0.0\n43     1/10      1/8       0.02    0.3  133  79  71    0.0   0.99   0.01\n44     1/10      1/8       0.02    0.4  133  79  71    0.0  0.915  0.085\n45     1/10      1/8       0.02    0.5  133  79  71    0.0  0.855  0.145\n46     1/10      1/8       0.02    0.6  133  79  71   0.01   0.79   0.21\n47     1/10      1/8       0.02    0.7  133  79  71  0.025  0.785  0.215\n48     1/10      1/9       0.02    0.0  133  79  71    0.0    1.0    0.0\n49     1/10      1/9       0.02    0.1  133  79  71    0.0    1.0    0.0\n50     1/10      1/9       0.02    0.2  133  79  71    0.0    1.0    0.0\n51     1/10      1/9       0.02    0.3  133  79  71    0.0    1.0    0.0\n52     1/10      1/9       0.02    0.4  133  79  71    0.0    1.0    0.0\n53     1/10      1/9       0.02    0.5  133  79  71    0.0    1.0    0.0\n54     1/10      1/9       0.02    0.6  133  79  71   0.01    1.0    0.0\n55     1/10      1/9       0.02    0.7  133  79  71  0.025    1.0    0.0",
      "text/html": "<div>\n<style scoped>\n    .dataframe tbody tr th:only-of-type {\n        vertical-align: middle;\n    }\n\n    .dataframe tbody tr th {\n        vertical-align: top;\n    }\n\n    .dataframe thead th {\n        text-align: right;\n    }\n</style>\n<table border=\"1\" class=\"dataframe\">\n  <thead>\n    <tr style=\"text-align: right;\">\n      <th></th>\n      <th>\\omega_1</th>\n      <th>\\omega_2</th>\n      <th>\\delta_min</th>\n      <th>\\sigma</th>\n      <th>B</th>\n      <th>T</th>\n      <th>L</th>\n      <th>FPR</th>\n      <th>TPR</th>\n      <th>FNR</th>\n    </tr>\n  </thead>\n  <tbody>\n    <tr>\n      <th>0</th>\n      <td>1/10</td>\n      <td>1/3</td>\n      <td>0.02</td>\n      <td>0.0</td>\n      <td>133</td>\n      <td>79</td>\n      <td>71</td>\n      <td>0.0</td>\n      <td>1.0</td>\n      <td>0.0</td>\n    </tr>\n    <tr>\n      <th>1</th>\n      <td>1/10</td>\n      <td>1/3</td>\n      <td>0.02</td>\n      <td>0.1</td>\n      <td>133</td>\n      <td>79</td>\n      <td>71</td>\n      <td>0.0</td>\n      <td>1.0</td>\n      <td>0.0</td>\n    </tr>\n    <tr>\n      <th>2</th>\n      <td>1/10</td>\n      <td>1/3</td>\n      <td>0.02</td>\n      <td>0.2</td>\n      <td>133</td>\n      <td>79</td>\n      <td>71</td>\n      <td>0.0</td>\n      <td>1.0</td>\n      <td>0.0</td>\n    </tr>\n    <tr>\n      <th>3</th>\n      <td>1/10</td>\n      <td>1/3</td>\n      <td>0.02</td>\n      <td>0.3</td>\n      <td>133</td>\n      <td>79</td>\n      <td>71</td>\n      <td>0.0</td>\n      <td>1.0</td>\n      <td>0.0</td>\n    </tr>\n    <tr>\n      <th>4</th>\n      <td>1/10</td>\n      <td>1/3</td>\n      <td>0.02</td>\n      <td>0.4</td>\n      <td>133</td>\n      <td>79</td>\n      <td>71</td>\n      <td>0.0</td>\n      <td>1.0</td>\n      <td>0.0</td>\n    </tr>\n    <tr>\n      <th>5</th>\n      <td>1/10</td>\n      <td>1/3</td>\n      <td>0.02</td>\n      <td>0.5</td>\n      <td>133</td>\n      <td>79</td>\n      <td>71</td>\n      <td>0.0</td>\n      <td>0.99</td>\n      <td>0.01</td>\n    </tr>\n    <tr>\n      <th>6</th>\n      <td>1/10</td>\n      <td>1/3</td>\n      <td>0.02</td>\n      <td>0.6</td>\n      <td>133</td>\n      <td>79</td>\n      <td>71</td>\n      <td>0.0</td>\n      <td>0.955</td>\n      <td>0.045</td>\n    </tr>\n    <tr>\n      <th>7</th>\n      <td>1/10</td>\n      <td>1/3</td>\n      <td>0.02</td>\n      <td>0.7</td>\n      <td>133</td>\n      <td>79</td>\n      <td>71</td>\n      <td>0.035</td>\n      <td>0.85</td>\n      <td>0.15</td>\n    </tr>\n    <tr>\n      <th>8</th>\n      <td>1/10</td>\n      <td>1/4</td>\n      <td>0.02</td>\n      <td>0.0</td>\n      <td>133</td>\n      <td>79</td>\n      <td>71</td>\n      <td>0.0</td>\n      <td>1.0</td>\n      <td>0.0</td>\n    </tr>\n    <tr>\n      <th>9</th>\n      <td>1/10</td>\n      <td>1/4</td>\n      <td>0.02</td>\n      <td>0.1</td>\n      <td>133</td>\n      <td>79</td>\n      <td>71</td>\n      <td>0.0</td>\n      <td>1.0</td>\n      <td>0.0</td>\n    </tr>\n    <tr>\n      <th>10</th>\n      <td>1/10</td>\n      <td>1/4</td>\n      <td>0.02</td>\n      <td>0.2</td>\n      <td>133</td>\n      <td>79</td>\n      <td>71</td>\n      <td>0.0</td>\n      <td>1.0</td>\n      <td>0.0</td>\n    </tr>\n    <tr>\n      <th>11</th>\n      <td>1/10</td>\n      <td>1/4</td>\n      <td>0.02</td>\n      <td>0.3</td>\n      <td>133</td>\n      <td>79</td>\n      <td>71</td>\n      <td>0.0</td>\n      <td>1.0</td>\n      <td>0.0</td>\n    </tr>\n    <tr>\n      <th>12</th>\n      <td>1/10</td>\n      <td>1/4</td>\n      <td>0.02</td>\n      <td>0.4</td>\n      <td>133</td>\n      <td>79</td>\n      <td>71</td>\n      <td>0.0</td>\n      <td>0.995</td>\n      <td>0.005</td>\n    </tr>\n    <tr>\n      <th>13</th>\n      <td>1/10</td>\n      <td>1/4</td>\n      <td>0.02</td>\n      <td>0.5</td>\n      <td>133</td>\n      <td>79</td>\n      <td>71</td>\n      <td>0.0</td>\n      <td>0.98</td>\n      <td>0.02</td>\n    </tr>\n    <tr>\n      <th>14</th>\n      <td>1/10</td>\n      <td>1/4</td>\n      <td>0.02</td>\n      <td>0.6</td>\n      <td>133</td>\n      <td>79</td>\n      <td>71</td>\n      <td>0.0</td>\n      <td>0.94</td>\n      <td>0.06</td>\n    </tr>\n    <tr>\n      <th>15</th>\n      <td>1/10</td>\n      <td>1/4</td>\n      <td>0.02</td>\n      <td>0.7</td>\n      <td>133</td>\n      <td>79</td>\n      <td>71</td>\n      <td>0.035</td>\n      <td>0.845</td>\n      <td>0.155</td>\n    </tr>\n    <tr>\n      <th>16</th>\n      <td>1/10</td>\n      <td>1/5</td>\n      <td>0.02</td>\n      <td>0.0</td>\n      <td>133</td>\n      <td>79</td>\n      <td>71</td>\n      <td>0.0</td>\n      <td>1.0</td>\n      <td>0.0</td>\n    </tr>\n    <tr>\n      <th>17</th>\n      <td>1/10</td>\n      <td>1/5</td>\n      <td>0.02</td>\n      <td>0.1</td>\n      <td>133</td>\n      <td>79</td>\n      <td>71</td>\n      <td>0.0</td>\n      <td>1.0</td>\n      <td>0.0</td>\n    </tr>\n    <tr>\n      <th>18</th>\n      <td>1/10</td>\n      <td>1/5</td>\n      <td>0.02</td>\n      <td>0.2</td>\n      <td>133</td>\n      <td>79</td>\n      <td>71</td>\n      <td>0.0</td>\n      <td>1.0</td>\n      <td>0.0</td>\n    </tr>\n    <tr>\n      <th>19</th>\n      <td>1/10</td>\n      <td>1/5</td>\n      <td>0.02</td>\n      <td>0.3</td>\n      <td>133</td>\n      <td>79</td>\n      <td>71</td>\n      <td>0.0</td>\n      <td>1.0</td>\n      <td>0.0</td>\n    </tr>\n    <tr>\n      <th>20</th>\n      <td>1/10</td>\n      <td>1/5</td>\n      <td>0.02</td>\n      <td>0.4</td>\n      <td>133</td>\n      <td>79</td>\n      <td>71</td>\n      <td>0.0</td>\n      <td>1.0</td>\n      <td>0.0</td>\n    </tr>\n    <tr>\n      <th>21</th>\n      <td>1/10</td>\n      <td>1/5</td>\n      <td>0.02</td>\n      <td>0.5</td>\n      <td>133</td>\n      <td>79</td>\n      <td>71</td>\n      <td>0.0</td>\n      <td>0.99</td>\n      <td>0.01</td>\n    </tr>\n    <tr>\n      <th>22</th>\n      <td>1/10</td>\n      <td>1/5</td>\n      <td>0.02</td>\n      <td>0.6</td>\n      <td>133</td>\n      <td>79</td>\n      <td>71</td>\n      <td>0.0</td>\n      <td>0.935</td>\n      <td>0.065</td>\n    </tr>\n    <tr>\n      <th>23</th>\n      <td>1/10</td>\n      <td>1/5</td>\n      <td>0.02</td>\n      <td>0.7</td>\n      <td>133</td>\n      <td>79</td>\n      <td>71</td>\n      <td>0.035</td>\n      <td>0.87</td>\n      <td>0.13</td>\n    </tr>\n    <tr>\n      <th>24</th>\n      <td>1/10</td>\n      <td>1/6</td>\n      <td>0.02</td>\n      <td>0.0</td>\n      <td>133</td>\n      <td>79</td>\n      <td>71</td>\n      <td>0.0</td>\n      <td>1.0</td>\n      <td>0.0</td>\n    </tr>\n    <tr>\n      <th>25</th>\n      <td>1/10</td>\n      <td>1/6</td>\n      <td>0.02</td>\n      <td>0.1</td>\n      <td>133</td>\n      <td>79</td>\n      <td>71</td>\n      <td>0.0</td>\n      <td>1.0</td>\n      <td>0.0</td>\n    </tr>\n    <tr>\n      <th>26</th>\n      <td>1/10</td>\n      <td>1/6</td>\n      <td>0.02</td>\n      <td>0.2</td>\n      <td>133</td>\n      <td>79</td>\n      <td>71</td>\n      <td>0.0</td>\n      <td>1.0</td>\n      <td>0.0</td>\n    </tr>\n    <tr>\n      <th>27</th>\n      <td>1/10</td>\n      <td>1/6</td>\n      <td>0.02</td>\n      <td>0.3</td>\n      <td>133</td>\n      <td>79</td>\n      <td>71</td>\n      <td>0.0</td>\n      <td>1.0</td>\n      <td>0.0</td>\n    </tr>\n    <tr>\n      <th>28</th>\n      <td>1/10</td>\n      <td>1/6</td>\n      <td>0.02</td>\n      <td>0.4</td>\n      <td>133</td>\n      <td>79</td>\n      <td>71</td>\n      <td>0.0</td>\n      <td>0.995</td>\n      <td>0.005</td>\n    </tr>\n    <tr>\n      <th>29</th>\n      <td>1/10</td>\n      <td>1/6</td>\n      <td>0.02</td>\n      <td>0.5</td>\n      <td>133</td>\n      <td>79</td>\n      <td>71</td>\n      <td>0.0</td>\n      <td>0.995</td>\n      <td>0.005</td>\n    </tr>\n    <tr>\n      <th>30</th>\n      <td>1/10</td>\n      <td>1/6</td>\n      <td>0.02</td>\n      <td>0.6</td>\n      <td>133</td>\n      <td>79</td>\n      <td>71</td>\n      <td>0.0</td>\n      <td>0.955</td>\n      <td>0.045</td>\n    </tr>\n    <tr>\n      <th>31</th>\n      <td>1/10</td>\n      <td>1/6</td>\n      <td>0.02</td>\n      <td>0.7</td>\n      <td>133</td>\n      <td>79</td>\n      <td>71</td>\n      <td>0.035</td>\n      <td>0.87</td>\n      <td>0.13</td>\n    </tr>\n    <tr>\n      <th>32</th>\n      <td>1/10</td>\n      <td>1/7</td>\n      <td>0.02</td>\n      <td>0.0</td>\n      <td>133</td>\n      <td>79</td>\n      <td>71</td>\n      <td>0.0</td>\n      <td>1.0</td>\n      <td>0.0</td>\n    </tr>\n    <tr>\n      <th>33</th>\n      <td>1/10</td>\n      <td>1/7</td>\n      <td>0.02</td>\n      <td>0.1</td>\n      <td>133</td>\n      <td>79</td>\n      <td>71</td>\n      <td>0.0</td>\n      <td>1.0</td>\n      <td>0.0</td>\n    </tr>\n    <tr>\n      <th>34</th>\n      <td>1/10</td>\n      <td>1/7</td>\n      <td>0.02</td>\n      <td>0.2</td>\n      <td>133</td>\n      <td>79</td>\n      <td>71</td>\n      <td>0.0</td>\n      <td>1.0</td>\n      <td>0.0</td>\n    </tr>\n    <tr>\n      <th>35</th>\n      <td>1/10</td>\n      <td>1/7</td>\n      <td>0.02</td>\n      <td>0.3</td>\n      <td>133</td>\n      <td>79</td>\n      <td>71</td>\n      <td>0.0</td>\n      <td>1.0</td>\n      <td>0.0</td>\n    </tr>\n    <tr>\n      <th>36</th>\n      <td>1/10</td>\n      <td>1/7</td>\n      <td>0.02</td>\n      <td>0.4</td>\n      <td>133</td>\n      <td>79</td>\n      <td>71</td>\n      <td>0.0</td>\n      <td>0.99</td>\n      <td>0.01</td>\n    </tr>\n    <tr>\n      <th>37</th>\n      <td>1/10</td>\n      <td>1/7</td>\n      <td>0.02</td>\n      <td>0.5</td>\n      <td>133</td>\n      <td>79</td>\n      <td>71</td>\n      <td>0.0</td>\n      <td>0.945</td>\n      <td>0.055</td>\n    </tr>\n    <tr>\n      <th>38</th>\n      <td>1/10</td>\n      <td>1/7</td>\n      <td>0.02</td>\n      <td>0.6</td>\n      <td>133</td>\n      <td>79</td>\n      <td>71</td>\n      <td>0.01</td>\n      <td>0.94</td>\n      <td>0.06</td>\n    </tr>\n    <tr>\n      <th>39</th>\n      <td>1/10</td>\n      <td>1/7</td>\n      <td>0.02</td>\n      <td>0.7</td>\n      <td>133</td>\n      <td>79</td>\n      <td>71</td>\n      <td>0.025</td>\n      <td>0.88</td>\n      <td>0.12</td>\n    </tr>\n    <tr>\n      <th>40</th>\n      <td>1/10</td>\n      <td>1/8</td>\n      <td>0.02</td>\n      <td>0.0</td>\n      <td>133</td>\n      <td>79</td>\n      <td>71</td>\n      <td>0.0</td>\n      <td>1.0</td>\n      <td>0.0</td>\n    </tr>\n    <tr>\n      <th>41</th>\n      <td>1/10</td>\n      <td>1/8</td>\n      <td>0.02</td>\n      <td>0.1</td>\n      <td>133</td>\n      <td>79</td>\n      <td>71</td>\n      <td>0.0</td>\n      <td>1.0</td>\n      <td>0.0</td>\n    </tr>\n    <tr>\n      <th>42</th>\n      <td>1/10</td>\n      <td>1/8</td>\n      <td>0.02</td>\n      <td>0.2</td>\n      <td>133</td>\n      <td>79</td>\n      <td>71</td>\n      <td>0.0</td>\n      <td>1.0</td>\n      <td>0.0</td>\n    </tr>\n    <tr>\n      <th>43</th>\n      <td>1/10</td>\n      <td>1/8</td>\n      <td>0.02</td>\n      <td>0.3</td>\n      <td>133</td>\n      <td>79</td>\n      <td>71</td>\n      <td>0.0</td>\n      <td>0.99</td>\n      <td>0.01</td>\n    </tr>\n    <tr>\n      <th>44</th>\n      <td>1/10</td>\n      <td>1/8</td>\n      <td>0.02</td>\n      <td>0.4</td>\n      <td>133</td>\n      <td>79</td>\n      <td>71</td>\n      <td>0.0</td>\n      <td>0.915</td>\n      <td>0.085</td>\n    </tr>\n    <tr>\n      <th>45</th>\n      <td>1/10</td>\n      <td>1/8</td>\n      <td>0.02</td>\n      <td>0.5</td>\n      <td>133</td>\n      <td>79</td>\n      <td>71</td>\n      <td>0.0</td>\n      <td>0.855</td>\n      <td>0.145</td>\n    </tr>\n    <tr>\n      <th>46</th>\n      <td>1/10</td>\n      <td>1/8</td>\n      <td>0.02</td>\n      <td>0.6</td>\n      <td>133</td>\n      <td>79</td>\n      <td>71</td>\n      <td>0.01</td>\n      <td>0.79</td>\n      <td>0.21</td>\n    </tr>\n    <tr>\n      <th>47</th>\n      <td>1/10</td>\n      <td>1/8</td>\n      <td>0.02</td>\n      <td>0.7</td>\n      <td>133</td>\n      <td>79</td>\n      <td>71</td>\n      <td>0.025</td>\n      <td>0.785</td>\n      <td>0.215</td>\n    </tr>\n    <tr>\n      <th>48</th>\n      <td>1/10</td>\n      <td>1/9</td>\n      <td>0.02</td>\n      <td>0.0</td>\n      <td>133</td>\n      <td>79</td>\n      <td>71</td>\n      <td>0.0</td>\n      <td>1.0</td>\n      <td>0.0</td>\n    </tr>\n    <tr>\n      <th>49</th>\n      <td>1/10</td>\n      <td>1/9</td>\n      <td>0.02</td>\n      <td>0.1</td>\n      <td>133</td>\n      <td>79</td>\n      <td>71</td>\n      <td>0.0</td>\n      <td>1.0</td>\n      <td>0.0</td>\n    </tr>\n    <tr>\n      <th>50</th>\n      <td>1/10</td>\n      <td>1/9</td>\n      <td>0.02</td>\n      <td>0.2</td>\n      <td>133</td>\n      <td>79</td>\n      <td>71</td>\n      <td>0.0</td>\n      <td>1.0</td>\n      <td>0.0</td>\n    </tr>\n    <tr>\n      <th>51</th>\n      <td>1/10</td>\n      <td>1/9</td>\n      <td>0.02</td>\n      <td>0.3</td>\n      <td>133</td>\n      <td>79</td>\n      <td>71</td>\n      <td>0.0</td>\n      <td>1.0</td>\n      <td>0.0</td>\n    </tr>\n    <tr>\n      <th>52</th>\n      <td>1/10</td>\n      <td>1/9</td>\n      <td>0.02</td>\n      <td>0.4</td>\n      <td>133</td>\n      <td>79</td>\n      <td>71</td>\n      <td>0.0</td>\n      <td>1.0</td>\n      <td>0.0</td>\n    </tr>\n    <tr>\n      <th>53</th>\n      <td>1/10</td>\n      <td>1/9</td>\n      <td>0.02</td>\n      <td>0.5</td>\n      <td>133</td>\n      <td>79</td>\n      <td>71</td>\n      <td>0.0</td>\n      <td>1.0</td>\n      <td>0.0</td>\n    </tr>\n    <tr>\n      <th>54</th>\n      <td>1/10</td>\n      <td>1/9</td>\n      <td>0.02</td>\n      <td>0.6</td>\n      <td>133</td>\n      <td>79</td>\n      <td>71</td>\n      <td>0.01</td>\n      <td>1.0</td>\n      <td>0.0</td>\n    </tr>\n    <tr>\n      <th>55</th>\n      <td>1/10</td>\n      <td>1/9</td>\n      <td>0.02</td>\n      <td>0.7</td>\n      <td>133</td>\n      <td>79</td>\n      <td>71</td>\n      <td>0.025</td>\n      <td>1.0</td>\n      <td>0.0</td>\n    </tr>\n  </tbody>\n</table>\n</div>"
     },
     "execution_count": 20,
     "metadata": {},
     "output_type": "execute_result"
    }
   ],
   "source": [
    "results"
   ],
   "metadata": {
    "collapsed": false,
    "pycharm": {
     "name": "#%%\n"
    }
   }
  },
  {
   "cell_type": "code",
   "execution_count": 60,
   "outputs": [],
   "source": [
    "results.to_csv('results_extended_k=30.csv', index=False)"
   ],
   "metadata": {
    "collapsed": false,
    "pycharm": {
     "name": "#%%\n"
    }
   }
  },
  {
   "cell_type": "code",
   "execution_count": 3,
   "outputs": [],
   "source": [
    "from copy import deepcopy\n",
    "\n",
    "def prepare_to_latex(dataframe):\n",
    "    res = deepcopy(dataframe)\n",
    "\n",
    "    def parse_str(col):\n",
    "        formatted_col = []\n",
    "        for el in col:\n",
    "            if isinstance(el, str):\n",
    "                numer, denom = el.split('/')\n",
    "                formatted_col.append(np.round(int(numer)/float(denom), 3))\n",
    "            else:\n",
    "                formatted_col.append(el)\n",
    "        return formatted_col\n",
    "\n",
    "    res = res.apply(lambda x: parse_str(x), axis=0)\n",
    "    return res"
   ],
   "metadata": {
    "collapsed": false,
    "pycharm": {
     "name": "#%%\n"
    }
   }
  },
  {
   "cell_type": "markdown",
   "source": [
    "# k = 15"
   ],
   "metadata": {
    "collapsed": false,
    "pycharm": {
     "name": "#%% md\n"
    }
   }
  },
  {
   "cell_type": "code",
   "execution_count": 4,
   "outputs": [],
   "source": [
    "column_names = ['\\omega_1', '\\omega_2', '\\delta_min', '\\sigma', 'B', 'T', 'L', 'FPR', 'TPR', 'FNR']\n",
    "results_k15 = pd.DataFrame(columns=column_names)"
   ],
   "metadata": {
    "collapsed": false,
    "pycharm": {
     "name": "#%%\n"
    }
   }
  },
  {
   "cell_type": "code",
   "execution_count": 5,
   "outputs": [
    {
     "data": {
      "text/plain": "Итерации для разных знаменателей:   0%|          | 0/6 [00:00<?, ?it/s]",
      "application/vnd.jupyter.widget-view+json": {
       "version_major": 2,
       "version_minor": 0,
       "model_id": "30088995308d47409635d5ede4e5159c"
      }
     },
     "metadata": {},
     "output_type": "display_data"
    },
    {
     "data": {
      "text/plain": "Итерации для разных sigma:   0%|          | 0/8 [00:00<?, ?it/s]",
      "application/vnd.jupyter.widget-view+json": {
       "version_major": 2,
       "version_minor": 0,
       "model_id": "7ec11241b6db43df889bb035a3698d98"
      }
     },
     "metadata": {},
     "output_type": "display_data"
    },
    {
     "data": {
      "text/plain": "Моделирование для sigma = 0.0:   0%|          | 0/200 [00:00<?, ?it/s]",
      "application/vnd.jupyter.widget-view+json": {
       "version_major": 2,
       "version_minor": 0,
       "model_id": "5fe5733b5db34cd38888faba70e882e5"
      }
     },
     "metadata": {},
     "output_type": "display_data"
    },
    {
     "data": {
      "text/plain": "Моделирование для sigma = 0.1:   0%|          | 0/200 [00:00<?, ?it/s]",
      "application/vnd.jupyter.widget-view+json": {
       "version_major": 2,
       "version_minor": 0,
       "model_id": "a1c6c7598afb45058e950279fc655573"
      }
     },
     "metadata": {},
     "output_type": "display_data"
    },
    {
     "data": {
      "text/plain": "Моделирование для sigma = 0.2:   0%|          | 0/200 [00:00<?, ?it/s]",
      "application/vnd.jupyter.widget-view+json": {
       "version_major": 2,
       "version_minor": 0,
       "model_id": "a9eb79ad1b0941508fc24c8c4a773248"
      }
     },
     "metadata": {},
     "output_type": "display_data"
    },
    {
     "data": {
      "text/plain": "Моделирование для sigma = 0.30000000000000004:   0%|          | 0/200 [00:00<?, ?it/s]",
      "application/vnd.jupyter.widget-view+json": {
       "version_major": 2,
       "version_minor": 0,
       "model_id": "d7fe5e0efbd7451e80a4ace26effd93d"
      }
     },
     "metadata": {},
     "output_type": "display_data"
    },
    {
     "data": {
      "text/plain": "Моделирование для sigma = 0.4:   0%|          | 0/200 [00:00<?, ?it/s]",
      "application/vnd.jupyter.widget-view+json": {
       "version_major": 2,
       "version_minor": 0,
       "model_id": "9897201b62054e57a9c1c0185e217751"
      }
     },
     "metadata": {},
     "output_type": "display_data"
    },
    {
     "data": {
      "text/plain": "Моделирование для sigma = 0.5:   0%|          | 0/200 [00:00<?, ?it/s]",
      "application/vnd.jupyter.widget-view+json": {
       "version_major": 2,
       "version_minor": 0,
       "model_id": "05d1b7b16df54da8b946a329443c8f5c"
      }
     },
     "metadata": {},
     "output_type": "display_data"
    },
    {
     "data": {
      "text/plain": "Моделирование для sigma = 0.6000000000000001:   0%|          | 0/200 [00:00<?, ?it/s]",
      "application/vnd.jupyter.widget-view+json": {
       "version_major": 2,
       "version_minor": 0,
       "model_id": "a5648de12dec4c8183e3de81ffdf255c"
      }
     },
     "metadata": {},
     "output_type": "display_data"
    },
    {
     "data": {
      "text/plain": "Моделирование для sigma = 0.7000000000000001:   0%|          | 0/200 [00:00<?, ?it/s]",
      "application/vnd.jupyter.widget-view+json": {
       "version_major": 2,
       "version_minor": 0,
       "model_id": "853b67381945491b81b2f4c799473bbe"
      }
     },
     "metadata": {},
     "output_type": "display_data"
    },
    {
     "data": {
      "text/plain": "Итерации для разных sigma:   0%|          | 0/8 [00:00<?, ?it/s]",
      "application/vnd.jupyter.widget-view+json": {
       "version_major": 2,
       "version_minor": 0,
       "model_id": "06d47e5a69c3412da1fe0447d33acc1c"
      }
     },
     "metadata": {},
     "output_type": "display_data"
    },
    {
     "data": {
      "text/plain": "Моделирование для sigma = 0.0:   0%|          | 0/200 [00:00<?, ?it/s]",
      "application/vnd.jupyter.widget-view+json": {
       "version_major": 2,
       "version_minor": 0,
       "model_id": "5d134648b1424a75bcf108a35ba01c85"
      }
     },
     "metadata": {},
     "output_type": "display_data"
    },
    {
     "data": {
      "text/plain": "Моделирование для sigma = 0.1:   0%|          | 0/200 [00:00<?, ?it/s]",
      "application/vnd.jupyter.widget-view+json": {
       "version_major": 2,
       "version_minor": 0,
       "model_id": "7c31eddd965340e1a773d16b427c6928"
      }
     },
     "metadata": {},
     "output_type": "display_data"
    },
    {
     "data": {
      "text/plain": "Моделирование для sigma = 0.2:   0%|          | 0/200 [00:00<?, ?it/s]",
      "application/vnd.jupyter.widget-view+json": {
       "version_major": 2,
       "version_minor": 0,
       "model_id": "2e5091ab15fc40d991e95b6884bdce08"
      }
     },
     "metadata": {},
     "output_type": "display_data"
    },
    {
     "data": {
      "text/plain": "Моделирование для sigma = 0.30000000000000004:   0%|          | 0/200 [00:00<?, ?it/s]",
      "application/vnd.jupyter.widget-view+json": {
       "version_major": 2,
       "version_minor": 0,
       "model_id": "0e5d604516a44f05b1c49b2edf980b9d"
      }
     },
     "metadata": {},
     "output_type": "display_data"
    },
    {
     "data": {
      "text/plain": "Моделирование для sigma = 0.4:   0%|          | 0/200 [00:00<?, ?it/s]",
      "application/vnd.jupyter.widget-view+json": {
       "version_major": 2,
       "version_minor": 0,
       "model_id": "e71b85b00d684832b553681b5edc3dc2"
      }
     },
     "metadata": {},
     "output_type": "display_data"
    },
    {
     "data": {
      "text/plain": "Моделирование для sigma = 0.5:   0%|          | 0/200 [00:00<?, ?it/s]",
      "application/vnd.jupyter.widget-view+json": {
       "version_major": 2,
       "version_minor": 0,
       "model_id": "66baf1154a1545d393c0978e6c2a0795"
      }
     },
     "metadata": {},
     "output_type": "display_data"
    },
    {
     "data": {
      "text/plain": "Моделирование для sigma = 0.6000000000000001:   0%|          | 0/200 [00:00<?, ?it/s]",
      "application/vnd.jupyter.widget-view+json": {
       "version_major": 2,
       "version_minor": 0,
       "model_id": "32f42318d6344062b68032682a6f04bd"
      }
     },
     "metadata": {},
     "output_type": "display_data"
    },
    {
     "data": {
      "text/plain": "Моделирование для sigma = 0.7000000000000001:   0%|          | 0/200 [00:00<?, ?it/s]",
      "application/vnd.jupyter.widget-view+json": {
       "version_major": 2,
       "version_minor": 0,
       "model_id": "c8ca0cae563d49c5a19a90e35c6547bb"
      }
     },
     "metadata": {},
     "output_type": "display_data"
    },
    {
     "data": {
      "text/plain": "Итерации для разных sigma:   0%|          | 0/8 [00:00<?, ?it/s]",
      "application/vnd.jupyter.widget-view+json": {
       "version_major": 2,
       "version_minor": 0,
       "model_id": "8df9d838a68849ff8c0ba232123aeac5"
      }
     },
     "metadata": {},
     "output_type": "display_data"
    },
    {
     "data": {
      "text/plain": "Моделирование для sigma = 0.0:   0%|          | 0/200 [00:00<?, ?it/s]",
      "application/vnd.jupyter.widget-view+json": {
       "version_major": 2,
       "version_minor": 0,
       "model_id": "967ce72100834593831d931767e60567"
      }
     },
     "metadata": {},
     "output_type": "display_data"
    },
    {
     "data": {
      "text/plain": "Моделирование для sigma = 0.1:   0%|          | 0/200 [00:00<?, ?it/s]",
      "application/vnd.jupyter.widget-view+json": {
       "version_major": 2,
       "version_minor": 0,
       "model_id": "26c97f53b0c843579fe1d18431e87923"
      }
     },
     "metadata": {},
     "output_type": "display_data"
    },
    {
     "data": {
      "text/plain": "Моделирование для sigma = 0.2:   0%|          | 0/200 [00:00<?, ?it/s]",
      "application/vnd.jupyter.widget-view+json": {
       "version_major": 2,
       "version_minor": 0,
       "model_id": "2d8d51571418410f8c45b00bf610e994"
      }
     },
     "metadata": {},
     "output_type": "display_data"
    },
    {
     "data": {
      "text/plain": "Моделирование для sigma = 0.30000000000000004:   0%|          | 0/200 [00:00<?, ?it/s]",
      "application/vnd.jupyter.widget-view+json": {
       "version_major": 2,
       "version_minor": 0,
       "model_id": "0a906ec73e074502bfd65044d72fea6b"
      }
     },
     "metadata": {},
     "output_type": "display_data"
    },
    {
     "data": {
      "text/plain": "Моделирование для sigma = 0.4:   0%|          | 0/200 [00:00<?, ?it/s]",
      "application/vnd.jupyter.widget-view+json": {
       "version_major": 2,
       "version_minor": 0,
       "model_id": "a968a816e1bd44c0844f1f7318ed3732"
      }
     },
     "metadata": {},
     "output_type": "display_data"
    },
    {
     "data": {
      "text/plain": "Моделирование для sigma = 0.5:   0%|          | 0/200 [00:00<?, ?it/s]",
      "application/vnd.jupyter.widget-view+json": {
       "version_major": 2,
       "version_minor": 0,
       "model_id": "924cc20de5f640acb40341e925c3bce4"
      }
     },
     "metadata": {},
     "output_type": "display_data"
    },
    {
     "data": {
      "text/plain": "Моделирование для sigma = 0.6000000000000001:   0%|          | 0/200 [00:00<?, ?it/s]",
      "application/vnd.jupyter.widget-view+json": {
       "version_major": 2,
       "version_minor": 0,
       "model_id": "73e14ab88e9e490486be85c14a974bff"
      }
     },
     "metadata": {},
     "output_type": "display_data"
    },
    {
     "data": {
      "text/plain": "Моделирование для sigma = 0.7000000000000001:   0%|          | 0/200 [00:00<?, ?it/s]",
      "application/vnd.jupyter.widget-view+json": {
       "version_major": 2,
       "version_minor": 0,
       "model_id": "1f59827959e94f82a8e6b3f341e12d73"
      }
     },
     "metadata": {},
     "output_type": "display_data"
    },
    {
     "data": {
      "text/plain": "Итерации для разных sigma:   0%|          | 0/8 [00:00<?, ?it/s]",
      "application/vnd.jupyter.widget-view+json": {
       "version_major": 2,
       "version_minor": 0,
       "model_id": "4fa76888d53f46b6ab8aa56967fd093e"
      }
     },
     "metadata": {},
     "output_type": "display_data"
    },
    {
     "data": {
      "text/plain": "Моделирование для sigma = 0.0:   0%|          | 0/200 [00:00<?, ?it/s]",
      "application/vnd.jupyter.widget-view+json": {
       "version_major": 2,
       "version_minor": 0,
       "model_id": "8aebc95f0d354d9b865b479dfd56db01"
      }
     },
     "metadata": {},
     "output_type": "display_data"
    },
    {
     "data": {
      "text/plain": "Моделирование для sigma = 0.1:   0%|          | 0/200 [00:00<?, ?it/s]",
      "application/vnd.jupyter.widget-view+json": {
       "version_major": 2,
       "version_minor": 0,
       "model_id": "3df5e93f16d34d5292325628f9b5a5b9"
      }
     },
     "metadata": {},
     "output_type": "display_data"
    },
    {
     "data": {
      "text/plain": "Моделирование для sigma = 0.2:   0%|          | 0/200 [00:00<?, ?it/s]",
      "application/vnd.jupyter.widget-view+json": {
       "version_major": 2,
       "version_minor": 0,
       "model_id": "b65eb92fa9b84b9eae7ce8eb93d111f4"
      }
     },
     "metadata": {},
     "output_type": "display_data"
    },
    {
     "data": {
      "text/plain": "Моделирование для sigma = 0.30000000000000004:   0%|          | 0/200 [00:00<?, ?it/s]",
      "application/vnd.jupyter.widget-view+json": {
       "version_major": 2,
       "version_minor": 0,
       "model_id": "b93cd887935d4a739eed3c1d0afb8d99"
      }
     },
     "metadata": {},
     "output_type": "display_data"
    },
    {
     "data": {
      "text/plain": "Моделирование для sigma = 0.4:   0%|          | 0/200 [00:00<?, ?it/s]",
      "application/vnd.jupyter.widget-view+json": {
       "version_major": 2,
       "version_minor": 0,
       "model_id": "a9e9319cbaa74120bd98cc476980165c"
      }
     },
     "metadata": {},
     "output_type": "display_data"
    },
    {
     "data": {
      "text/plain": "Моделирование для sigma = 0.5:   0%|          | 0/200 [00:00<?, ?it/s]",
      "application/vnd.jupyter.widget-view+json": {
       "version_major": 2,
       "version_minor": 0,
       "model_id": "81e0204d6e2f4477bd6f06aa452a9b7c"
      }
     },
     "metadata": {},
     "output_type": "display_data"
    },
    {
     "data": {
      "text/plain": "Моделирование для sigma = 0.6000000000000001:   0%|          | 0/200 [00:00<?, ?it/s]",
      "application/vnd.jupyter.widget-view+json": {
       "version_major": 2,
       "version_minor": 0,
       "model_id": "5e9730d87b704164b940e6c7291dbd10"
      }
     },
     "metadata": {},
     "output_type": "display_data"
    },
    {
     "data": {
      "text/plain": "Моделирование для sigma = 0.7000000000000001:   0%|          | 0/200 [00:00<?, ?it/s]",
      "application/vnd.jupyter.widget-view+json": {
       "version_major": 2,
       "version_minor": 0,
       "model_id": "aadf0117771741658bbc9f6dc8721733"
      }
     },
     "metadata": {},
     "output_type": "display_data"
    },
    {
     "data": {
      "text/plain": "Итерации для разных sigma:   0%|          | 0/8 [00:00<?, ?it/s]",
      "application/vnd.jupyter.widget-view+json": {
       "version_major": 2,
       "version_minor": 0,
       "model_id": "6c1da7e233204a77850f4e71d1b8e171"
      }
     },
     "metadata": {},
     "output_type": "display_data"
    },
    {
     "data": {
      "text/plain": "Моделирование для sigma = 0.0:   0%|          | 0/200 [00:00<?, ?it/s]",
      "application/vnd.jupyter.widget-view+json": {
       "version_major": 2,
       "version_minor": 0,
       "model_id": "d028871a1e644dae86501fbeef172203"
      }
     },
     "metadata": {},
     "output_type": "display_data"
    },
    {
     "data": {
      "text/plain": "Моделирование для sigma = 0.1:   0%|          | 0/200 [00:00<?, ?it/s]",
      "application/vnd.jupyter.widget-view+json": {
       "version_major": 2,
       "version_minor": 0,
       "model_id": "34128cfdf699449ab70341e05b0559cc"
      }
     },
     "metadata": {},
     "output_type": "display_data"
    },
    {
     "data": {
      "text/plain": "Моделирование для sigma = 0.2:   0%|          | 0/200 [00:00<?, ?it/s]",
      "application/vnd.jupyter.widget-view+json": {
       "version_major": 2,
       "version_minor": 0,
       "model_id": "f42f194e89ed4eff81498e19c00f8190"
      }
     },
     "metadata": {},
     "output_type": "display_data"
    },
    {
     "data": {
      "text/plain": "Моделирование для sigma = 0.30000000000000004:   0%|          | 0/200 [00:00<?, ?it/s]",
      "application/vnd.jupyter.widget-view+json": {
       "version_major": 2,
       "version_minor": 0,
       "model_id": "275c0bdd29ae4c5781fde3e27db895c3"
      }
     },
     "metadata": {},
     "output_type": "display_data"
    },
    {
     "data": {
      "text/plain": "Моделирование для sigma = 0.4:   0%|          | 0/200 [00:00<?, ?it/s]",
      "application/vnd.jupyter.widget-view+json": {
       "version_major": 2,
       "version_minor": 0,
       "model_id": "eb15a96410484a2dabb80424128041d6"
      }
     },
     "metadata": {},
     "output_type": "display_data"
    },
    {
     "data": {
      "text/plain": "Моделирование для sigma = 0.5:   0%|          | 0/200 [00:00<?, ?it/s]",
      "application/vnd.jupyter.widget-view+json": {
       "version_major": 2,
       "version_minor": 0,
       "model_id": "3eab5abaa0fe47c79d68e08edb30e958"
      }
     },
     "metadata": {},
     "output_type": "display_data"
    },
    {
     "data": {
      "text/plain": "Моделирование для sigma = 0.6000000000000001:   0%|          | 0/200 [00:00<?, ?it/s]",
      "application/vnd.jupyter.widget-view+json": {
       "version_major": 2,
       "version_minor": 0,
       "model_id": "5cf0f19b8ce94e5e880ce0e84fd7ca27"
      }
     },
     "metadata": {},
     "output_type": "display_data"
    },
    {
     "data": {
      "text/plain": "Моделирование для sigma = 0.7000000000000001:   0%|          | 0/200 [00:00<?, ?it/s]",
      "application/vnd.jupyter.widget-view+json": {
       "version_major": 2,
       "version_minor": 0,
       "model_id": "6fe46935b0a5422fbb0d2dd9c34008e4"
      }
     },
     "metadata": {},
     "output_type": "display_data"
    },
    {
     "data": {
      "text/plain": "Итерации для разных sigma:   0%|          | 0/8 [00:00<?, ?it/s]",
      "application/vnd.jupyter.widget-view+json": {
       "version_major": 2,
       "version_minor": 0,
       "model_id": "929d027ace3b43a1aea91ffc74c1b97c"
      }
     },
     "metadata": {},
     "output_type": "display_data"
    },
    {
     "data": {
      "text/plain": "Моделирование для sigma = 0.0:   0%|          | 0/200 [00:00<?, ?it/s]",
      "application/vnd.jupyter.widget-view+json": {
       "version_major": 2,
       "version_minor": 0,
       "model_id": "4525ef66bd014e648059b0e03a08c824"
      }
     },
     "metadata": {},
     "output_type": "display_data"
    },
    {
     "data": {
      "text/plain": "Моделирование для sigma = 0.1:   0%|          | 0/200 [00:00<?, ?it/s]",
      "application/vnd.jupyter.widget-view+json": {
       "version_major": 2,
       "version_minor": 0,
       "model_id": "87549d3be03c445296161a975dfb9f74"
      }
     },
     "metadata": {},
     "output_type": "display_data"
    },
    {
     "data": {
      "text/plain": "Моделирование для sigma = 0.2:   0%|          | 0/200 [00:00<?, ?it/s]",
      "application/vnd.jupyter.widget-view+json": {
       "version_major": 2,
       "version_minor": 0,
       "model_id": "5afa2c116510496bb84531c5f5a47bb9"
      }
     },
     "metadata": {},
     "output_type": "display_data"
    },
    {
     "data": {
      "text/plain": "Моделирование для sigma = 0.30000000000000004:   0%|          | 0/200 [00:00<?, ?it/s]",
      "application/vnd.jupyter.widget-view+json": {
       "version_major": 2,
       "version_minor": 0,
       "model_id": "6efeb94f3eae4efd9ab593a9450ddb57"
      }
     },
     "metadata": {},
     "output_type": "display_data"
    },
    {
     "data": {
      "text/plain": "Моделирование для sigma = 0.4:   0%|          | 0/200 [00:00<?, ?it/s]",
      "application/vnd.jupyter.widget-view+json": {
       "version_major": 2,
       "version_minor": 0,
       "model_id": "bc0defa57cdd49698169ba569eab9510"
      }
     },
     "metadata": {},
     "output_type": "display_data"
    },
    {
     "data": {
      "text/plain": "Моделирование для sigma = 0.5:   0%|          | 0/200 [00:00<?, ?it/s]",
      "application/vnd.jupyter.widget-view+json": {
       "version_major": 2,
       "version_minor": 0,
       "model_id": "1b4c8e7d82cc4427b6941de1f8f46c36"
      }
     },
     "metadata": {},
     "output_type": "display_data"
    },
    {
     "data": {
      "text/plain": "Моделирование для sigma = 0.6000000000000001:   0%|          | 0/200 [00:00<?, ?it/s]",
      "application/vnd.jupyter.widget-view+json": {
       "version_major": 2,
       "version_minor": 0,
       "model_id": "10ce69fb7ca4400c838996ade6657f5f"
      }
     },
     "metadata": {},
     "output_type": "display_data"
    },
    {
     "data": {
      "text/plain": "Моделирование для sigma = 0.7000000000000001:   0%|          | 0/200 [00:00<?, ?it/s]",
      "application/vnd.jupyter.widget-view+json": {
       "version_major": 2,
       "version_minor": 0,
       "model_id": "228a8f4a7132443d9a23d03c8f27ba20"
      }
     },
     "metadata": {},
     "output_type": "display_data"
    },
    {
     "name": "stdout",
     "output_type": "stream",
     "text": [
      "CPU times: total: 4h 51min 49s\n",
      "Wall time: 4h 51min 59s\n"
     ]
    }
   ],
   "source": [
    "%%time\n",
    "\n",
    "w1 = 1/10\n",
    "w1_str = f\"1/10\"\n",
    "for denom in tqdm(range(3, 9), desc=\"Итерации для разных знаменателей\"):\n",
    "    w2 = 1/denom\n",
    "    w2_str = f\"1/{denom}\"\n",
    "    # sigma = 0.5\n",
    "\n",
    "    delta_min = 1/50\n",
    "    delta_min_str = \"1/50\"\n",
    "\n",
    "    k = 15\n",
    "    iter_num = 200\n",
    "\n",
    "    np.random.seed(1234567)\n",
    "    for sigma in tqdm(np.arange(0, 0.8, 0.1), desc=f\"Итерации для разных sigma\"):\n",
    "        fp = 0\n",
    "        fn = 0\n",
    "        tp = 0\n",
    "        for i in tqdm(range(iter_num), desc=f\"Моделирование для sigma = {sigma}\"):\n",
    "            series = generate_series(w1, w2, Q, N) + np.random.normal(scale=sigma, size=N)\n",
    "            system = System(series, k, delta_min)\n",
    "            Q_hat = system()\n",
    "            if Q_hat - Q < 0:\n",
    "                fp += 1\n",
    "            if Q_hat - Q > k:\n",
    "                fn += 1\n",
    "            if Q_hat - Q <= k:\n",
    "                tp += 1\n",
    "        fpr = fp / iter_num\n",
    "        fnr = fn / iter_num\n",
    "        tpr = tp / iter_num\n",
    "        results_k15 = results_k15.append(dict(zip(column_names, [w1_str, w2_str, delta_min, sigma, system.B, system.T, system.L, fpr, tpr, fnr])), ignore_index=True)"
   ],
   "metadata": {
    "collapsed": false,
    "pycharm": {
     "name": "#%%\n"
    }
   }
  },
  {
   "cell_type": "code",
   "execution_count": 6,
   "outputs": [],
   "source": [
    "results_k15.to_csv('results_extended_k=15.csv', index=False)"
   ],
   "metadata": {
    "collapsed": false,
    "pycharm": {
     "name": "#%%\n"
    }
   }
  },
  {
   "cell_type": "code",
   "execution_count": 11,
   "outputs": [
    {
     "name": "stdout",
     "output_type": "stream",
     "text": [
      "\\begin{tabular}{rrrrrrrrrr}\n",
      "\\toprule\n",
      " \\omega_1 &  \\omega_2 &  \\delta_min &  \\sigma &   B &  T &  L &   FPR &   TPR &   FNR \\\\\n",
      "\\midrule\n",
      "      0.1 &     0.333 &        0.02 &     0.0 & 133 & 79 & 71 & 0.000 & 1.000 & 0.000 \\\\\n",
      "      0.1 &     0.333 &        0.02 &     0.1 & 133 & 79 & 71 & 0.000 & 1.000 & 0.000 \\\\\n",
      "      0.1 &     0.333 &        0.02 &     0.2 & 133 & 79 & 71 & 0.000 & 1.000 & 0.000 \\\\\n",
      "      0.1 &     0.333 &        0.02 &     0.3 & 133 & 79 & 71 & 0.000 & 0.995 & 0.005 \\\\\n",
      "      0.1 &     0.333 &        0.02 &     0.4 & 133 & 79 & 71 & 0.000 & 0.895 & 0.105 \\\\\n",
      "      0.1 &     0.333 &        0.02 &     0.5 & 133 & 79 & 71 & 0.040 & 0.785 & 0.215 \\\\\n",
      "      0.1 &     0.333 &        0.02 &     0.6 & 133 & 79 & 71 & 0.195 & 0.755 & 0.245 \\\\\n",
      "      0.1 &     0.333 &        0.02 &     0.7 & 133 & 79 & 71 & 0.330 & 0.700 & 0.300 \\\\\n",
      "      0.1 &     0.250 &        0.02 &     0.0 & 133 & 79 & 71 & 0.000 & 1.000 & 0.000 \\\\\n",
      "      0.1 &     0.250 &        0.02 &     0.1 & 133 & 79 & 71 & 0.000 & 1.000 & 0.000 \\\\\n",
      "      0.1 &     0.250 &        0.02 &     0.2 & 133 & 79 & 71 & 0.000 & 1.000 & 0.000 \\\\\n",
      "      0.1 &     0.250 &        0.02 &     0.3 & 133 & 79 & 71 & 0.000 & 0.980 & 0.020 \\\\\n",
      "      0.1 &     0.250 &        0.02 &     0.4 & 133 & 79 & 71 & 0.000 & 0.870 & 0.130 \\\\\n",
      "      0.1 &     0.250 &        0.02 &     0.5 & 133 & 79 & 71 & 0.040 & 0.785 & 0.215 \\\\\n",
      "      0.1 &     0.250 &        0.02 &     0.6 & 133 & 79 & 71 & 0.195 & 0.695 & 0.305 \\\\\n",
      "      0.1 &     0.250 &        0.02 &     0.7 & 133 & 79 & 71 & 0.330 & 0.695 & 0.305 \\\\\n",
      "      0.1 &     0.200 &        0.02 &     0.0 & 133 & 79 & 71 & 0.000 & 1.000 & 0.000 \\\\\n",
      "      0.1 &     0.200 &        0.02 &     0.1 & 133 & 79 & 71 & 0.000 & 1.000 & 0.000 \\\\\n",
      "      0.1 &     0.200 &        0.02 &     0.2 & 133 & 79 & 71 & 0.000 & 1.000 & 0.000 \\\\\n",
      "      0.1 &     0.200 &        0.02 &     0.3 & 133 & 79 & 71 & 0.000 & 0.980 & 0.020 \\\\\n",
      "      0.1 &     0.200 &        0.02 &     0.4 & 133 & 79 & 71 & 0.000 & 0.855 & 0.145 \\\\\n",
      "      0.1 &     0.200 &        0.02 &     0.5 & 133 & 79 & 71 & 0.040 & 0.760 & 0.240 \\\\\n",
      "      0.1 &     0.200 &        0.02 &     0.6 & 133 & 79 & 71 & 0.195 & 0.715 & 0.285 \\\\\n",
      "      0.1 &     0.200 &        0.02 &     0.7 & 133 & 79 & 71 & 0.330 & 0.695 & 0.305 \\\\\n",
      "      0.1 &     0.167 &        0.02 &     0.0 & 133 & 79 & 71 & 0.000 & 1.000 & 0.000 \\\\\n",
      "      0.1 &     0.167 &        0.02 &     0.1 & 133 & 79 & 71 & 0.000 & 1.000 & 0.000 \\\\\n",
      "      0.1 &     0.167 &        0.02 &     0.2 & 133 & 79 & 71 & 0.000 & 1.000 & 0.000 \\\\\n",
      "      0.1 &     0.167 &        0.02 &     0.3 & 133 & 79 & 71 & 0.000 & 0.995 & 0.005 \\\\\n",
      "      0.1 &     0.167 &        0.02 &     0.4 & 133 & 79 & 71 & 0.000 & 0.925 & 0.075 \\\\\n",
      "      0.1 &     0.167 &        0.02 &     0.5 & 133 & 79 & 71 & 0.040 & 0.860 & 0.140 \\\\\n",
      "      0.1 &     0.167 &        0.02 &     0.6 & 133 & 79 & 71 & 0.195 & 0.790 & 0.210 \\\\\n",
      "      0.1 &     0.167 &        0.02 &     0.7 & 133 & 79 & 71 & 0.330 & 0.750 & 0.250 \\\\\n",
      "      0.1 &     0.143 &        0.02 &     0.0 & 133 & 79 & 71 & 0.000 & 0.000 & 1.000 \\\\\n",
      "      0.1 &     0.143 &        0.02 &     0.1 & 133 & 79 & 71 & 0.000 & 0.250 & 0.750 \\\\\n",
      "      0.1 &     0.143 &        0.02 &     0.2 & 133 & 79 & 71 & 0.000 & 0.335 & 0.665 \\\\\n",
      "      0.1 &     0.143 &        0.02 &     0.3 & 133 & 79 & 71 & 0.000 & 0.325 & 0.675 \\\\\n",
      "      0.1 &     0.143 &        0.02 &     0.4 & 133 & 79 & 71 & 0.000 & 0.380 & 0.620 \\\\\n",
      "      0.1 &     0.143 &        0.02 &     0.5 & 133 & 79 & 71 & 0.040 & 0.340 & 0.660 \\\\\n",
      "      0.1 &     0.143 &        0.02 &     0.6 & 133 & 79 & 71 & 0.195 & 0.465 & 0.535 \\\\\n",
      "      0.1 &     0.143 &        0.02 &     0.7 & 133 & 79 & 71 & 0.330 & 0.500 & 0.500 \\\\\n",
      "      0.1 &     0.125 &        0.02 &     0.0 & 133 & 79 & 71 & 0.000 & 1.000 & 0.000 \\\\\n",
      "      0.1 &     0.125 &        0.02 &     0.1 & 133 & 79 & 71 & 0.000 & 1.000 & 0.000 \\\\\n",
      "      0.1 &     0.125 &        0.02 &     0.2 & 133 & 79 & 71 & 0.000 & 1.000 & 0.000 \\\\\n",
      "      0.1 &     0.125 &        0.02 &     0.3 & 133 & 79 & 71 & 0.000 & 1.000 & 0.000 \\\\\n",
      "      0.1 &     0.125 &        0.02 &     0.4 & 133 & 79 & 71 & 0.000 & 0.995 & 0.005 \\\\\n",
      "      0.1 &     0.125 &        0.02 &     0.5 & 133 & 79 & 71 & 0.040 & 0.960 & 0.040 \\\\\n",
      "      0.1 &     0.125 &        0.02 &     0.6 & 133 & 79 & 71 & 0.195 & 0.900 & 0.100 \\\\\n",
      "      0.1 &     0.125 &        0.02 &     0.7 & 133 & 79 & 71 & 0.330 & 0.860 & 0.140 \\\\\n",
      "\\bottomrule\n",
      "\\end{tabular}\n",
      "\n"
     ]
    }
   ],
   "source": [
    "results_k15_latex = prepare_to_latex(results_k15)\n",
    "print(results_k15_latex.to_latex(escape=False, index=False))"
   ],
   "metadata": {
    "collapsed": false,
    "pycharm": {
     "name": "#%%\n"
    }
   }
  },
  {
   "cell_type": "code",
   "execution_count": 21,
   "outputs": [
    {
     "data": {
      "text/plain": "<Figure size 1080x360 with 1 Axes>",
      "image/png": "[encoded data removed]"
     },
     "metadata": {
      "needs_background": "light"
     },
     "output_type": "display_data"
    }
   ],
   "source": [
    "delta_min = 1/50\n",
    "w2 = 1/7\n",
    "k=15\n",
    "np.random.seed(1234567)\n",
    "sigma=0.3\n",
    "series = generate_series(w1, w2, Q, N) + np.random.normal(scale=sigma, size=N)\n",
    "system = System(series, k, delta_min)\n",
    "Q_hat = system()\n",
    "print(Q_hat)\n",
    "\n",
    "row = system.row\n",
    "\n",
    "# Generate analytical approximation to row function\n",
    "initial_value = system.initial_value\n",
    "g_analytical = system.thresh\n",
    "\n",
    "\n",
    "approx = [initial_value for i in range(Q-system.T)]\n",
    "approx = [*approx, *g_analytical.transition_interval.tolist()]\n",
    "approx = [*approx, *[g_analytical.value_after_heterogeneity for i in range(len(row) - len(approx))]]\n",
    "\n",
    "\n",
    "\n",
    "X = np.arange(system.T, N)\n",
    "w_min_str = r'$\\omega_{min}$'\n",
    "plt.figure(figsize=(15, 5))\n",
    "plt.plot(X, row, label=r'$d_n$')\n",
    "plt.plot(X, approx, label=r'$a_n$')\n",
    "# plt.title(fr\"$\\omega_1$={w1}, $\\omega_2$={w_min_str}={w2}, L={L}, B={B}, T={T_}, $\\sigma^2={sigma_square}$\")\n",
    "plt.legend(loc='upper left')\n",
    "plt.ylim((-0.1, 1.1))\n",
    "plt.grid()\n",
    "plt.show()"
   ],
   "metadata": {
    "collapsed": false,
    "pycharm": {
     "name": "#%%\n"
    }
   }
  },
  {
   "cell_type": "markdown",
   "source": [
    "# k=45"
   ],
   "metadata": {
    "collapsed": false,
    "pycharm": {
     "name": "#%% md\n"
    }
   }
  },
  {
   "cell_type": "code",
   "execution_count": 22,
   "outputs": [],
   "source": [
    "column_names = ['\\omega_1', '\\omega_2', '\\delta_min', '\\sigma', 'B', 'T', 'L', 'FPR', 'TPR', 'FNR']\n",
    "results_k45 = pd.DataFrame(columns=column_names)"
   ],
   "metadata": {
    "collapsed": false,
    "pycharm": {
     "name": "#%%\n"
    }
   }
  },
  {
   "cell_type": "code",
   "execution_count": null,
   "outputs": [],
   "source": [
    "%%time\n",
    "\n",
    "w1 = 1/10\n",
    "w1_str = f\"1/10\"\n",
    "for denom in tqdm(range(3, 9), desc=\"Итерации для разных знаменателей\"):\n",
    "    w2 = 1/denom\n",
    "    w2_str = f\"1/{denom}\"\n",
    "    # sigma = 0.5\n",
    "\n",
    "    delta_min = 1/50\n",
    "    delta_min_str = \"1/50\"\n",
    "\n",
    "    k = 15\n",
    "    iter_num = 200\n",
    "\n",
    "    np.random.seed(1234567)\n",
    "    for sigma in tqdm(np.arange(0, 0.8, 0.1), desc=f\"Итерации для разных sigma, denom is {denom}\"):\n",
    "        fp = 0\n",
    "        fn = 0\n",
    "        tp = 0\n",
    "        for i in tqdm(range(iter_num), desc=f\"Моделирование для sigma = {sigma}\"):\n",
    "            series = generate_series(w1, w2, Q, N) + np.random.normal(scale=sigma, size=N)\n",
    "            system = System(series, k, delta_min)\n",
    "            Q_hat = system()\n",
    "            if Q_hat - Q < 0:\n",
    "                fp += 1\n",
    "            if Q_hat - Q > k:\n",
    "                fn += 1\n",
    "            if Q_hat - Q <= k:\n",
    "                tp += 1\n",
    "        fpr = fp / iter_num\n",
    "        fnr = fn / iter_num\n",
    "        tpr = tp / iter_num\n",
    "        results_k45 = results_k45.append(dict(zip(column_names, [w1_str, w2_str, delta_min, sigma, system.B, system.T, system.L, fpr, tpr, fnr])), ignore_index=True)"
   ],
   "metadata": {
    "collapsed": false,
    "pycharm": {
     "name": "#%%\n"
    }
   }
  },
  {
   "cell_type": "code",
   "execution_count": null,
   "outputs": [],
   "source": [
    "results_k45.to_csv('results_extended_k=45.csv', index=False)"
   ],
   "metadata": {
    "collapsed": false,
    "pycharm": {
     "name": "#%%\n"
    }
   }
  },
  {
   "cell_type": "code",
   "execution_count": null,
   "outputs": [],
   "source": [
    "results_k45_latex = prepare_to_latex(results_k45)\n",
    "print(results_k45_latex)"
   ],
   "metadata": {
    "collapsed": false,
    "pycharm": {
     "name": "#%%\n"
    }
   }
  }
 ],
 "metadata": {
  "kernelspec": {
   "display_name": "Python 3 (ipykernel)",
   "language": "python",
   "name": "python3"
  },
  "language_info": {
   "codemirror_mode": {
    "name": "ipython",
    "version": 3
   },
   "file_extension": ".py",
   "mimetype": "text/x-python",
   "name": "python",
   "nbconvert_exporter": "python",
   "pygments_lexer": "ipython3",
   "version": "3.9.7"
  }
 },
 "nbformat": 4,
 "nbformat_minor": 4
}