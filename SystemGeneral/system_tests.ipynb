{
 "cells": [
  {
   "cell_type": "code",
   "execution_count": 4,
   "metadata": {
    "collapsed": false,
    "jupyter": {
     "outputs_hidden": false
    },
    "pycharm": {
     "name": "#%%\n"
    }
   },
   "outputs": [],
   "source": [
    "import warnings\n",
    "\n",
    "import numpy as np\n",
    "import pandas as pd\n",
    "import matplotlib.pyplot as plt\n",
    "\n",
    "from SystemGeneral.system import System\n",
    "from utils.utils import generate_series\n",
    "from rpy2.rinterface_lib.callbacks import logger as rpy2_logger\n",
    "import logging\n",
    "from tqdm import tqdm\n",
    "rpy2_logger.setLevel(logging.ERROR)   # will display errors, but not warnings\n",
    "\n",
    "warnings.filterwarnings('ignore')"
   ]
  },
  {
   "cell_type": "code",
   "execution_count": 5,
   "metadata": {
    "tags": []
   },
   "outputs": [],
   "source": [
    "Q = 301\n",
    "N = 800"
   ]
  },
  {
   "cell_type": "code",
   "execution_count": 6,
   "outputs": [],
   "source": [
    "column_names = ['\\omega_1', '\\omega_2', '\\delta_min', '\\sigma', 'B', 'T', 'L', 'FPR', 'TPR', 'FNR']\n",
    "results = pd.DataFrame(columns=column_names)\n",
    "# results.to_latex(escape=False)"
   ],
   "metadata": {
    "collapsed": false,
    "pycharm": {
     "name": "#%%\n"
    }
   }
  },
  {
   "cell_type": "code",
   "execution_count": 7,
   "metadata": {
    "collapsed": false,
    "jupyter": {
     "outputs_hidden": false
    },
    "pycharm": {
     "name": "#%%\n"
    }
   },
   "outputs": [
    {
     "name": "stderr",
     "output_type": "stream",
     "text": [
      "Моделирование для sigma = 0.0: 100%|██████████| 200/200 [05:29<00:00,  1.65s/it]\n",
      "Моделирование для sigma = 0.1: 100%|██████████| 200/200 [06:03<00:00,  1.82s/it]\n",
      "Моделирование для sigma = 0.2: 100%|██████████| 200/200 [06:05<00:00,  1.83s/it]\n",
      "Моделирование для sigma = 0.30000000000000004: 100%|██████████| 200/200 [06:04<00:00,  1.82s/it]\n",
      "Моделирование для sigma = 0.4: 100%|██████████| 200/200 [06:07<00:00,  1.84s/it]\n",
      "Моделирование для sigma = 0.5: 100%|██████████| 200/200 [06:07<00:00,  1.84s/it]\n",
      "Моделирование для sigma = 0.6000000000000001: 100%|██████████| 200/200 [06:06<00:00,  1.83s/it]\n",
      "Моделирование для sigma = 0.7000000000000001: 100%|██████████| 200/200 [06:12<00:00,  1.86s/it]"
     ]
    },
    {
     "name": "stdout",
     "output_type": "stream",
     "text": [
      "CPU times: total: 48min 17s\n",
      "Wall time: 48min 18s\n"
     ]
    },
    {
     "name": "stderr",
     "output_type": "stream",
     "text": [
      "\n"
     ]
    }
   ],
   "source": [
    "%%time\n",
    "\n",
    "w1 = 1/10\n",
    "w1_str = f\"1/10\"\n",
    "for denom in range(3, 10):\n",
    "    w2 = 1/denom\n",
    "    w2_str = f\"1/{denom}\"\n",
    "    sigma = 0.5\n",
    "\n",
    "    delta_min = 1/50\n",
    "    k = 30\n",
    "    iter_num = 200\n",
    "\n",
    "    np.random.seed(1234567)\n",
    "    for sigma in np.arange(0, 0.8, 0.1):\n",
    "        fp = 0\n",
    "        fn = 0\n",
    "        tp = 0\n",
    "        for i in tqdm(range(iter_num), desc=f\"Моделирование для sigma = {sigma}\"):\n",
    "            series = generate_series(w1, w2, Q, N) + np.random.normal(scale=sigma, size=N)\n",
    "            system = System(series, k, delta_min)\n",
    "            Q_hat = system()\n",
    "            if Q_hat - Q < 0:\n",
    "                fp += 1\n",
    "            if Q_hat - Q > k:\n",
    "                fn += 1\n",
    "            if Q_hat - Q <= k:\n",
    "                tp += 1\n",
    "        fpr = fp / iter_num\n",
    "        fnr = fn / iter_num\n",
    "        tpr = tp / iter_num\n",
    "        results = results.append(dict(zip(column_names, [w1, w2, delta_min, sigma, system.B, system.T, system.L, fpr, tpr, fnr])), ignore_index=True)"
   ]
  },
  {
   "cell_type": "code",
   "execution_count": 8,
   "outputs": [
    {
     "data": {
      "text/plain": "(133, 79, 71)"
     },
     "execution_count": 8,
     "metadata": {},
     "output_type": "execute_result"
    }
   ],
   "source": [
    "system.B, system.T, system.L"
   ],
   "metadata": {
    "collapsed": false,
    "pycharm": {
     "name": "#%%\n"
    }
   }
  },
  {
   "cell_type": "code",
   "execution_count": 9,
   "outputs": [
    {
     "data": {
      "text/plain": "  \\omega_1 \\omega_2 \\delta_min \\sigma      B     T     L    FPR   TPR   FNR\n0      0.1      0.2       0.02    0.0  133.0  79.0  71.0    0.0   1.0   0.0\n1      0.1      0.2       0.02    0.1  133.0  79.0  71.0    0.0   1.0   0.0\n2      0.1      0.2       0.02    0.2  133.0  79.0  71.0    0.0   1.0   0.0\n3      0.1      0.2       0.02    0.3  133.0  79.0  71.0    0.0   1.0   0.0\n4      0.1      0.2       0.02    0.4  133.0  79.0  71.0    0.0   1.0   0.0\n5      0.1      0.2       0.02    0.5  133.0  79.0  71.0    0.0  0.97  0.03\n6      0.1      0.2       0.02    0.6  133.0  79.0  71.0   0.01  0.94  0.06\n7      0.1      0.2       0.02    0.7  133.0  79.0  71.0  0.025  0.92  0.08",
      "text/html": "<div>\n<style scoped>\n    .dataframe tbody tr th:only-of-type {\n        vertical-align: middle;\n    }\n\n    .dataframe tbody tr th {\n        vertical-align: top;\n    }\n\n    .dataframe thead th {\n        text-align: right;\n    }\n</style>\n<table border=\"1\" class=\"dataframe\">\n  <thead>\n    <tr style=\"text-align: right;\">\n      <th></th>\n      <th>\\omega_1</th>\n      <th>\\omega_2</th>\n      <th>\\delta_min</th>\n      <th>\\sigma</th>\n      <th>B</th>\n      <th>T</th>\n      <th>L</th>\n      <th>FPR</th>\n      <th>TPR</th>\n      <th>FNR</th>\n    </tr>\n  </thead>\n  <tbody>\n    <tr>\n      <th>0</th>\n      <td>0.1</td>\n      <td>0.2</td>\n      <td>0.02</td>\n      <td>0.0</td>\n      <td>133.0</td>\n      <td>79.0</td>\n      <td>71.0</td>\n      <td>0.0</td>\n      <td>1.0</td>\n      <td>0.0</td>\n    </tr>\n    <tr>\n      <th>1</th>\n      <td>0.1</td>\n      <td>0.2</td>\n      <td>0.02</td>\n      <td>0.1</td>\n      <td>133.0</td>\n      <td>79.0</td>\n      <td>71.0</td>\n      <td>0.0</td>\n      <td>1.0</td>\n      <td>0.0</td>\n    </tr>\n    <tr>\n      <th>2</th>\n      <td>0.1</td>\n      <td>0.2</td>\n      <td>0.02</td>\n      <td>0.2</td>\n      <td>133.0</td>\n      <td>79.0</td>\n      <td>71.0</td>\n      <td>0.0</td>\n      <td>1.0</td>\n      <td>0.0</td>\n    </tr>\n    <tr>\n      <th>3</th>\n      <td>0.1</td>\n      <td>0.2</td>\n      <td>0.02</td>\n      <td>0.3</td>\n      <td>133.0</td>\n      <td>79.0</td>\n      <td>71.0</td>\n      <td>0.0</td>\n      <td>1.0</td>\n      <td>0.0</td>\n    </tr>\n    <tr>\n      <th>4</th>\n      <td>0.1</td>\n      <td>0.2</td>\n      <td>0.02</td>\n      <td>0.4</td>\n      <td>133.0</td>\n      <td>79.0</td>\n      <td>71.0</td>\n      <td>0.0</td>\n      <td>1.0</td>\n      <td>0.0</td>\n    </tr>\n    <tr>\n      <th>5</th>\n      <td>0.1</td>\n      <td>0.2</td>\n      <td>0.02</td>\n      <td>0.5</td>\n      <td>133.0</td>\n      <td>79.0</td>\n      <td>71.0</td>\n      <td>0.0</td>\n      <td>0.97</td>\n      <td>0.03</td>\n    </tr>\n    <tr>\n      <th>6</th>\n      <td>0.1</td>\n      <td>0.2</td>\n      <td>0.02</td>\n      <td>0.6</td>\n      <td>133.0</td>\n      <td>79.0</td>\n      <td>71.0</td>\n      <td>0.01</td>\n      <td>0.94</td>\n      <td>0.06</td>\n    </tr>\n    <tr>\n      <th>7</th>\n      <td>0.1</td>\n      <td>0.2</td>\n      <td>0.02</td>\n      <td>0.7</td>\n      <td>133.0</td>\n      <td>79.0</td>\n      <td>71.0</td>\n      <td>0.025</td>\n      <td>0.92</td>\n      <td>0.08</td>\n    </tr>\n  </tbody>\n</table>\n</div>"
     },
     "execution_count": 9,
     "metadata": {},
     "output_type": "execute_result"
    }
   ],
   "source": [
    "results"
   ],
   "metadata": {
    "collapsed": false,
    "pycharm": {
     "name": "#%%\n"
    }
   }
  },
  {
   "cell_type": "code",
   "execution_count": null,
   "outputs": [],
   "source": [],
   "metadata": {
    "collapsed": false,
    "pycharm": {
     "name": "#%%\n"
    }
   }
  },
  {
   "cell_type": "code",
   "execution_count": null,
   "outputs": [],
   "source": [],
   "metadata": {
    "collapsed": false,
    "pycharm": {
     "name": "#%%\n"
    }
   }
  },
  {
   "cell_type": "code",
   "execution_count": 6,
   "outputs": [
    {
     "data": {
      "text/plain": "  \\omega_1 \\omega_2 \\delta_min \\sigma      B      T      L    FPR    TPR  \\\n0      0.1      0.2       0.02    0.0  133.0  133.0  119.0    0.0    1.0   \n1      0.1      0.2       0.02    0.1  133.0  133.0  119.0    0.0    1.0   \n2      0.1      0.2       0.02    0.2  133.0  133.0  119.0    0.0    1.0   \n3      0.1      0.2       0.02    0.3  133.0  133.0  119.0    0.0    1.0   \n4      0.1      0.2       0.02    0.4  133.0  133.0  119.0    0.0  0.935   \n5      0.1      0.2       0.02    0.5  133.0  133.0  119.0    0.0  0.845   \n6      0.1      0.2       0.02    0.6  133.0  133.0  119.0  0.035  0.815   \n7      0.1      0.2       0.02    0.7  133.0  133.0  119.0  0.115  0.735   \n\n     FNR  \n0    0.0  \n1    0.0  \n2    0.0  \n3    0.0  \n4  0.065  \n5  0.155  \n6  0.185  \n7  0.265  ",
      "text/html": "<div>\n<style scoped>\n    .dataframe tbody tr th:only-of-type {\n        vertical-align: middle;\n    }\n\n    .dataframe tbody tr th {\n        vertical-align: top;\n    }\n\n    .dataframe thead th {\n        text-align: right;\n    }\n</style>\n<table border=\"1\" class=\"dataframe\">\n  <thead>\n    <tr style=\"text-align: right;\">\n      <th></th>\n      <th>\\omega_1</th>\n      <th>\\omega_2</th>\n      <th>\\delta_min</th>\n      <th>\\sigma</th>\n      <th>B</th>\n      <th>T</th>\n      <th>L</th>\n      <th>FPR</th>\n      <th>TPR</th>\n      <th>FNR</th>\n    </tr>\n  </thead>\n  <tbody>\n    <tr>\n      <th>0</th>\n      <td>0.1</td>\n      <td>0.2</td>\n      <td>0.02</td>\n      <td>0.0</td>\n      <td>133.0</td>\n      <td>133.0</td>\n      <td>119.0</td>\n      <td>0.0</td>\n      <td>1.0</td>\n      <td>0.0</td>\n    </tr>\n    <tr>\n      <th>1</th>\n      <td>0.1</td>\n      <td>0.2</td>\n      <td>0.02</td>\n      <td>0.1</td>\n      <td>133.0</td>\n      <td>133.0</td>\n      <td>119.0</td>\n      <td>0.0</td>\n      <td>1.0</td>\n      <td>0.0</td>\n    </tr>\n    <tr>\n      <th>2</th>\n      <td>0.1</td>\n      <td>0.2</td>\n      <td>0.02</td>\n      <td>0.2</td>\n      <td>133.0</td>\n      <td>133.0</td>\n      <td>119.0</td>\n      <td>0.0</td>\n      <td>1.0</td>\n      <td>0.0</td>\n    </tr>\n    <tr>\n      <th>3</th>\n      <td>0.1</td>\n      <td>0.2</td>\n      <td>0.02</td>\n      <td>0.3</td>\n      <td>133.0</td>\n      <td>133.0</td>\n      <td>119.0</td>\n      <td>0.0</td>\n      <td>1.0</td>\n      <td>0.0</td>\n    </tr>\n    <tr>\n      <th>4</th>\n      <td>0.1</td>\n      <td>0.2</td>\n      <td>0.02</td>\n      <td>0.4</td>\n      <td>133.0</td>\n      <td>133.0</td>\n      <td>119.0</td>\n      <td>0.0</td>\n      <td>0.935</td>\n      <td>0.065</td>\n    </tr>\n    <tr>\n      <th>5</th>\n      <td>0.1</td>\n      <td>0.2</td>\n      <td>0.02</td>\n      <td>0.5</td>\n      <td>133.0</td>\n      <td>133.0</td>\n      <td>119.0</td>\n      <td>0.0</td>\n      <td>0.845</td>\n      <td>0.155</td>\n    </tr>\n    <tr>\n      <th>6</th>\n      <td>0.1</td>\n      <td>0.2</td>\n      <td>0.02</td>\n      <td>0.6</td>\n      <td>133.0</td>\n      <td>133.0</td>\n      <td>119.0</td>\n      <td>0.035</td>\n      <td>0.815</td>\n      <td>0.185</td>\n    </tr>\n    <tr>\n      <th>7</th>\n      <td>0.1</td>\n      <td>0.2</td>\n      <td>0.02</td>\n      <td>0.7</td>\n      <td>133.0</td>\n      <td>133.0</td>\n      <td>119.0</td>\n      <td>0.115</td>\n      <td>0.735</td>\n      <td>0.265</td>\n    </tr>\n  </tbody>\n</table>\n</div>"
     },
     "execution_count": 6,
     "metadata": {},
     "output_type": "execute_result"
    }
   ],
   "source": [
    "# results"
   ],
   "metadata": {
    "collapsed": false,
    "pycharm": {
     "name": "#%%\n"
    }
   }
  },
  {
   "cell_type": "code",
   "execution_count": 6,
   "outputs": [],
   "source": [
    "# results['B'] = [system.B] * len(results)\n",
    "# results['T'] = [system.T] * len(results)\n",
    "# results['L'] = [system.L] * len(results)"
   ],
   "metadata": {
    "collapsed": false,
    "pycharm": {
     "name": "#%%\n"
    }
   }
  },
  {
   "cell_type": "code",
   "execution_count": 7,
   "outputs": [
    {
     "data": {
      "text/plain": "  \\omega_1 \\omega_2 \\delta_min \\sigma      B      T      L    FPR   TPR   FNR\n0      0.1      0.2       0.02    0.0  133.0  133.0  106.0    0.0   1.0   0.0\n1      0.1      0.2       0.02    0.1  133.0  133.0  106.0    0.0   1.0   0.0\n2      0.1      0.2       0.02    0.2  133.0  133.0  106.0    0.0  0.99  0.01\n3      0.1      0.2       0.02    0.3  133.0  133.0  106.0    0.0  0.92  0.08\n4      0.1      0.2       0.02    0.4  133.0  133.0  106.0    0.0  0.77  0.23\n5      0.1      0.2       0.02    0.5  133.0  133.0  106.0    0.0  0.62  0.38\n6      0.1      0.2       0.02    0.6  133.0  133.0  106.0   0.03  0.65  0.35\n7      0.1      0.2       0.02    0.7  133.0  133.0  106.0  0.095   0.6   0.4",
      "text/html": "<div>\n<style scoped>\n    .dataframe tbody tr th:only-of-type {\n        vertical-align: middle;\n    }\n\n    .dataframe tbody tr th {\n        vertical-align: top;\n    }\n\n    .dataframe thead th {\n        text-align: right;\n    }\n</style>\n<table border=\"1\" class=\"dataframe\">\n  <thead>\n    <tr style=\"text-align: right;\">\n      <th></th>\n      <th>\\omega_1</th>\n      <th>\\omega_2</th>\n      <th>\\delta_min</th>\n      <th>\\sigma</th>\n      <th>B</th>\n      <th>T</th>\n      <th>L</th>\n      <th>FPR</th>\n      <th>TPR</th>\n      <th>FNR</th>\n    </tr>\n  </thead>\n  <tbody>\n    <tr>\n      <th>0</th>\n      <td>0.1</td>\n      <td>0.2</td>\n      <td>0.02</td>\n      <td>0.0</td>\n      <td>133.0</td>\n      <td>133.0</td>\n      <td>106.0</td>\n      <td>0.0</td>\n      <td>1.0</td>\n      <td>0.0</td>\n    </tr>\n    <tr>\n      <th>1</th>\n      <td>0.1</td>\n      <td>0.2</td>\n      <td>0.02</td>\n      <td>0.1</td>\n      <td>133.0</td>\n      <td>133.0</td>\n      <td>106.0</td>\n      <td>0.0</td>\n      <td>1.0</td>\n      <td>0.0</td>\n    </tr>\n    <tr>\n      <th>2</th>\n      <td>0.1</td>\n      <td>0.2</td>\n      <td>0.02</td>\n      <td>0.2</td>\n      <td>133.0</td>\n      <td>133.0</td>\n      <td>106.0</td>\n      <td>0.0</td>\n      <td>0.99</td>\n      <td>0.01</td>\n    </tr>\n    <tr>\n      <th>3</th>\n      <td>0.1</td>\n      <td>0.2</td>\n      <td>0.02</td>\n      <td>0.3</td>\n      <td>133.0</td>\n      <td>133.0</td>\n      <td>106.0</td>\n      <td>0.0</td>\n      <td>0.92</td>\n      <td>0.08</td>\n    </tr>\n    <tr>\n      <th>4</th>\n      <td>0.1</td>\n      <td>0.2</td>\n      <td>0.02</td>\n      <td>0.4</td>\n      <td>133.0</td>\n      <td>133.0</td>\n      <td>106.0</td>\n      <td>0.0</td>\n      <td>0.77</td>\n      <td>0.23</td>\n    </tr>\n    <tr>\n      <th>5</th>\n      <td>0.1</td>\n      <td>0.2</td>\n      <td>0.02</td>\n      <td>0.5</td>\n      <td>133.0</td>\n      <td>133.0</td>\n      <td>106.0</td>\n      <td>0.0</td>\n      <td>0.62</td>\n      <td>0.38</td>\n    </tr>\n    <tr>\n      <th>6</th>\n      <td>0.1</td>\n      <td>0.2</td>\n      <td>0.02</td>\n      <td>0.6</td>\n      <td>133.0</td>\n      <td>133.0</td>\n      <td>106.0</td>\n      <td>0.03</td>\n      <td>0.65</td>\n      <td>0.35</td>\n    </tr>\n    <tr>\n      <th>7</th>\n      <td>0.1</td>\n      <td>0.2</td>\n      <td>0.02</td>\n      <td>0.7</td>\n      <td>133.0</td>\n      <td>133.0</td>\n      <td>106.0</td>\n      <td>0.095</td>\n      <td>0.6</td>\n      <td>0.4</td>\n    </tr>\n  </tbody>\n</table>\n</div>"
     },
     "execution_count": 7,
     "metadata": {},
     "output_type": "execute_result"
    }
   ],
   "source": [
    "# results"
   ],
   "metadata": {
    "collapsed": false,
    "pycharm": {
     "name": "#%%\n"
    }
   }
  },
  {
   "cell_type": "code",
   "execution_count": 8,
   "outputs": [],
   "source": [
    "# results.to_csv('results.csv', index=False)"
   ],
   "metadata": {
    "collapsed": false,
    "pycharm": {
     "name": "#%%\n"
    }
   }
  },
  {
   "cell_type": "code",
   "execution_count": 7,
   "metadata": {
    "collapsed": false,
    "jupyter": {
     "outputs_hidden": false
    },
    "pycharm": {
     "name": "#%%\n"
    }
   },
   "outputs": [
    {
     "data": {
      "text/plain": "   \\omega_1  \\omega_2  \\delta_min  \\sigma    FPR    TPR    FNR    B    T   L\n0       0.1       0.2        0.02     0.0  0.000  1.000  0.000  100  100  95\n1       0.1       0.2        0.02     0.1  0.000  1.000  0.000  100  100  95\n2       0.1       0.2        0.02     0.2  0.000  1.000  0.000  100  100  95\n3       0.1       0.2        0.02     0.3  0.000  1.000  0.000  100  100  95\n4       0.1       0.2        0.02     0.4  0.000  0.985  0.015  100  100  95\n5       0.1       0.2        0.02     0.5  0.000  0.935  0.065  100  100  95\n6       0.1       0.2        0.02     0.6  0.035  0.865  0.135  100  100  95\n7       0.1       0.2        0.02     0.7  0.145  0.805  0.195  100  100  95",
      "text/html": "<div>\n<style scoped>\n    .dataframe tbody tr th:only-of-type {\n        vertical-align: middle;\n    }\n\n    .dataframe tbody tr th {\n        vertical-align: top;\n    }\n\n    .dataframe thead th {\n        text-align: right;\n    }\n</style>\n<table border=\"1\" class=\"dataframe\">\n  <thead>\n    <tr style=\"text-align: right;\">\n      <th></th>\n      <th>\\omega_1</th>\n      <th>\\omega_2</th>\n      <th>\\delta_min</th>\n      <th>\\sigma</th>\n      <th>FPR</th>\n      <th>TPR</th>\n      <th>FNR</th>\n      <th>B</th>\n      <th>T</th>\n      <th>L</th>\n    </tr>\n  </thead>\n  <tbody>\n    <tr>\n      <th>0</th>\n      <td>0.1</td>\n      <td>0.2</td>\n      <td>0.02</td>\n      <td>0.0</td>\n      <td>0.000</td>\n      <td>1.000</td>\n      <td>0.000</td>\n      <td>100</td>\n      <td>100</td>\n      <td>95</td>\n    </tr>\n    <tr>\n      <th>1</th>\n      <td>0.1</td>\n      <td>0.2</td>\n      <td>0.02</td>\n      <td>0.1</td>\n      <td>0.000</td>\n      <td>1.000</td>\n      <td>0.000</td>\n      <td>100</td>\n      <td>100</td>\n      <td>95</td>\n    </tr>\n    <tr>\n      <th>2</th>\n      <td>0.1</td>\n      <td>0.2</td>\n      <td>0.02</td>\n      <td>0.2</td>\n      <td>0.000</td>\n      <td>1.000</td>\n      <td>0.000</td>\n      <td>100</td>\n      <td>100</td>\n      <td>95</td>\n    </tr>\n    <tr>\n      <th>3</th>\n      <td>0.1</td>\n      <td>0.2</td>\n      <td>0.02</td>\n      <td>0.3</td>\n      <td>0.000</td>\n      <td>1.000</td>\n      <td>0.000</td>\n      <td>100</td>\n      <td>100</td>\n      <td>95</td>\n    </tr>\n    <tr>\n      <th>4</th>\n      <td>0.1</td>\n      <td>0.2</td>\n      <td>0.02</td>\n      <td>0.4</td>\n      <td>0.000</td>\n      <td>0.985</td>\n      <td>0.015</td>\n      <td>100</td>\n      <td>100</td>\n      <td>95</td>\n    </tr>\n    <tr>\n      <th>5</th>\n      <td>0.1</td>\n      <td>0.2</td>\n      <td>0.02</td>\n      <td>0.5</td>\n      <td>0.000</td>\n      <td>0.935</td>\n      <td>0.065</td>\n      <td>100</td>\n      <td>100</td>\n      <td>95</td>\n    </tr>\n    <tr>\n      <th>6</th>\n      <td>0.1</td>\n      <td>0.2</td>\n      <td>0.02</td>\n      <td>0.6</td>\n      <td>0.035</td>\n      <td>0.865</td>\n      <td>0.135</td>\n      <td>100</td>\n      <td>100</td>\n      <td>95</td>\n    </tr>\n    <tr>\n      <th>7</th>\n      <td>0.1</td>\n      <td>0.2</td>\n      <td>0.02</td>\n      <td>0.7</td>\n      <td>0.145</td>\n      <td>0.805</td>\n      <td>0.195</td>\n      <td>100</td>\n      <td>100</td>\n      <td>95</td>\n    </tr>\n  </tbody>\n</table>\n</div>"
     },
     "execution_count": 7,
     "metadata": {},
     "output_type": "execute_result"
    }
   ],
   "source": [
    "pd.read_csv('results.csv')"
   ]
  },
  {
   "cell_type": "code",
   "execution_count": 9,
   "outputs": [],
   "source": [],
   "metadata": {
    "collapsed": false,
    "pycharm": {
     "name": "#%%\n"
    }
   }
  }
 ],
 "metadata": {
  "kernelspec": {
   "display_name": "Python 3 (ipykernel)",
   "language": "python",
   "name": "python3"
  },
  "language_info": {
   "codemirror_mode": {
    "name": "ipython",
    "version": 3
   },
   "file_extension": ".py",
   "mimetype": "text/x-python",
   "name": "python",
   "nbconvert_exporter": "python",
   "pygments_lexer": "ipython3",
   "version": "3.9.7"
  }
 },
 "nbformat": 4,
 "nbformat_minor": 4
}