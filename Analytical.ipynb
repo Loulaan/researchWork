{
 "cells": [
  {
   "cell_type": "code",
   "execution_count": 11,
   "id": "genuine-tongue",
   "metadata": {},
   "outputs": [
    {
     "name": "stdout",
     "output_type": "stream",
     "text": [
      "The autoreload extension is already loaded. To reload it, use:\n",
      "  %reload_ext autoreload\n",
      "The rpy2.ipython extension is already loaded. To reload it, use:\n",
      "  %reload_ext rpy2.ipython\n"
     ]
    }
   ],
   "source": [
    "from collections import Counter\n",
    "import numpy as np\n",
    "import rpy2.robjects as robjects\n",
    "import rpy2.robjects.numpy2ri\n",
    "from rpy2.robjects.packages import importr\n",
    "from utils.hmatrStatistics import Hmatr\n",
    "\n",
    "%load_ext autoreload\n",
    "%load_ext rpy2.ipython\n",
    "%autoreload 2\n",
    "rpy2.robjects.numpy2ri.activate()\n",
    "\n",
    "rssa = importr('Rssa')"
   ]
  },
  {
   "cell_type": "markdown",
   "id": "jewish-strand",
   "metadata": {
    "pycharm": {
     "name": "#%% md\n"
    }
   },
   "source": [
    "Для простоты, пусть наш ряд задан как $x_n = sin(2\\pi \\omega n)$, причем $\\begin{equation*} \\omega = \\begin{cases} \\omega_1\\ n \\in [0, Q-1] \\\\ \\omega_2\\ n\\in [Q, N-1] \\end{cases} \\end{equation*}$"
   ]
  },
  {
   "cell_type": "markdown",
   "id": "acting-sierra",
   "metadata": {
    "pycharm": {
     "name": "#%% md\n"
    }
   },
   "source": [
    "Проведем аналитический анализ индекса неоднородности. Вспомним как он задается:\n",
    "$$g(F^{(1)}; F^{(2)}) = \\frac{\\sum\\limits_{l=1}^{K_2}\\mathrm{dist}^2(X_l^{(2)}, \\mathfrak{L}_r^{(1)})}{\\sum\\limits_{l=1}^{K_2}\\|X_l^{(2)}\\|^2} = \\frac{\\sum\\limits_{l=1}^{K_2}\\;(\\|X_l^{(2)}\\|^2 - \\sum\\limits_{i=1}^{r}\\langle X_l^{(2)}, U_i^{(1)}\\rangle^2)}{\\sum\\limits_{l=1}^{K_2}\\|X_l^{(2)}\\|^2} = 1 - \\frac{\\sum\\limits_{l=1}^{K_2}\\;\\sum\\limits_{i=1}^{r}\\langle X_l^{(2)}, U_i^{(1)}\\rangle^2}{\\sum\\limits_{l=1}^{K_2}\\|X_l^{(2)}\\|^2}$$\n"
   ]
  },
  {
   "cell_type": "markdown",
   "id": "integral-stopping",
   "metadata": {
    "pycharm": {
     "name": "#%% md\n"
    }
   },
   "source": [
    "Начнем со знаменателя $\\sum\\limits_{l=1}^{K_2}\\|X_l^{(2)}\\|^2$, а точнее, с квадрата нормы $\\|X_l^{(2)}\\|^2$. Оценим его:\n",
    "\n",
    "$$ \\|X_l^{(2)}\\|^2 = \\sum\\limits_{i=1}^{L}(X_{l_i}^{(2)}) = \\int\\limits_{0}^{L}X_{l_i}^{(2)} = \\int\\limits_{0}^{L}\\sin^2{(2\\pi\\omega_2 y)}dy = \\frac{L}{2} - \\frac{\\sin(4\\pi L\\omega_2)}{8\\pi\\omega_2} \\approx \\frac{L}{2} $$\n",
    "\n",
    "Отсюда $\\sum\\limits_{l=1}^{K_2}\\|X_l^{(2)}\\|^2 \\approx K_2\\cdot\\frac{L}{2}$.\n",
    "\n",
    "Проверим равенство программно."
   ]
  },
  {
   "cell_type": "code",
   "execution_count": 2,
   "id": "alpine-biodiversity",
   "metadata": {},
   "outputs": [],
   "source": [
    "N = 700\n",
    "w1 = 1/10\n",
    "w2 = 1/5\n",
    "C = 1\n",
    "phi1 = 0\n",
    "phi2 = 0\n",
    "Q = 301  # 301 номер, значит разладка в ряде будет на 302й точке, если ряд задан с 0.\n",
    "B = 100\n",
    "T_ = 100\n",
    "L = 50\n",
    "r = 2\n",
    "method = \"svd\""
   ]
  },
  {
   "cell_type": "code",
   "execution_count": 3,
   "id": "athletic-pursuit",
   "metadata": {},
   "outputs": [],
   "source": [
    "def generate_series(omega, C=1, N=700, Q=301):\n",
    "    w1, w2 = omega\n",
    "    series = lambda n: C*np.sin(2*np.pi*w1*n + phi1) if n < Q-1 else C*np.sin(2*np.pi*w2*n + phi1)\n",
    "    return [series(i) for i in range(N)]"
   ]
  },
  {
   "cell_type": "code",
   "execution_count": 4,
   "id": "alternative-tuner",
   "metadata": {},
   "outputs": [],
   "source": [
    "f = generate_series((w1, w2), N=N, Q=Q)\n",
    "hm = Hmatr(f, B, T_, L, neig=r, svdMethod=method)"
   ]
  },
  {
   "cell_type": "markdown",
   "id": "successful-reporter",
   "metadata": {},
   "source": [
    "В формуле расстояния считаются между базовыми и тестовыми подрядами. В знаменателе $X_l^{(2)}$ -  столбцы траекторной матрицы тестового подряда (в формуле (2.1) ряда $F^{(2)}$). Длина таких рядов равна $T$, а длина окна равна $L$. Отсюда $K_2 = T - L + 1$"
   ]
  },
  {
   "cell_type": "code",
   "execution_count": 21,
   "id": "diverse-bahrain",
   "metadata": {
    "collapsed": false,
    "jupyter": {
     "outputs_hidden": false
    },
    "pycharm": {
     "name": "#%%\n"
    }
   },
   "outputs": [
    {
     "data": {
      "text/plain": [
       "51"
      ]
     },
     "execution_count": 21,
     "metadata": {},
     "output_type": "execute_result"
    }
   ],
   "source": [
    "K2 = T_ - L + 1\n",
    "K2"
   ]
  },
  {
   "cell_type": "code",
   "execution_count": 22,
   "id": "proof-craps",
   "metadata": {
    "collapsed": false,
    "jupyter": {
     "outputs_hidden": false
    },
    "pycharm": {
     "name": "#%%\n"
    }
   },
   "outputs": [
    {
     "data": {
      "text/plain": [
       "1275.0"
      ]
     },
     "execution_count": 22,
     "metadata": {},
     "output_type": "execute_result"
    }
   ],
   "source": [
    "K2 * L/2"
   ]
  },
  {
   "cell_type": "markdown",
   "id": "choice-combination",
   "metadata": {
    "pycharm": {
     "name": "#%% md\n"
    }
   },
   "source": [
    "Проверим полученную аналитически оценку по эмпирически."
   ]
  },
  {
   "cell_type": "code",
   "execution_count": 19,
   "id": "detailed-aside",
   "metadata": {},
   "outputs": [
    {
     "data": {
      "text/plain": [
       "1275.0"
      ]
     },
     "execution_count": 19,
     "metadata": {},
     "output_type": "execute_result"
    }
   ],
   "source": [
    "sum(hm.STATISTICS['norm'])/len(hm.STATISTICS['norm'])"
   ]
  },
  {
   "cell_type": "markdown",
   "id": "macro-radical",
   "metadata": {
    "pycharm": {
     "name": "#%% md\n"
    }
   },
   "source": [
    "Получили то же самое число, правда в среднем. Посмотрем на значения, которые встречались:"
   ]
  },
  {
   "cell_type": "code",
   "execution_count": 12,
   "id": "short-butler",
   "metadata": {
    "collapsed": false,
    "jupyter": {
     "outputs_hidden": false
    },
    "pycharm": {
     "name": "#%%\n"
    }
   },
   "outputs": [
    {
     "data": {
      "text/plain": [
       "Counter({1275.0: 560, 1275.5590169943753: 20, 1274.4409830056247: 20})"
      ]
     },
     "execution_count": 12,
     "metadata": {},
     "output_type": "execute_result"
    }
   ],
   "source": [
    "Counter(hm.STATISTICS['norm'])"
   ]
  },
  {
   "cell_type": "markdown",
   "id": "polish-startup",
   "metadata": {
    "pycharm": {
     "name": "#%% md\n"
    }
   },
   "source": [
    "Как мы видим, значения не сильно отклоняются от среднего. Откуда можно заключить, что хвост $\\frac{\\sin(4\\pi L\\omega_2)}{8\\pi\\omega_2}$, отнимаемый от $\\frac{L}{2}$ ассимптотически не влияет на оценку $\\sum\\limits_{l=1}^{K_2}\\|X_l^{(2)}\\|^2$ и при достаточно больших $L$ мы имеем равенство: $\\sum\\limits_{l=1}^{K_2}\\|X_l^{(2)}\\|^2 = K_2\\cdot\\frac{L}{2}$."
   ]
  },
  {
   "cell_type": "markdown",
   "id": "alone-persian",
   "metadata": {
    "pycharm": {
     "name": "#%% md\n"
    }
   },
   "source": [
    "Для подтверждения нашего предположения, проведем еще несколько экспериментов."
   ]
  },
  {
   "cell_type": "markdown",
   "source": [
    "---"
   ],
   "metadata": {
    "collapsed": false,
    "pycharm": {
     "name": "#%% md\n"
    }
   }
  },
  {
   "cell_type": "markdown",
   "id": "tested-slovakia",
   "metadata": {
    "pycharm": {
     "name": "#%% md\n"
    }
   },
   "source": [
    "1"
   ]
  },
  {
   "cell_type": "code",
   "execution_count": 20,
   "id": "constitutional-gamma",
   "metadata": {
    "collapsed": false,
    "jupyter": {
     "outputs_hidden": false
    },
    "pycharm": {
     "name": "#%%\n"
    }
   },
   "outputs": [
    {
     "name": "stdout",
     "output_type": "stream",
     "text": [
      "5445.0\n",
      "Counter({5445.0: 394, 5444.440983005625: 132, 5445.559016994375: 131, 5445.000000000002: 10, 5445.000000000004: 7, 5444.999999999993: 6, 5445.559016994377: 3, 5445.000000000001: 3, 5445.559016994368: 3, 5444.440983005626: 2, 5444.440983005627: 2, 5445.559016994379: 2, 5444.440983005628: 2, 5444.440983005617: 2, 5445.559016994376: 1})\n"
     ]
    }
   ],
   "source": [
    "L = 990\n",
    "N = 1700\n",
    "Q = 801  # 301 номер, значит разладка в ряде будет на 302й точке, если ряд задан с 0.\n",
    "B = 1000\n",
    "T_ = 1000\n",
    "f = generate_series((w1, w2), N=N, Q=Q)\n",
    "hm = Hmatr(f, B, T_, L, neig=r, svdMethod=method)\n",
    "print(sum(hm.STATISTICS['norm'])/len(hm.STATISTICS['norm']))\n",
    "print(Counter(hm.STATISTICS['norm']))"
   ]
  },
  {
   "cell_type": "code",
   "execution_count": 21,
   "id": "nervous-impression",
   "metadata": {
    "collapsed": false,
    "jupyter": {
     "outputs_hidden": false
    },
    "pycharm": {
     "name": "#%%\n"
    }
   },
   "outputs": [
    {
     "data": {
      "text/plain": [
       "5445.0"
      ]
     },
     "execution_count": 21,
     "metadata": {},
     "output_type": "execute_result"
    }
   ],
   "source": [
    "K2 = T_ - L + 1\n",
    "K2 * L/2"
   ]
  },
  {
   "cell_type": "markdown",
   "source": [
    "---"
   ],
   "metadata": {
    "collapsed": false,
    "pycharm": {
     "name": "#%% md\n"
    }
   }
  },
  {
   "cell_type": "markdown",
   "id": "developmental-edinburgh",
   "metadata": {
    "pycharm": {
     "name": "#%% md\n"
    }
   },
   "source": [
    "2"
   ]
  },
  {
   "cell_type": "code",
   "execution_count": 24,
   "id": "brutal-processor",
   "metadata": {
    "collapsed": false,
    "jupyter": {
     "outputs_hidden": false
    },
    "pycharm": {
     "name": "#%%\n"
    }
   },
   "outputs": [
    {
     "name": "stdout",
     "output_type": "stream",
     "text": [
      "120199.90416851516\n",
      "Counter({120200.0: 580, 120199.44098300562: 120})\n"
     ]
    }
   ],
   "source": [
    "L = 400\n",
    "N = 1700\n",
    "Q = 301  # 301 номер, значит разладка в ряде будет на 302й точке, если ряд задан с 0.\n",
    "B = 1000\n",
    "T_ = 1000\n",
    "f = generate_series((w1, w2), N=N, Q=Q)\n",
    "hm = Hmatr(f, B, T_, L, neig=r, svdMethod=method)\n",
    "print(sum(hm.STATISTICS['norm'])/len(hm.STATISTICS['norm']))\n",
    "print(Counter(hm.STATISTICS['norm']))"
   ]
  },
  {
   "cell_type": "code",
   "execution_count": 25,
   "id": "stuck-roller",
   "metadata": {
    "collapsed": false,
    "jupyter": {
     "outputs_hidden": false
    },
    "pycharm": {
     "name": "#%%\n"
    }
   },
   "outputs": [
    {
     "data": {
      "text/plain": [
       "120200.0"
      ]
     },
     "execution_count": 25,
     "metadata": {},
     "output_type": "execute_result"
    }
   ],
   "source": [
    "K2 = T_ - L + 1\n",
    "K2 * L/2"
   ]
  },
  {
   "cell_type": "markdown",
   "source": [
    "---"
   ],
   "metadata": {
    "collapsed": false,
    "pycharm": {
     "name": "#%% md\n"
    }
   }
  },
  {
   "cell_type": "markdown",
   "id": "outstanding-english",
   "metadata": {
    "pycharm": {
     "name": "#%% md\n"
    }
   },
   "source": [
    "Получили примерно те же самые значения и чем больше L, тем меньше влияет $\\frac{\\sin(4\\pi L\\omega_2)}{8\\pi\\omega_2}$.\n",
    "\n",
    "Можно также заметить, что при сравнительно небольших $L$ и больших $K_2$ влияние слагаемого в разности может увеличится и стать существенным."
   ]
  },
  {
   "cell_type": "code",
   "execution_count": null,
   "id": "governing-longitude",
   "metadata": {
    "collapsed": false,
    "jupyter": {
     "outputs_hidden": false
    },
    "pycharm": {
     "name": "#%%\n"
    }
   },
   "outputs": [],
   "source": []
  }
 ],
 "metadata": {
  "kernelspec": {
   "display_name": "Python 3",
   "language": "python",
   "name": "python3"
  },
  "language_info": {
   "codemirror_mode": {
    "name": "ipython",
    "version": 3
   },
   "file_extension": ".py",
   "mimetype": "text/x-python",
   "name": "python",
   "nbconvert_exporter": "python",
   "pygments_lexer": "ipython3",
   "version": "3.6.12"
  }
 },
 "nbformat": 4,
 "nbformat_minor": 5
}