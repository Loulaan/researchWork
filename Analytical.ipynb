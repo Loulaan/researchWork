{
 "cells": [
  {
   "cell_type": "code",
   "execution_count": 1,
   "id": "august-polyester",
   "metadata": {},
   "outputs": [
    {
     "name": "stderr",
     "output_type": "stream",
     "text": [
      "Unable to determine R home: [WinError 2] Не удается найти указанный файл\n",
      "Unable to determine R library path: Command '('D:\\\\Program Files\\\\R\\\\R-4.1.3\\\\bin\\\\Rscript', '-e', 'cat(Sys.getenv(\"LD_LIBRARY_PATH\"))')' returned non-zero exit status 1.\n",
      "R[write to console]: trying URL 'https://cloud.r-project.org/bin/windows/contrib/4.1/Rssa_1.0.4.zip'\n",
      "\n",
      "R[write to console]: Content type 'application/zip'\n",
      "R[write to console]:  length 2218897 bytes (2.1 MB)\n",
      "\n",
      "R[write to console]: downloaded 2.1 MB\n",
      "\n",
      "\n"
     ]
    },
    {
     "name": "stdout",
     "output_type": "stream",
     "text": [
      "package 'Rssa' successfully unpacked and MD5 sums checked\n"
     ]
    },
    {
     "name": "stderr",
     "output_type": "stream",
     "text": [
      "R[write to console]: Warning:\n",
      "R[write to console]:  cannot remove prior installation of package 'Rssa'\n",
      "\n",
      "R[write to console]: Warning:\n",
      "R[write to console]:  restored 'Rssa'\n",
      "\n"
     ]
    },
    {
     "name": "stdout",
     "output_type": "stream",
     "text": [
      "\n",
      "The downloaded binary packages are in\n",
      "\tC:\\Users\\ivank\\AppData\\Local\\Temp\\Rtmp00yyZp\\downloaded_packages\n"
     ]
    },
    {
     "name": "stderr",
     "output_type": "stream",
     "text": [
      "d:\\education\\magistracy\\researchwork\\researchwork\\venv\\lib\\site-packages\\rpy2\\robjects\\packages.py:366: UserWarning: The symbol 'quartz' is not in this R namespace/package.\n",
      "  warnings.warn(\n"
     ]
    }
   ],
   "source": [
    "from collections import Counter\n",
    "import numpy as np\n",
    "import rpy2.robjects as robjects\n",
    "import rpy2.robjects.numpy2ri\n",
    "from rpy2.robjects.packages import importr\n",
    "from utils.hmatrStatistics import Hmatr\n",
    "\n",
    "%load_ext autoreload\n",
    "%load_ext rpy2.ipython\n",
    "%autoreload 2\n",
    "rpy2.robjects.numpy2ri.activate()\n",
    "\n",
    "rssa = importr('Rssa')"
   ]
  },
  {
   "cell_type": "markdown",
   "id": "exciting-patent",
   "metadata": {
    "pycharm": {
     "name": "#%% md\n"
    }
   },
   "source": [
    "# Аналитическое исследование индекса неоднородности"
   ]
  },
  {
   "cell_type": "markdown",
   "id": "cooked-wagner",
   "metadata": {
    "pycharm": {
     "name": "#%% md\n"
    }
   },
   "source": [
    "Для простоты, пусть наш ряд задан как $x_n = sin(2\\pi \\omega n)$, причем $\\begin{equation*} \\omega = \\begin{cases} \\omega_1\\ n \\in [0, Q-1] \\\\ \\omega_2\\ n\\in [Q, N-1] \\end{cases} \\end{equation*}$"
   ]
  },
  {
   "cell_type": "markdown",
   "id": "unexpected-recycling",
   "metadata": {
    "pycharm": {
     "name": "#%% md\n"
    }
   },
   "source": [
    "Проведем аналитический анализ индекса неоднородности. Вспомним как он задается:\n",
    "$$g(F^{(1)}; F^{(2)}) = \\frac{\\sum\\limits_{l=1}^{K_2}\\mathrm{dist}^2(X_l^{(2)}, \\mathfrak{L}_r^{(1)})}{\\sum\\limits_{l=1}^{K_2}\\|X_l^{(2)}\\|^2} = \\frac{\\sum\\limits_{l=1}^{K_2}\\;(\\|X_l^{(2)}\\|^2 - \\sum\\limits_{i=1}^{r}\\langle X_l^{(2)}, U_i^{(1)}\\rangle^2)}{\\sum\\limits_{l=1}^{K_2}\\|X_l^{(2)}\\|^2} = 1 - \\frac{\\sum\\limits_{l=1}^{K_2}\\;\\sum\\limits_{i=1}^{r}\\langle X_l^{(2)}, U_i^{(1)}\\rangle^2}{\\sum\\limits_{l=1}^{K_2}\\|X_l^{(2)}\\|^2}$$\n"
   ]
  },
  {
   "cell_type": "markdown",
   "id": "dental-width",
   "metadata": {
    "pycharm": {
     "name": "#%% md\n"
    }
   },
   "source": [
    "## Знаменатель"
   ]
  },
  {
   "cell_type": "markdown",
   "id": "fifth-training",
   "metadata": {
    "pycharm": {
     "name": "#%% md\n"
    }
   },
   "source": [
    "Начнем со знаменателя $\\sum\\limits_{l=1}^{K_2}\\|X_l^{(2)}\\|^2$, а точнее, с квадрата нормы $\\|X_l^{(2)}\\|^2$. Оценим его:\n",
    "\n",
    "$$ \\|X_l^{(2)}\\|^2 = \\sum\\limits_{i=1}^{L}(X_{l_i}^{(2)}) = \\int\\limits_{0}^{L}X_{l_i}^{(2)} = \\int\\limits_{0}^{L}\\sin^2{(2\\pi\\omega_2 y)}dy = \\frac{L}{2} - \\frac{\\sin(4\\pi L\\omega_2)}{8\\pi\\omega_2} \\approx \\frac{L}{2} $$\n",
    "\n",
    "Отсюда $\\sum\\limits_{l=1}^{K_2}\\|X_l^{(2)}\\|^2 \\approx K_2\\cdot\\frac{L}{2}$.\n",
    "\n",
    "Проверим равенство программно."
   ]
  },
  {
   "cell_type": "code",
   "execution_count": 2,
   "id": "medical-company",
   "metadata": {},
   "outputs": [],
   "source": [
    "N = 700\n",
    "w1 = 1/10\n",
    "w2 = 1/5\n",
    "C = 1\n",
    "phi1 = 0\n",
    "phi2 = 0\n",
    "Q = 301\n",
    "B = 100\n",
    "T_ = 100\n",
    "L = 20\n",
    "r = 2\n",
    "method = \"svd\""
   ]
  },
  {
   "cell_type": "code",
   "execution_count": 3,
   "id": "colored-stewart",
   "metadata": {},
   "outputs": [],
   "source": [
    "def generate_series(omega, C=1, N=700, Q=301):\n",
    "    w1, w2 = omega\n",
    "    series = lambda n: C*np.sin(2*np.pi*w1*n + phi1) if n < Q-1 else C*np.sin(2*np.pi*w2*n + phi1)\n",
    "    return [series(i) for i in range(N)]"
   ]
  },
  {
   "cell_type": "code",
   "execution_count": 4,
   "outputs": [],
   "source": [
    "f = generate_series((w1, w2), N=N, Q=Q)\n",
    "hm = Hmatr(f, B, T_, L, neig=r, svdMethod=method)"
   ],
   "metadata": {
    "collapsed": false,
    "pycharm": {
     "name": "#%%\n"
    }
   }
  },
  {
   "cell_type": "code",
   "execution_count": 5,
   "outputs": [
    {
     "data": {
      "text/plain": "<Figure size 1008x216 with 1 Axes>",
      "image/png": "[encoded data removed]"
     },
     "metadata": {
      "needs_background": "light"
     },
     "output_type": "display_data"
    }
   ],
   "source": [
    "hm.plotHeterFunc('Permanent heterogeneity (frequency change)', 14, 3)"
   ],
   "metadata": {
    "collapsed": false,
    "pycharm": {
     "name": "#%%\n"
    }
   }
  },
  {
   "cell_type": "markdown",
   "id": "dutch-coordinator",
   "metadata": {},
   "source": [
    "В формуле расстояния считаются между базовыми и тестовыми подрядами. В знаменателе $X_l^{(2)}$ -  столбцы траекторной матрицы тестового подряда (в формуле (2.1) ряда $F^{(2)}$). Длина таких рядов равна $T$, а длина окна равна $L$. Отсюда $K_2 = T - L$"
   ]
  },
  {
   "cell_type": "code",
   "execution_count": 6,
   "id": "advance-generic",
   "metadata": {
    "collapsed": false,
    "jupyter": {
     "outputs_hidden": false
    },
    "pycharm": {
     "name": "#%%\n"
    }
   },
   "outputs": [
    {
     "data": {
      "text/plain": "80"
     },
     "execution_count": 6,
     "metadata": {},
     "output_type": "execute_result"
    }
   ],
   "source": [
    "K2 = T_ - L\n",
    "K2"
   ]
  },
  {
   "cell_type": "code",
   "execution_count": 7,
   "id": "charming-watts",
   "metadata": {
    "collapsed": false,
    "jupyter": {
     "outputs_hidden": false
    },
    "pycharm": {
     "name": "#%%\n"
    }
   },
   "outputs": [
    {
     "data": {
      "text/plain": "800.0"
     },
     "execution_count": 7,
     "metadata": {},
     "output_type": "execute_result"
    }
   ],
   "source": [
    "K2 * L/2"
   ]
  },
  {
   "cell_type": "markdown",
   "id": "thick-delta",
   "metadata": {
    "pycharm": {
     "name": "#%% md\n"
    }
   },
   "source": [
    "Проверим полученную аналитически оценку эмпирически."
   ]
  },
  {
   "cell_type": "code",
   "execution_count": 8,
   "id": "divine-lebanon",
   "metadata": {
    "scrolled": true
   },
   "outputs": [
    {
     "data": {
      "text/plain": "800.0"
     },
     "execution_count": 8,
     "metadata": {},
     "output_type": "execute_result"
    }
   ],
   "source": [
    "sum(hm.STATISTICS['norm'])/len(hm.STATISTICS['norm'])"
   ]
  },
  {
   "cell_type": "markdown",
   "id": "aggressive-rover",
   "metadata": {
    "pycharm": {
     "name": "#%% md\n"
    }
   },
   "source": [
    "Получили то же самое число, правда в среднем. Посмотрим на значения, которые встречались:"
   ]
  },
  {
   "cell_type": "code",
   "execution_count": 9,
   "id": "burning-latvia",
   "metadata": {
    "collapsed": false,
    "jupyter": {
     "outputs_hidden": false
    },
    "pycharm": {
     "name": "#%%\n"
    }
   },
   "outputs": [
    {
     "data": {
      "text/plain": "Counter({800.0: 584, 800.5590169943748: 8, 799.4409830056252: 8})"
     },
     "execution_count": 9,
     "metadata": {},
     "output_type": "execute_result"
    }
   ],
   "source": [
    "Counter(hm.STATISTICS['norm'])"
   ]
  },
  {
   "cell_type": "markdown",
   "id": "hazardous-listening",
   "metadata": {
    "pycharm": {
     "name": "#%% md\n"
    }
   },
   "source": [
    "Как мы видим, значения не сильно отклоняются от среднего. Отсюда можно заключить, что хвост $\\frac{\\sin(4\\pi L\\omega_2)}{8\\pi\\omega_2}$, отнимаемый от $\\frac{L}{2}$ ассимптотически не влияет на оценку $\\sum\\limits_{l=1}^{K_2}\\|X_l^{(2)}\\|^2$ и при достаточно больших $L$ мы имеем равенство: $\\sum\\limits_{l=1}^{K_2}\\|X_l^{(2)}\\|^2 = K_2\\cdot\\frac{L}{2}$."
   ]
  },
  {
   "cell_type": "markdown",
   "id": "proper-paraguay",
   "metadata": {
    "pycharm": {
     "name": "#%% md\n"
    }
   },
   "source": [
    "Для подтверждения нашего предположения, проведем еще несколько экспериментов."
   ]
  },
  {
   "cell_type": "markdown",
   "id": "italic-motel",
   "metadata": {
    "pycharm": {
     "name": "#%% md\n"
    }
   },
   "source": [
    "---"
   ]
  },
  {
   "cell_type": "markdown",
   "id": "minor-demand",
   "metadata": {
    "pycharm": {
     "name": "#%% md\n"
    }
   },
   "source": [
    "1"
   ]
  },
  {
   "cell_type": "code",
   "execution_count": 10,
   "id": "complimentary-polymer",
   "metadata": {
    "collapsed": false,
    "jupyter": {
     "outputs_hidden": false
    },
    "pycharm": {
     "name": "#%%\n"
    }
   },
   "outputs": [
    {
     "name": "stdout",
     "output_type": "stream",
     "text": [
      "4950.0\n",
      "Counter({4950.0: 660, 4950.000000000002: 14, 4950.000000000004: 10, 4949.999999999993: 10, 4950.000000000001: 6})\n"
     ]
    }
   ],
   "source": [
    "L = 990\n",
    "N = 1700\n",
    "Q = 801\n",
    "B = 1000\n",
    "T_ = 1000\n",
    "f = generate_series((w1, w2), N=N, Q=Q)\n",
    "hm = Hmatr(f, B, T_, L, neig=r, svdMethod=method)\n",
    "print(sum(hm.STATISTICS['norm'])/len(hm.STATISTICS['norm']))\n",
    "print(Counter(hm.STATISTICS['norm']))"
   ]
  },
  {
   "cell_type": "code",
   "execution_count": 11,
   "id": "chief-capture",
   "metadata": {
    "collapsed": false,
    "jupyter": {
     "outputs_hidden": false
    },
    "pycharm": {
     "name": "#%%\n"
    }
   },
   "outputs": [
    {
     "data": {
      "text/plain": "4950.0"
     },
     "execution_count": 11,
     "metadata": {},
     "output_type": "execute_result"
    }
   ],
   "source": [
    "K2 = T_ - L\n",
    "K2 * L/2"
   ]
  },
  {
   "cell_type": "markdown",
   "id": "retained-dating",
   "metadata": {
    "pycharm": {
     "name": "#%% md\n"
    }
   },
   "source": [
    "---"
   ]
  },
  {
   "cell_type": "markdown",
   "id": "eligible-degree",
   "metadata": {
    "pycharm": {
     "name": "#%% md\n"
    }
   },
   "source": [
    "2"
   ]
  },
  {
   "cell_type": "code",
   "execution_count": 12,
   "id": "sought-drill",
   "metadata": {
    "collapsed": false,
    "jupyter": {
     "outputs_hidden": false
    },
    "pycharm": {
     "name": "#%%\n"
    }
   },
   "outputs": [
    {
     "name": "stdout",
     "output_type": "stream",
     "text": [
      "119999.90416851516\n",
      "Counter({120000.0: 580, 119999.44098300562: 120})\n"
     ]
    }
   ],
   "source": [
    "L = 400\n",
    "N = 1700\n",
    "Q = 301\n",
    "B = 1000\n",
    "T_ = 1000\n",
    "f = generate_series((w1, w2), N=N, Q=Q)\n",
    "hm = Hmatr(f, B, T_, L, neig=r, svdMethod=method)\n",
    "print(sum(hm.STATISTICS['norm'])/len(hm.STATISTICS['norm']))\n",
    "print(Counter(hm.STATISTICS['norm']))"
   ]
  },
  {
   "cell_type": "code",
   "execution_count": 13,
   "id": "acute-southeast",
   "metadata": {
    "collapsed": false,
    "jupyter": {
     "outputs_hidden": false
    },
    "pycharm": {
     "name": "#%%\n"
    }
   },
   "outputs": [
    {
     "data": {
      "text/plain": "120000.0"
     },
     "execution_count": 13,
     "metadata": {},
     "output_type": "execute_result"
    }
   ],
   "source": [
    "K2 = T_ - L\n",
    "K2 * L/2"
   ]
  },
  {
   "cell_type": "markdown",
   "id": "joint-fundamental",
   "metadata": {
    "pycharm": {
     "name": "#%% md\n"
    }
   },
   "source": [
    "Получили примерно те же самые значения и чем больше L, тем меньше влияет $\\frac{\\sin(4\\pi L\\omega_2)}{8\\pi\\omega_2}$."
   ]
  },
  {
   "cell_type": "markdown",
   "id": "subtle-landscape",
   "metadata": {
    "pycharm": {
     "name": "#%% md\n"
    }
   },
   "source": [
    "---"
   ]
  },
  {
   "cell_type": "markdown",
   "id": "statutory-dance",
   "metadata": {
    "pycharm": {
     "name": "#%% md\n"
    }
   },
   "source": [
    "## Числитель"
   ]
  },
  {
   "cell_type": "markdown",
   "id": "unexpected-edinburgh",
   "metadata": {
    "pycharm": {
     "name": "#%% md\n"
    }
   },
   "source": [
    "Для простоты мы взяли ряд, состоящий из синусов. Его ранг равен $ 2 $ и скалярное произведение будет состоять из одинаковых слагаемых.\n",
    "\n",
    "\n",
    "\n",
    "$$ \\sum\\limits_{l=1}^{K_2}\\;\\sum\\limits_{i=1}^{r}\\langle X_l^{(2)}, U_i^{(1)}\\rangle^2 = \\sum\\limits_{l=1}^{K_2}\\;\\sum\\limits_{i=1}^{r}\\;\\left (\\sum\\limits_{j=1}^{L}X_{l_j}^{(2)}\\cdot U_{i_j}^{(1)}\\right )^2 \\approx \\sum\\limits_{l=1}^{K_2}\\;\\sum\\limits_{i=1}^{r} \\left (\\int\\limits_{0}^{L}(X_{l}^{(2)} \\cdot U_{i}^{(1)})dy\\right )^2 = $$\n",
    "$$ = \\sum\\limits_{l=1}^{K_2}\\;\\left[\\left(\\int\\limits_{0}^{L}(X_{l}^{(2)} \\cdot U_{1}^{(1)})dy\\right )^2 + \\left(\\int\\limits_{0}^{L}(X_{l}^{(2)} \\cdot U_{2}^{(1)})dy\\right )^2\\right ] \\approx $$\n",
    "$$ \\approx K_2 \\cdot\\left[\\left(\\int\\limits_{0}^{L}(X_{l}^{(2)} \\cdot U_{1}^{(1)})dy\\right )^2 + \\left(\\int\\limits_{0}^{L}(X_{l}^{(2)} \\cdot U_{2}^{(1)})dy\\right )^2\\right ] = $$\n",
    "\n",
    "$$ = K_2 \\cdot\\left[\\left(\\int\\limits_{0}^{L}(\\sin(2\\pi\\omega_2 y) \\cdot \\frac{\\sin(2\\pi\\omega_1 y)}{\\sqrt{L/2}}dy\\right )^2 + \\left(\\int\\limits_{0}^{L}(\\sin(2\\pi\\omega_2 y) \\cdot \\frac{\\cos(2\\pi\\omega_1 y)}{\\sqrt{L/2}})dy\\right )^2\\right ] = $$\n",
    "$$ = K_2 \\cdot \\frac{2}{L} \\cdot\\left[\\left(\\int\\limits_{0}^{L}(\\sin(2\\pi\\omega_2 y) \\cdot \\sin(2\\pi\\omega_1 y)dy\\right )^2 + \\left(\\int\\limits_{0}^{L}(\\sin(2\\pi\\omega_2 y) \\cdot \\cos(2\\pi\\omega_1 y))dy\\right )^2\\right ] $$"
   ]
  },
  {
   "cell_type": "markdown",
   "id": "obvious-short",
   "metadata": {
    "pycharm": {
     "name": "#%% md\n"
    }
   },
   "source": [
    "## Индекс неоднородности"
   ]
  },
  {
   "cell_type": "markdown",
   "id": "aboriginal-exploration",
   "metadata": {
    "pycharm": {
     "name": "#%% md\n"
    }
   },
   "source": [
    "Собирая все вместе, получаем:\n",
    "\n",
    "$$ 1 - \\frac{\\sum\\limits_{l=1}^{K_2}\\;\\sum\\limits_{i=1}^{r}\\langle X_l^{(2)}, U_i^{(1)}\\rangle^2}{\\sum\\limits_{l=1}^{K_2}\\|X_l^{(2)}\\|^2} \\approx  $$\n",
    "$$ \\approx 1 - \\frac{K_2 \\cdot \\frac{2}{L} \\cdot\\left[\\left(\\int\\limits_{0}^{L}(\\sin(2\\pi\\omega_2 y) \\cdot \\sin(2\\pi\\omega_1 y)dy\\right )^2 + \\left(\\int\\limits_{0}^{L}(\\sin(2\\pi\\omega_2 y) \\cdot \\cos(2\\pi\\omega_1 y))dy\\right )^2\\right ]}{K_2\\cdot\\frac{L}{2}} = $$\n",
    "$$ = 1 - \\frac{\\left(\\int\\limits_{0}^{L}(\\sin(2\\pi\\omega_2 y) \\cdot \\sin(2\\pi\\omega_1 y)dy\\right )^2 + \\left(\\int\\limits_{0}^{L}(\\sin(2\\pi\\omega_2 y) \\cdot \\cos(2\\pi\\omega_1 y))dy\\right )^2}{\\frac{L^2}{4}} = $$\n",
    "$$ = 1 - \\frac{\\left[ \\left(  \\frac{\\sin(2\\pi Lb)}{4\\pi b} - \\frac{\\sin(2\\pi La)}{4\\pi a}   \\right)^2 + \\left(  \\frac{\\cos(2\\pi Lb)}{4\\pi b} - \\frac{\\cos(2\\pi La)}{4\\pi a}  \\right)^2 \\right]}{\\frac{L^2}{4}} $$\n",
    "\n",
    "где $a = \\omega_1 + \\omega_2$, $b = \\omega_1 - \\omega_2$.\n"
   ]
  },
  {
   "cell_type": "markdown",
   "id": "consecutive-rehabilitation",
   "metadata": {
    "pycharm": {
     "name": "#%% md\n"
    }
   },
   "source": [
    "Сравним полученную формулу с оригинальной."
   ]
  },
  {
   "cell_type": "code",
   "execution_count": 14,
   "id": "fuzzy-trailer",
   "metadata": {
    "pycharm": {
     "name": "#%%\n"
    }
   },
   "outputs": [],
   "source": [
    "N = 700\n",
    "Q = 301\n",
    "B = 100\n",
    "T_ = 100"
   ]
  },
  {
   "cell_type": "markdown",
   "id": "rough-institution",
   "metadata": {
    "pycharm": {
     "name": "#%% md\n"
    }
   },
   "source": [
    "Возьмем $\\omega_1 = \\frac{1}{10}$, $\\omega_2 = \\frac{1}{20}$ и сравним индексы неоднородности до и после разладки."
   ]
  },
  {
   "cell_type": "code",
   "execution_count": 15,
   "id": "induced-pierre",
   "metadata": {
    "pycharm": {
     "name": "#%%\n"
    }
   },
   "outputs": [
    {
     "data": {
      "text/plain": "(0.0, 1.0)"
     },
     "execution_count": 15,
     "metadata": {},
     "output_type": "execute_result"
    }
   ],
   "source": [
    "w1 = 1/10\n",
    "w2 = 1/20\n",
    "L = 60\n",
    "f = generate_series((w1, w2), N=N, Q=Q)\n",
    "hm = Hmatr(f, B, T_, L, neig=r, svdMethod=method)\n",
    "hm.compute_single_row(0)[1], hm.compute_single_row(0)[-1]"
   ]
  },
  {
   "cell_type": "code",
   "execution_count": 16,
   "id": "current-program",
   "metadata": {
    "pycharm": {
     "name": "#%%\n"
    }
   },
   "outputs": [
    {
     "data": {
      "text/plain": "(0.0, 1.0)"
     },
     "execution_count": 16,
     "metadata": {},
     "output_type": "execute_result"
    }
   ],
   "source": [
    "hm.compute_single_val_analytical(1/10, 1/10), hm.compute_single_val_analytical(1/10, 1/20)"
   ]
  },
  {
   "cell_type": "markdown",
   "id": "confident-polymer",
   "metadata": {},
   "source": [
    "Увеличим $L$ до $80$"
   ]
  },
  {
   "cell_type": "code",
   "execution_count": 17,
   "id": "asian-collector",
   "metadata": {},
   "outputs": [
    {
     "data": {
      "text/plain": "1.0"
     },
     "execution_count": 17,
     "metadata": {},
     "output_type": "execute_result"
    }
   ],
   "source": [
    "w1 = 1/10\n",
    "w2 = 1/20\n",
    "L = 80\n",
    "f = generate_series((w1, w2), N=N, Q=Q)\n",
    "hm = Hmatr(f, B, T_, L, neig=r, svdMethod=method)\n",
    "hm.compute_single_row(0)[-1]"
   ]
  },
  {
   "cell_type": "code",
   "execution_count": 18,
   "id": "gothic-probability",
   "metadata": {},
   "outputs": [
    {
     "data": {
      "text/plain": "1.0"
     },
     "execution_count": 18,
     "metadata": {},
     "output_type": "execute_result"
    }
   ],
   "source": [
    "hm.compute_single_val_analytical(1/10, 1/20)"
   ]
  },
  {
   "cell_type": "markdown",
   "id": "forced-tamil",
   "metadata": {},
   "source": [
    "Уменьшим $L$ до $40$"
   ]
  },
  {
   "cell_type": "code",
   "execution_count": 19,
   "id": "final-dispute",
   "metadata": {},
   "outputs": [
    {
     "data": {
      "text/plain": "1.0"
     },
     "execution_count": 19,
     "metadata": {},
     "output_type": "execute_result"
    }
   ],
   "source": [
    "w1 = 1/10\n",
    "w2 = 1/20\n",
    "L = 40\n",
    "f = generate_series((w1, w2), N=N, Q=Q)\n",
    "hm = Hmatr(f, B, T_, L, neig=r, svdMethod=method)\n",
    "hm.compute_single_row(0)[-1]"
   ]
  },
  {
   "cell_type": "code",
   "execution_count": 20,
   "id": "parental-dinner",
   "metadata": {},
   "outputs": [
    {
     "data": {
      "text/plain": "1.0"
     },
     "execution_count": 20,
     "metadata": {},
     "output_type": "execute_result"
    }
   ],
   "source": [
    "hm.compute_single_val_analytical(1/10, 1/20)"
   ]
  },
  {
   "cell_type": "markdown",
   "id": "killing-plymouth",
   "metadata": {
    "pycharm": {
     "name": "#%% md\n"
    }
   },
   "source": [
    "Получили похожие числа. Наблюдается подтверждение предположение о зависимости значений аналитической формулы от величины $L$."
   ]
  },
  {
   "cell_type": "markdown",
   "id": "moving-output",
   "metadata": {},
   "source": [
    "---"
   ]
  },
  {
   "cell_type": "markdown",
   "id": "rising-aruba",
   "metadata": {
    "pycharm": {
     "name": "#%% md\n"
    }
   },
   "source": [
    "Уменьшим разность частот, сохранив $L=50$: $\\omega_1 = \\frac{1}{10}$, $\\omega_2 = \\frac{1}{11}$"
   ]
  },
  {
   "cell_type": "code",
   "execution_count": 21,
   "id": "august-taxation",
   "metadata": {
    "pycharm": {
     "name": "#%%\n"
    }
   },
   "outputs": [
    {
     "data": {
      "text/plain": "(0.36404161999999995, 0.4040927156942612)"
     },
     "execution_count": 21,
     "metadata": {},
     "output_type": "execute_result"
    }
   ],
   "source": [
    "w1 = 1/10\n",
    "w2 = 1/11\n",
    "f = generate_series((w1, w2), N=N, Q=Q)\n",
    "hm = Hmatr(f, B, T_, L, neig=r, svdMethod=method)\n",
    "hm.getRow()[-1], hm.compute_single_val_analytical(w1, w2)"
   ]
  },
  {
   "cell_type": "markdown",
   "id": "possible-flavor",
   "metadata": {
    "pycharm": {
     "name": "#%% md\n"
    }
   },
   "source": [
    "Увеличим $L$ до $80$"
   ]
  },
  {
   "cell_type": "code",
   "execution_count": 22,
   "id": "secure-gothic",
   "metadata": {
    "pycharm": {
     "name": "#%%\n"
    }
   },
   "outputs": [
    {
     "data": {
      "text/plain": "(0.89075337, 0.8918237156054927)"
     },
     "execution_count": 22,
     "metadata": {},
     "output_type": "execute_result"
    }
   ],
   "source": [
    "w1 = 1/10\n",
    "w2 = 1/11\n",
    "L = 80\n",
    "f = generate_series((w1, w2), N=N, Q=Q)\n",
    "hm = Hmatr(f, B, T_, L, neig=r, svdMethod=method)\n",
    "hm.getRow()[-1], hm.compute_single_val_analytical(w1, w2)"
   ]
  },
  {
   "cell_type": "markdown",
   "id": "charming-variable",
   "metadata": {
    "pycharm": {
     "name": "#%% md\n"
    }
   },
   "source": [
    "Получили более близкие друг к другу значения. Увеличим $L=90$"
   ]
  },
  {
   "cell_type": "code",
   "execution_count": 23,
   "id": "varying-nepal",
   "metadata": {},
   "outputs": [
    {
     "data": {
      "text/plain": "(0.95585467, 0.9539090663224467)"
     },
     "execution_count": 23,
     "metadata": {},
     "output_type": "execute_result"
    }
   ],
   "source": [
    "w1 = 1/10\n",
    "w2 = 1/11\n",
    "L = 90\n",
    "f = generate_series((w1, w2), N=N, Q=Q)\n",
    "hm = Hmatr(f, B, T_, L, neig=r, svdMethod=method)\n",
    "hm.getRow()[-1], hm.compute_single_val_analytical(w1, w2)"
   ]
  },
  {
   "cell_type": "markdown",
   "id": "fourth-oriental",
   "metadata": {},
   "source": [
    "С ростом $L$ значения индекса неоднородности сходятся друг к другу."
   ]
  },
  {
   "cell_type": "markdown",
   "id": "sexual-manhattan",
   "metadata": {
    "pycharm": {
     "name": "#%% md\n"
    }
   },
   "source": [
    "---"
   ]
  },
  {
   "cell_type": "markdown",
   "source": [
    "## Зависимость от изменения $\\omega_2$"
   ],
   "metadata": {
    "collapsed": false,
    "pycharm": {
     "name": "#%% md\n"
    }
   }
  },
  {
   "cell_type": "code",
   "execution_count": 24,
   "id": "dutch-punishment",
   "metadata": {
    "collapsed": false,
    "jupyter": {
     "outputs_hidden": false
    },
    "pycharm": {
     "name": "#%%\n"
    }
   },
   "outputs": [
    {
     "data": {
      "text/plain": "(0.98790423, 0.9889484244986944)"
     },
     "execution_count": 24,
     "metadata": {},
     "output_type": "execute_result"
    }
   ],
   "source": [
    "w1 = 1/10\n",
    "w2 = 1/10+1/100\n",
    "f = generate_series((w1, w2), N=N, Q=Q)\n",
    "hm = Hmatr(f, B, T_, L, neig=r, svdMethod=method)\n",
    "hm.getRow()[-1], hm.compute_single_val_analytical(w1, w2)"
   ]
  },
  {
   "cell_type": "code",
   "execution_count": 25,
   "id": "continent-message",
   "metadata": {
    "collapsed": false,
    "jupyter": {
     "outputs_hidden": false
    },
    "pycharm": {
     "name": "#%%\n"
    }
   },
   "outputs": [],
   "source": [
    "from matplotlib import pyplot as plt\n",
    "L= 50\n",
    "def generate_gs_comparsion_omegas():\n",
    "    w1 = 1/10\n",
    "    w2 = 1/np.arange(10, 12, 0.02)\n",
    "\n",
    "    gs_a = []\n",
    "    gs_c = []\n",
    "\n",
    "    for i in range(len(w2)):\n",
    "        f = generate_series((w1, w2[i]), N=N, Q=Q)\n",
    "        hm = Hmatr(f, B, T_, L, neig=r, svdMethod=method)\n",
    "        gs_c.append(hm.compute_single_row(0)[-1])\n",
    "        gs_a.append(hm.compute_single_val_analytical(w1, w2[i], verbose=False))\n",
    "    return w1, w2, gs_a, gs_c"
   ]
  },
  {
   "cell_type": "code",
   "execution_count": 24,
   "id": "moral-mason",
   "metadata": {
    "collapsed": false,
    "jupyter": {
     "outputs_hidden": false
    },
    "pycharm": {
     "name": "#%%\n"
    }
   },
   "outputs": [],
   "source": [
    "w1_, w2_, gs_a, gs_c = generate_gs_comparsion_omegas()"
   ]
  },
  {
   "cell_type": "code",
   "execution_count": 25,
   "id": "flush-gallery",
   "metadata": {
    "collapsed": false,
    "jupyter": {
     "outputs_hidden": false
    },
    "pycharm": {
     "name": "#%%\n"
    }
   },
   "outputs": [
    {
     "data": {
      "text/plain": [
       "<matplotlib.legend.Legend at 0x28bae9271c0>"
      ]
     },
     "execution_count": 25,
     "metadata": {},
     "output_type": "execute_result"
    },
    {
     "data": {
      "image/png": "[encoded data removed]",
      "text/plain": [
       "<Figure size 864x360 with 1 Axes>"
      ]
     },
     "metadata": {
      "needs_background": "light"
     },
     "output_type": "display_data"
    }
   ],
   "source": [
    "plt.figure(figsize=(12, 5))\n",
    "plt.title(\"Heterogeneity index\")\n",
    "plt.xlabel(r\"$\\omega_2$\")\n",
    "plt.ylabel(r\"$G(F^{(1)}, F^{(2)})$\")\n",
    "plt.grid()\n",
    "plt.plot(w2_, gs_a, marker=\".\", color=\"g\", label=\"Analytical approximation\")\n",
    "plt.plot(w2_, gs_c, marker=\".\", color=\"b\", label=\"Classic approach\")\n",
    "plt.legend(loc = \"lower left\")\n",
    "# plt.savefig(\"dynamics_w2.png\")"
   ]
  },
  {
   "cell_type": "code",
   "execution_count": null,
   "id": "inner-ribbon",
   "metadata": {
    "collapsed": false,
    "jupyter": {
     "outputs_hidden": false
    },
    "pycharm": {
     "name": "#%%\n"
    }
   },
   "outputs": [],
   "source": []
  },
  {
   "cell_type": "code",
   "execution_count": 26,
   "id": "european-seven",
   "metadata": {
    "collapsed": false,
    "jupyter": {
     "outputs_hidden": false
    },
    "pycharm": {
     "name": "#%%\n"
    }
   },
   "outputs": [],
   "source": [
    "from matplotlib import pyplot as plt\n",
    "L = 90\n",
    "def generate_gs_comparsion_omegas():\n",
    "    w1 = 1/10\n",
    "    w2 = 1/np.arange(10, 12, 0.02)\n",
    "\n",
    "    gs_a = []\n",
    "    gs_c = []\n",
    "\n",
    "    for i in range(len(w2)):\n",
    "        f = generate_series((w1, w2[i]), N=N, Q=Q)\n",
    "        hm = Hmatr(f, B, T_, L, neig=r, svdMethod=method)\n",
    "        gs_c.append(hm.compute_single_row(0)[-1])\n",
    "        gs_a.append(hm.compute_single_val_analytical(w1, w2[i], verbose=False))\n",
    "    return w1, w2, gs_a, gs_c"
   ]
  },
  {
   "cell_type": "code",
   "execution_count": 27,
   "id": "declared-china",
   "metadata": {
    "collapsed": false,
    "jupyter": {
     "outputs_hidden": false
    },
    "pycharm": {
     "name": "#%%\n"
    }
   },
   "outputs": [],
   "source": [
    "w1_, w2_, gs_a, gs_c = generate_gs_comparsion_omegas()"
   ]
  },
  {
   "cell_type": "code",
   "execution_count": 28,
   "id": "played-scholar",
   "metadata": {
    "collapsed": false,
    "jupyter": {
     "outputs_hidden": false
    },
    "pycharm": {
     "name": "#%%\n"
    }
   },
   "outputs": [
    {
     "data": {
      "text/plain": "<matplotlib.legend.Legend at 0x26d4ad278e0>"
     },
     "execution_count": 28,
     "metadata": {},
     "output_type": "execute_result"
    },
    {
     "data": {
      "text/plain": "<Figure size 864x360 with 1 Axes>",
      "image/png": "[encoded data removed]"
     },
     "metadata": {
      "needs_background": "light"
     },
     "output_type": "display_data"
    }
   ],
   "source": [
    "plt.figure(figsize=(12, 5))\n",
    "plt.title(\"Heterogeneity index\")\n",
    "plt.xlabel(r\"$\\omega_2$\")\n",
    "plt.ylabel(r\"$G(F^{(1)}, F^{(2)})$\")\n",
    "plt.grid()\n",
    "plt.plot(w2_, gs_a, marker=\".\", color=\"g\", label=\"Analytical approximation\")\n",
    "plt.plot(w2_, gs_c, marker=\".\", color=\"b\", label=\"Classic approach\")\n",
    "plt.legend(loc = \"lower left\")\n",
    "# plt.savefig(\"dynamics_w2.png\")"
   ]
  },
  {
   "cell_type": "code",
   "execution_count": 26,
   "id": "desirable-helmet",
   "metadata": {},
   "outputs": [],
   "source": [
    "from matplotlib import pyplot as plt\n",
    "\n",
    "def generate_gs_comparsion_omegas():\n",
    "    w1 = 1/10\n",
    "    w2 = 1/np.arange(10, 20, 0.2)\n",
    "\n",
    "    gs_a = []\n",
    "    gs_c = []\n",
    "\n",
    "    for i in range(len(w2)):\n",
    "        f = generate_series((w1, w2[i]), N=N, Q=Q)\n",
    "        hm = Hmatr(f, B, T_, L, neig=r, svdMethod=method)\n",
    "        gs_c.append(hm.compute_single_row(0)[-1])\n",
    "        gs_a.append(hm.compute_single_val_analytical(w1, w2[i], verbose=False))\n",
    "    return w1, w2, gs_a, gs_c"
   ]
  },
  {
   "cell_type": "code",
   "execution_count": 27,
   "id": "geographic-champion",
   "metadata": {},
   "outputs": [],
   "source": [
    "w1_, w2_, gs_a, gs_c = generate_gs_comparsion_omegas()"
   ]
  },
  {
   "cell_type": "code",
   "execution_count": 28,
   "id": "cloudy-adolescent",
   "metadata": {
    "pycharm": {
     "name": "#%%\n"
    }
   },
   "outputs": [
    {
     "data": {
      "text/plain": [
       "<matplotlib.legend.Legend at 0x28bae8a2530>"
      ]
     },
     "execution_count": 28,
     "metadata": {},
     "output_type": "execute_result"
    },
    {
     "data": {
      "image/png": "[encoded data removed]",
      "text/plain": [
       "<Figure size 864x360 with 1 Axes>"
      ]
     },
     "metadata": {
      "needs_background": "light"
     },
     "output_type": "display_data"
    }
   ],
   "source": [
    "plt.figure(figsize=(12, 5))\n",
    "plt.title(\"Heterogeneity index\")\n",
    "plt.xlabel(r\"$\\omega_2$\")\n",
    "plt.ylabel(r\"$G(F^{(1)}, F^{(2)})$\")\n",
    "plt.grid()\n",
    "plt.plot(w2_, gs_a, marker=\".\", color=\"g\", label=\"Analytical approximation\")\n",
    "plt.plot(w2_, gs_c, marker=\".\", color=\"b\", label=\"Classic approach\")\n",
    "plt.legend(loc = \"lower left\")\n",
    "# plt.savefig(\"dynamics_w2.png\")"
   ]
  },
  {
   "cell_type": "markdown",
   "id": "based-litigation",
   "metadata": {},
   "source": [
    "### Динамика по $L$"
   ]
  },
  {
   "cell_type": "code",
   "execution_count": 41,
   "id": "wanted-eligibility",
   "metadata": {
    "pycharm": {
     "name": "#%%\n"
    }
   },
   "outputs": [],
   "source": [
    "def generate_gs_comparsion_Ls():\n",
    "    w1 = 1/10\n",
    "    w2 = 11/100\n",
    "    B = 200\n",
    "    T_ = 200\n",
    "    L = np.arange(10, 110, 1, dtype=int)\n",
    "    f = generate_series((w1, w2), N=N, Q=Q)\n",
    "    hm = Hmatr(f, B, T_, 20, neig=r, svdMethod=method)\n",
    "    \n",
    "    gs_a = []\n",
    "    gs_c = []\n",
    "\n",
    "    for i in range(len(L)):\n",
    "#         hm = Hmatr(f, B, T_, L[i], neig=r, svdMethod=method)\n",
    "        gs_c.append(hm.compute_single_row(0, L[i])[-1])\n",
    "        gs_a.append(hm.compute_single_val_analytical(w1, w2, verbose=False))\n",
    "    return L, gs_a, gs_c"
   ]
  },
  {
   "cell_type": "code",
   "execution_count": 42,
   "id": "critical-quality",
   "metadata": {
    "scrolled": true
   },
   "outputs": [],
   "source": [
    "L_, gs_a, gs_c = generate_gs_comparsion_Ls()"
   ]
  },
  {
   "cell_type": "code",
   "execution_count": 43,
   "id": "expired-motion",
   "metadata": {
    "pycharm": {
     "name": "#%%\n"
    }
   },
   "outputs": [
    {
     "data": {
      "text/plain": "<matplotlib.legend.Legend at 0x26d5f0849d0>"
     },
     "execution_count": 43,
     "metadata": {},
     "output_type": "execute_result"
    },
    {
     "data": {
      "text/plain": "<Figure size 1080x360 with 1 Axes>",
      "image/png": "[encoded data removed]"
     },
     "metadata": {
      "needs_background": "light"
     },
     "output_type": "display_data"
    }
   ],
   "source": [
    "plt.figure(figsize=(15, 5))\n",
    "plt.title(fr\"$\\omega_1$={1/10}, $\\omega_2$={11/100}\")\n",
    "plt.xlabel(r\"$L$\")\n",
    "plt.ylabel(r\"$g$\")\n",
    "plt.grid()\n",
    "plt.plot(L_, gs_a, marker=\".\", color=\"g\", label=r\"g_a\")\n",
    "plt.plot(L_, gs_c, marker=\".\", color=\"b\", label=\"g\")\n",
    "plt.legend(loc = \"lower right\")\n",
    "# plt.savefig(\"/report/tex/images/dynamics_L.png\")"
   ]
  },
  {
   "cell_type": "code",
   "execution_count": 44,
   "outputs": [],
   "source": [
    "def generate_gs_comparsion_Ls():\n",
    "    w1 = 1/10\n",
    "    w2 = 1/5\n",
    "    B = 200\n",
    "    T_ = 200\n",
    "    L = np.arange(10, 110, 1, dtype=int)\n",
    "    f = generate_series((w1, w2), N=N, Q=Q)\n",
    "    hm = Hmatr(f, B, T_, 20, neig=r, svdMethod=method)\n",
    "\n",
    "    gs_a = []\n",
    "    gs_c = []\n",
    "\n",
    "    for i in range(len(L)):\n",
    "#         hm = Hmatr(f, B, T_, L[i], neig=r, svdMethod=method)\n",
    "        gs_c.append(hm.compute_single_row(0, L[i])[-1])\n",
    "        gs_a.append(hm.compute_single_val_analytical(w1, w2, verbose=False))\n",
    "    return L, gs_a, gs_c"
   ],
   "metadata": {
    "collapsed": false,
    "pycharm": {
     "name": "#%%\n"
    }
   }
  },
  {
   "cell_type": "code",
   "execution_count": 45,
   "outputs": [],
   "source": [
    "L_, gs_a, gs_c = generate_gs_comparsion_Ls()"
   ],
   "metadata": {
    "collapsed": false,
    "pycharm": {
     "name": "#%%\n"
    }
   }
  },
  {
   "cell_type": "code",
   "execution_count": 46,
   "outputs": [
    {
     "data": {
      "text/plain": "<matplotlib.legend.Legend at 0x26d5f3cc8b0>"
     },
     "execution_count": 46,
     "metadata": {},
     "output_type": "execute_result"
    },
    {
     "data": {
      "text/plain": "<Figure size 1080x360 with 1 Axes>",
      "image/png": "[encoded data removed]"
     },
     "metadata": {
      "needs_background": "light"
     },
     "output_type": "display_data"
    }
   ],
   "source": [
    "plt.figure(figsize=(15, 5))\n",
    "plt.title(fr\"$\\omega_1$={1/10}, $\\omega_2$={1/5}\")\n",
    "plt.xlabel(r\"$L$\")\n",
    "plt.ylabel(r\"$g$\")\n",
    "plt.grid()\n",
    "plt.plot(L_, gs_a, marker=\".\", color=\"g\", label=r\"g_a\")\n",
    "plt.plot(L_, gs_c, marker=\".\", color=\"b\", label=\"g\")\n",
    "plt.legend(loc = \"lower right\")\n",
    "# plt.savefig(\"/report/tex/images/dynamics_L_1.png\")"
   ],
   "metadata": {
    "collapsed": false,
    "pycharm": {
     "name": "#%%\n"
    }
   }
  },
  {
   "cell_type": "code",
   "execution_count": 125,
   "id": "numeric-honduras",
   "metadata": {},
   "outputs": [
    {
     "data": {
      "text/plain": [
       "<matplotlib.legend.Legend at 0x28e25fc4a90>"
      ]
     },
     "execution_count": 125,
     "metadata": {},
     "output_type": "execute_result"
    },
    {
     "data": {
      "image/png": "[encoded data removed]",
      "text/plain": [
       "<Figure size 864x360 with 1 Axes>"
      ]
     },
     "metadata": {
      "needs_background": "light"
     },
     "output_type": "display_data"
    }
   ],
   "source": [
    "L_, gs_a, gs_c = generate_gs_comparsion_Ls()\n",
    "plt.figure(figsize=(12, 5))\n",
    "plt.title(\"Heterogeneity index\")\n",
    "plt.xlabel(r\"$L$\")\n",
    "plt.ylabel(r\"$G(F^{(1)}, F^{(2)})$\")\n",
    "plt.grid()\n",
    "plt.plot(L_, gs_a, marker=\".\", color=\"g\", label=\"Analytical approximation\")\n",
    "plt.plot(L_, gs_c, marker=\".\", color=\"b\", label=\"Classic approach\")\n",
    "plt.legend(loc = \"lower right\")"
   ]
  },
  {
   "cell_type": "markdown",
   "id": "australian-election",
   "metadata": {},
   "source": [
    "### Краевые случаи"
   ]
  },
  {
   "cell_type": "markdown",
   "id": "medical-madagascar",
   "metadata": {},
   "source": [
    "#### $a = 2\\omega_1,\\; b = 0$"
   ]
  },
  {
   "cell_type": "code",
   "execution_count": 77,
   "id": "offensive-taste",
   "metadata": {},
   "outputs": [
    {
     "data": {
      "text/plain": [
       "(0.0, 3.3306690738754696e-16)"
      ]
     },
     "execution_count": 77,
     "metadata": {},
     "output_type": "execute_result"
    }
   ],
   "source": [
    "w1 = 1/10\n",
    "w2 = w1\n",
    "L = 90\n",
    "f = generate_series((w1, w2), N=N, Q=Q)\n",
    "hm = Hmatr(f, B, T_, L, neig=r, svdMethod=method)\n",
    "hm.getRow()[-1], hm.compute_single_val_analytical(w1, w2)"
   ]
  },
  {
   "cell_type": "markdown",
   "id": "religious-allen",
   "metadata": {},
   "source": [
    "#### $a = \\omega_1,\\; b = \\omega_1$"
   ]
  },
  {
   "cell_type": "code",
   "execution_count": 83,
   "id": "educated-california",
   "metadata": {},
   "outputs": [
    {
     "data": {
      "text/plain": [
       "(1.0, 1.0)"
      ]
     },
     "execution_count": 83,
     "metadata": {},
     "output_type": "execute_result"
    }
   ],
   "source": [
    "w1 = 1/10\n",
    "w2 = 1e-10\n",
    "L = 90\n",
    "f = generate_series((w1, w2), N=N, Q=Q)\n",
    "hm = Hmatr(f, B, T_, L, neig=r, svdMethod=method)\n",
    "hm.getRow()[-1], hm.compute_single_val_analytical(w1, w2)"
   ]
  }
 ],
 "metadata": {
  "kernelspec": {
   "display_name": "Python 3",
   "language": "python",
   "name": "python3"
  },
  "language_info": {
   "codemirror_mode": {
    "name": "ipython",
    "version": 3
   },
   "file_extension": ".py",
   "mimetype": "text/x-python",
   "name": "python",
   "nbconvert_exporter": "python",
   "pygments_lexer": "ipython3",
   "version": "3.8.3"
  }
 },
 "nbformat": 4,
 "nbformat_minor": 5
}