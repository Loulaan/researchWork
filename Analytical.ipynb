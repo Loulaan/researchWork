{
 "cells": [
  {
   "cell_type": "code",
   "execution_count": 41,
   "id": "genuine-tongue",
   "metadata": {},
   "outputs": [
    {
     "name": "stdout",
     "output_type": "stream",
     "text": [
      "The autoreload extension is already loaded. To reload it, use:\n",
      "  %reload_ext autoreload\n",
      "The rpy2.ipython extension is already loaded. To reload it, use:\n",
      "  %reload_ext rpy2.ipython\n"
     ]
    }
   ],
   "source": [
    "from collections import Counter\n",
    "import numpy as np\n",
    "import rpy2.robjects as robjects\n",
    "import rpy2.robjects.numpy2ri\n",
    "from rpy2.robjects.packages import importr\n",
    "from utils.hmatrStatistics import Hmatr\n",
    "\n",
    "%load_ext autoreload\n",
    "%load_ext rpy2.ipython\n",
    "%autoreload 2\n",
    "rpy2.robjects.numpy2ri.activate()\n",
    "\n",
    "rssa = importr('Rssa')"
   ]
  },
  {
   "cell_type": "markdown",
   "source": [
    "# Аналитическое исследование индекса неоднородности"
   ],
   "metadata": {
    "collapsed": false,
    "pycharm": {
     "name": "#%% md\n"
    }
   }
  },
  {
   "cell_type": "markdown",
   "id": "jewish-strand",
   "metadata": {
    "pycharm": {
     "name": "#%% md\n"
    }
   },
   "source": [
    "Для простоты, пусть наш ряд задан как $x_n = sin(2\\pi \\omega n)$, причем $\\begin{equation*} \\omega = \\begin{cases} \\omega_1\\ n \\in [0, Q-1] \\\\ \\omega_2\\ n\\in [Q, N-1] \\end{cases} \\end{equation*}$"
   ]
  },
  {
   "cell_type": "markdown",
   "id": "acting-sierra",
   "metadata": {
    "pycharm": {
     "name": "#%% md\n"
    }
   },
   "source": [
    "Проведем аналитический анализ индекса неоднородности. Вспомним как он задается:\n",
    "$$g(F^{(1)}; F^{(2)}) = \\frac{\\sum\\limits_{l=1}^{K_2}\\mathrm{dist}^2(X_l^{(2)}, \\mathfrak{L}_r^{(1)})}{\\sum\\limits_{l=1}^{K_2}\\|X_l^{(2)}\\|^2} = \\frac{\\sum\\limits_{l=1}^{K_2}\\;(\\|X_l^{(2)}\\|^2 - \\sum\\limits_{i=1}^{r}\\langle X_l^{(2)}, U_i^{(1)}\\rangle^2)}{\\sum\\limits_{l=1}^{K_2}\\|X_l^{(2)}\\|^2} = 1 - \\frac{\\sum\\limits_{l=1}^{K_2}\\;\\sum\\limits_{i=1}^{r}\\langle X_l^{(2)}, U_i^{(1)}\\rangle^2}{\\sum\\limits_{l=1}^{K_2}\\|X_l^{(2)}\\|^2}$$\n"
   ]
  },
  {
   "cell_type": "markdown",
   "source": [
    "## Знаменатель"
   ],
   "metadata": {
    "collapsed": false,
    "pycharm": {
     "name": "#%% md\n"
    }
   }
  },
  {
   "cell_type": "markdown",
   "id": "integral-stopping",
   "metadata": {
    "pycharm": {
     "name": "#%% md\n"
    }
   },
   "source": [
    "Начнем со знаменателя $\\sum\\limits_{l=1}^{K_2}\\|X_l^{(2)}\\|^2$, а точнее, с квадрата нормы $\\|X_l^{(2)}\\|^2$. Оценим его:\n",
    "\n",
    "$$ \\|X_l^{(2)}\\|^2 = \\sum\\limits_{i=1}^{L}(X_{l_i}^{(2)}) = \\int\\limits_{0}^{L}X_{l_i}^{(2)} = \\int\\limits_{0}^{L}\\sin^2{(2\\pi\\omega_2 y)}dy = \\frac{L}{2} - \\frac{\\sin(4\\pi L\\omega_2)}{8\\pi\\omega_2} \\approx \\frac{L}{2} $$\n",
    "\n",
    "Отсюда $\\sum\\limits_{l=1}^{K_2}\\|X_l^{(2)}\\|^2 \\approx K_2\\cdot\\frac{L}{2}$.\n",
    "\n",
    "Проверим равенство программно."
   ]
  },
  {
   "cell_type": "code",
   "execution_count": 42,
   "id": "alpine-biodiversity",
   "metadata": {},
   "outputs": [],
   "source": [
    "N = 700\n",
    "w1 = 1/10\n",
    "w2 = 1/5\n",
    "C = 1\n",
    "phi1 = 0\n",
    "phi2 = 0\n",
    "Q = 301\n",
    "B = 100\n",
    "T_ = 100\n",
    "L = 50\n",
    "r = 2\n",
    "method = \"svd\""
   ]
  },
  {
   "cell_type": "code",
   "execution_count": 43,
   "id": "athletic-pursuit",
   "metadata": {},
   "outputs": [],
   "source": [
    "def generate_series(omega, C=1, N=700, Q=301):\n",
    "    w1, w2 = omega\n",
    "    series = lambda n: C*np.sin(2*np.pi*w1*n + phi1) if n < Q-1 else C*np.sin(2*np.pi*w2*n + phi1)\n",
    "    return [series(i) for i in range(N)]"
   ]
  },
  {
   "cell_type": "code",
   "execution_count": 44,
   "id": "alternative-tuner",
   "metadata": {},
   "outputs": [],
   "source": [
    "f = generate_series((w1, w2), N=N, Q=Q)\n",
    "hm = Hmatr(f, B, T_, L, neig=r, svdMethod=method)"
   ]
  },
  {
   "cell_type": "markdown",
   "id": "successful-reporter",
   "metadata": {},
   "source": [
    "В формуле расстояния считаются между базовыми и тестовыми подрядами. В знаменателе $X_l^{(2)}$ -  столбцы траекторной матрицы тестового подряда (в формуле (2.1) ряда $F^{(2)}$). Длина таких рядов равна $T$, а длина окна равна $L$. Отсюда $K_2 = T - L$"
   ]
  },
  {
   "cell_type": "code",
   "execution_count": 45,
   "id": "diverse-bahrain",
   "metadata": {
    "collapsed": false,
    "jupyter": {
     "outputs_hidden": false
    },
    "pycharm": {
     "name": "#%%\n"
    }
   },
   "outputs": [
    {
     "data": {
      "text/plain": "50"
     },
     "execution_count": 45,
     "metadata": {},
     "output_type": "execute_result"
    }
   ],
   "source": [
    "K2 = T_ - L\n",
    "K2"
   ]
  },
  {
   "cell_type": "code",
   "execution_count": 46,
   "id": "proof-craps",
   "metadata": {
    "collapsed": false,
    "jupyter": {
     "outputs_hidden": false
    },
    "pycharm": {
     "name": "#%%\n"
    }
   },
   "outputs": [
    {
     "data": {
      "text/plain": "1250.0"
     },
     "execution_count": 46,
     "metadata": {},
     "output_type": "execute_result"
    }
   ],
   "source": [
    "K2 * L/2"
   ]
  },
  {
   "cell_type": "markdown",
   "id": "choice-combination",
   "metadata": {
    "pycharm": {
     "name": "#%% md\n"
    }
   },
   "source": [
    "Проверим полученную аналитически оценку эмпирически."
   ]
  },
  {
   "cell_type": "code",
   "execution_count": 47,
   "id": "detailed-aside",
   "metadata": {},
   "outputs": [
    {
     "data": {
      "text/plain": "1250.0"
     },
     "execution_count": 47,
     "metadata": {},
     "output_type": "execute_result"
    }
   ],
   "source": [
    "sum(hm.STATISTICS['norm'])/len(hm.STATISTICS['norm'])"
   ]
  },
  {
   "cell_type": "markdown",
   "id": "macro-radical",
   "metadata": {
    "pycharm": {
     "name": "#%% md\n"
    }
   },
   "source": [
    "Получили то же самое число, правда в среднем. Посмотрим на значения, которые встречались:"
   ]
  },
  {
   "cell_type": "code",
   "execution_count": 48,
   "id": "short-butler",
   "metadata": {
    "collapsed": false,
    "jupyter": {
     "outputs_hidden": false
    },
    "pycharm": {
     "name": "#%%\n"
    }
   },
   "outputs": [
    {
     "data": {
      "text/plain": "Counter({1250.0: 560, 1250.5590169943753: 20, 1249.4409830056247: 20})"
     },
     "execution_count": 48,
     "metadata": {},
     "output_type": "execute_result"
    }
   ],
   "source": [
    "Counter(hm.STATISTICS['norm'])"
   ]
  },
  {
   "cell_type": "markdown",
   "id": "polish-startup",
   "metadata": {
    "pycharm": {
     "name": "#%% md\n"
    }
   },
   "source": [
    "Как мы видим, значения не сильно отклоняются от среднего. Отсюда можно заключить, что хвост $\\frac{\\sin(4\\pi L\\omega_2)}{8\\pi\\omega_2}$, отнимаемый от $\\frac{L}{2}$ ассимптотически не влияет на оценку $\\sum\\limits_{l=1}^{K_2}\\|X_l^{(2)}\\|^2$ и при достаточно больших $L$ мы имеем равенство: $\\sum\\limits_{l=1}^{K_2}\\|X_l^{(2)}\\|^2 = K_2\\cdot\\frac{L}{2}$."
   ]
  },
  {
   "cell_type": "markdown",
   "id": "alone-persian",
   "metadata": {
    "pycharm": {
     "name": "#%% md\n"
    }
   },
   "source": [
    "Для подтверждения нашего предположения, проведем еще несколько экспериментов."
   ]
  },
  {
   "cell_type": "markdown",
   "source": [
    "---"
   ],
   "metadata": {
    "collapsed": false,
    "pycharm": {
     "name": "#%% md\n"
    }
   }
  },
  {
   "cell_type": "markdown",
   "id": "tested-slovakia",
   "metadata": {
    "pycharm": {
     "name": "#%% md\n"
    }
   },
   "source": [
    "1"
   ]
  },
  {
   "cell_type": "code",
   "execution_count": 49,
   "id": "constitutional-gamma",
   "metadata": {
    "collapsed": false,
    "jupyter": {
     "outputs_hidden": false
    },
    "pycharm": {
     "name": "#%%\n"
    }
   },
   "outputs": [
    {
     "name": "stdout",
     "output_type": "stream",
     "text": [
      "4950.0\n",
      "Counter({4950.0: 660, 4950.000000000002: 14, 4950.000000000004: 10, 4949.999999999993: 10, 4950.000000000001: 6})\n"
     ]
    }
   ],
   "source": [
    "L = 990\n",
    "N = 1700\n",
    "Q = 801\n",
    "B = 1000\n",
    "T_ = 1000\n",
    "f = generate_series((w1, w2), N=N, Q=Q)\n",
    "hm = Hmatr(f, B, T_, L, neig=r, svdMethod=method)\n",
    "print(sum(hm.STATISTICS['norm'])/len(hm.STATISTICS['norm']))\n",
    "print(Counter(hm.STATISTICS['norm']))"
   ]
  },
  {
   "cell_type": "code",
   "execution_count": 50,
   "id": "nervous-impression",
   "metadata": {
    "collapsed": false,
    "jupyter": {
     "outputs_hidden": false
    },
    "pycharm": {
     "name": "#%%\n"
    }
   },
   "outputs": [
    {
     "data": {
      "text/plain": "4950.0"
     },
     "execution_count": 50,
     "metadata": {},
     "output_type": "execute_result"
    }
   ],
   "source": [
    "K2 = T_ - L\n",
    "K2 * L/2"
   ]
  },
  {
   "cell_type": "markdown",
   "source": [
    "---"
   ],
   "metadata": {
    "collapsed": false,
    "pycharm": {
     "name": "#%% md\n"
    }
   }
  },
  {
   "cell_type": "markdown",
   "id": "developmental-edinburgh",
   "metadata": {
    "pycharm": {
     "name": "#%% md\n"
    }
   },
   "source": [
    "2"
   ]
  },
  {
   "cell_type": "code",
   "execution_count": 51,
   "id": "brutal-processor",
   "metadata": {
    "collapsed": false,
    "jupyter": {
     "outputs_hidden": false
    },
    "pycharm": {
     "name": "#%%\n"
    }
   },
   "outputs": [
    {
     "name": "stdout",
     "output_type": "stream",
     "text": [
      "119999.90416851516\n",
      "Counter({120000.0: 580, 119999.44098300562: 120})\n"
     ]
    }
   ],
   "source": [
    "L = 400\n",
    "N = 1700\n",
    "Q = 301\n",
    "B = 1000\n",
    "T_ = 1000\n",
    "f = generate_series((w1, w2), N=N, Q=Q)\n",
    "hm = Hmatr(f, B, T_, L, neig=r, svdMethod=method)\n",
    "print(sum(hm.STATISTICS['norm'])/len(hm.STATISTICS['norm']))\n",
    "print(Counter(hm.STATISTICS['norm']))"
   ]
  },
  {
   "cell_type": "code",
   "execution_count": 52,
   "id": "stuck-roller",
   "metadata": {
    "collapsed": false,
    "jupyter": {
     "outputs_hidden": false
    },
    "pycharm": {
     "name": "#%%\n"
    }
   },
   "outputs": [
    {
     "data": {
      "text/plain": "120000.0"
     },
     "execution_count": 52,
     "metadata": {},
     "output_type": "execute_result"
    }
   ],
   "source": [
    "K2 = T_ - L\n",
    "K2 * L/2"
   ]
  },
  {
   "cell_type": "markdown",
   "id": "outstanding-english",
   "metadata": {
    "pycharm": {
     "name": "#%% md\n"
    }
   },
   "source": [
    "Получили примерно те же самые значения и чем больше L, тем меньше влияет $\\frac{\\sin(4\\pi L\\omega_2)}{8\\pi\\omega_2}$."
   ]
  },
  {
   "cell_type": "markdown",
   "source": [
    "---"
   ],
   "metadata": {
    "collapsed": false,
    "pycharm": {
     "name": "#%% md\n"
    }
   }
  },
  {
   "cell_type": "markdown",
   "source": [
    "## Числитель"
   ],
   "metadata": {
    "collapsed": false,
    "pycharm": {
     "name": "#%% md\n"
    }
   }
  },
  {
   "cell_type": "markdown",
   "source": [
    "Для простоты мы взяли ряд, состоящий из синусов. Его ранг равен $ 2 $ и скалярное произведение будет состоять из одинаковых слагаемых.\n",
    "\n",
    "\n",
    "\n",
    "$$ \\sum\\limits_{l=1}^{K_2}\\;\\sum\\limits_{i=1}^{r}\\langle X_l^{(2)}, U_i^{(1)}\\rangle^2 = \\sum\\limits_{l=1}^{K_2}\\;\\sum\\limits_{i=1}^{r}\\;\\left (\\sum\\limits_{j=1}^{L}X_{l_j}^{(2)}\\cdot U_{i_j}^{(1)}\\right )^2 \\approx \\sum\\limits_{l=1}^{K_2}\\;\\sum\\limits_{i=1}^{r} \\left (\\int\\limits_{0}^{L}(X_{l}^{(2)} \\cdot U_{i}^{(1)})dy\\right )^2 = $$\n",
    "$$ = \\sum\\limits_{l=1}^{K_2}\\;\\left[\\left(\\int\\limits_{0}^{L}(X_{l}^{(2)} \\cdot U_{1}^{(1)})dy\\right )^2 + \\left(\\int\\limits_{0}^{L}(X_{l}^{(2)} \\cdot U_{2}^{(1)})dy\\right )^2\\right ] \\approx $$\n",
    "$$ \\approx K_2 \\cdot\\left[\\left(\\int\\limits_{0}^{L}(X_{l}^{(2)} \\cdot U_{1}^{(1)})dy\\right )^2 + \\left(\\int\\limits_{0}^{L}(X_{l}^{(2)} \\cdot U_{2}^{(1)})dy\\right )^2\\right ] = $$\n",
    "\n",
    "$$ = K_2 \\cdot\\left[\\left(\\int\\limits_{0}^{L}(\\sin(2\\pi\\omega_2 y) \\cdot \\frac{\\sin(2\\pi\\omega_1 y)}{\\sqrt{L/2}}dy\\right )^2 + \\left(\\int\\limits_{0}^{L}(\\sin(2\\pi\\omega_2 y) \\cdot \\frac{\\cos(2\\pi\\omega_1 y)}{\\sqrt{L/2}})dy\\right )^2\\right ] = $$\n",
    "$$ = K_2 \\cdot \\frac{2}{L} \\cdot\\left[\\left(\\int\\limits_{0}^{L}(\\sin(2\\pi\\omega_2 y) \\cdot \\sin(2\\pi\\omega_1 y)dy\\right )^2 + \\left(\\int\\limits_{0}^{L}(\\sin(2\\pi\\omega_2 y) \\cdot \\cos(2\\pi\\omega_1 y))dy\\right )^2\\right ] $$"
   ],
   "metadata": {
    "collapsed": false,
    "pycharm": {
     "name": "#%% md\n"
    }
   }
  },
  {
   "cell_type": "markdown",
   "source": [
    "## Индекс неоднородности"
   ],
   "metadata": {
    "collapsed": false,
    "pycharm": {
     "name": "#%% md\n"
    }
   }
  },
  {
   "cell_type": "markdown",
   "source": [
    "Собирая все вместе, получаем:\n",
    "\n",
    "$$ 1 - \\frac{\\sum\\limits_{l=1}^{K_2}\\;\\sum\\limits_{i=1}^{r}\\langle X_l^{(2)}, U_i^{(1)}\\rangle^2}{\\sum\\limits_{l=1}^{K_2}\\|X_l^{(2)}\\|^2} \\approx  $$\n",
    "$$ \\approx 1 - \\frac{K_2 \\cdot \\frac{2}{L} \\cdot\\left[\\left(\\int\\limits_{0}^{L}(\\sin(2\\pi\\omega_2 y) \\cdot \\sin(2\\pi\\omega_1 y)dy\\right )^2 + \\left(\\int\\limits_{0}^{L}(\\sin(2\\pi\\omega_2 y) \\cdot \\cos(2\\pi\\omega_1 y))dy\\right )^2\\right ]}{K_2\\cdot\\frac{L}{2}} = $$\n",
    "$$ = 1 - \\frac{\\left(\\int\\limits_{0}^{L}(\\sin(2\\pi\\omega_2 y) \\cdot \\sin(2\\pi\\omega_1 y)dy\\right )^2 + \\left(\\int\\limits_{0}^{L}(\\sin(2\\pi\\omega_2 y) \\cdot \\cos(2\\pi\\omega_1 y))dy\\right )^2}{\\frac{L^2}{4}} = $$\n",
    "$$ =  1 - \\frac{\\left ( \\frac{\\sin(2\\pi Lb)}{4\\pi b} - \\frac{\\sin(2\\pi La)}{4\\pi a} \\right )^2 + \\left ( \\frac{\\cos(2\\pi Lb)}{4\\pi b} - \\frac{\\cos(2\\pi La)}{4\\pi a} - \\frac{\\omega_2}{2\\pi ab}\\right )^2}{\\frac{L^2}{4}},$$\n",
    "\n",
    "где $a = \\omega_1 + \\omega_2$, $b = \\omega_1 - \\omega_2$.\n"
   ],
   "metadata": {
    "collapsed": false,
    "pycharm": {
     "name": "#%% md\n"
    }
   }
  },
  {
   "cell_type": "markdown",
   "source": [
    "Сравним полученную формулу с оригинальной."
   ],
   "metadata": {
    "collapsed": false,
    "pycharm": {
     "name": "#%% md\n"
    }
   }
  },
  {
   "cell_type": "code",
   "execution_count": 53,
   "outputs": [],
   "source": [
    "N = 700\n",
    "Q = 301\n",
    "B = 100\n",
    "T_ = 100\n",
    "L = 50"
   ],
   "metadata": {
    "collapsed": false,
    "pycharm": {
     "name": "#%%\n"
    }
   }
  },
  {
   "cell_type": "markdown",
   "source": [
    "Возьмем $\\omega_1 = \\frac{1}{10}$, $\\omega_2 = \\frac{1}{20}$ и сравним индексы неоднородности до и после разладки."
   ],
   "metadata": {
    "collapsed": false,
    "pycharm": {
     "name": "#%% md\n"
    }
   }
  },
  {
   "cell_type": "code",
   "execution_count": 54,
   "outputs": [
    {
     "data": {
      "text/plain": "(0.0, 1.0)"
     },
     "execution_count": 54,
     "metadata": {},
     "output_type": "execute_result"
    }
   ],
   "source": [
    "w1 = 1/10\n",
    "w2 = 1/20\n",
    "L = 60\n",
    "f = generate_series((w1, w2), N=N, Q=Q)\n",
    "hm = Hmatr(f, B, T_, L, neig=r, svdMethod=method)\n",
    "hm.compute_single_row(0)[1], hm.compute_single_row(0)[-1]"
   ],
   "metadata": {
    "collapsed": false,
    "pycharm": {
     "name": "#%%\n"
    }
   }
  },
  {
   "cell_type": "code",
   "execution_count": 55,
   "outputs": [
    {
     "data": {
      "text/plain": "(0.0, 1.0)"
     },
     "execution_count": 55,
     "metadata": {},
     "output_type": "execute_result"
    }
   ],
   "source": [
    "hm.compute_single_val_analytical(1/10, 1/10), hm.compute_single_val_analytical(1/10, 1/20)"
   ],
   "metadata": {
    "collapsed": false,
    "pycharm": {
     "name": "#%%\n"
    }
   }
  },
  {
   "cell_type": "markdown",
   "source": [
    "Получили одинаковые числа."
   ],
   "metadata": {
    "collapsed": false,
    "pycharm": {
     "name": "#%% md\n"
    }
   }
  },
  {
   "cell_type": "markdown",
   "source": [
    "Уменьшим разность частот, сохранив $L=50$: $\\omega_1 = \\frac{1}{10}$, $\\omega_2 = \\frac{1}{11}$"
   ],
   "metadata": {
    "collapsed": false,
    "pycharm": {
     "name": "#%% md\n"
    }
   }
  },
  {
   "cell_type": "code",
   "execution_count": 56,
   "outputs": [
    {
     "data": {
      "text/plain": "(0.6659330299999999, 0.7008167005996742)"
     },
     "execution_count": 56,
     "metadata": {},
     "output_type": "execute_result"
    }
   ],
   "source": [
    "w1 = 1/10\n",
    "w2 = 1/11\n",
    "f = generate_series((w1, w2), N=N, Q=Q)\n",
    "hm = Hmatr(f, B, T_, L, neig=r, svdMethod=method)\n",
    "hm.getRow()[-1], hm.compute_single_val_analytical(w1, w2)"
   ],
   "metadata": {
    "collapsed": false,
    "pycharm": {
     "name": "#%%\n"
    }
   }
  },
  {
   "cell_type": "markdown",
   "source": [
    "Увеличим $L$ до $80$"
   ],
   "metadata": {
    "collapsed": false,
    "pycharm": {
     "name": "#%% md\n"
    }
   }
  },
  {
   "cell_type": "code",
   "execution_count": 57,
   "outputs": [
    {
     "data": {
      "text/plain": "(0.89075337, 0.8924875921688664)"
     },
     "execution_count": 57,
     "metadata": {},
     "output_type": "execute_result"
    }
   ],
   "source": [
    "w1 = 1/10\n",
    "w2 = 1/11\n",
    "L = 80\n",
    "f = generate_series((w1, w2), N=N, Q=Q)\n",
    "hm = Hmatr(f, B, T_, L, neig=r, svdMethod=method)\n",
    "hm.getRow()[-1], hm.compute_single_val_analytical(w1, w2)"
   ],
   "metadata": {
    "collapsed": false,
    "pycharm": {
     "name": "#%%\n"
    }
   }
  },
  {
   "cell_type": "markdown",
   "source": [
    "Получили примерно одинаковые значения."
   ],
   "metadata": {
    "collapsed": false,
    "pycharm": {
     "name": "#%% md\n"
    }
   }
  },
  {
   "cell_type": "code",
   "execution_count": 57,
   "outputs": [],
   "source": [],
   "metadata": {
    "collapsed": false,
    "pycharm": {
     "name": "#%%\n"
    }
   }
  },
  {
   "cell_type": "code",
   "execution_count": 58,
   "outputs": [
    {
     "data": {
      "text/plain": "(0.99824211, 0.9986890278488754)"
     },
     "execution_count": 58,
     "metadata": {},
     "output_type": "execute_result"
    }
   ],
   "source": [
    "w1 = 1/10\n",
    "w2 = 1/100\n",
    "L = 80\n",
    "f = generate_series((w1, w2), N=N, Q=Q)\n",
    "hm = Hmatr(f, B, T_, L, neig=r, svdMethod=method)\n",
    "hm.getRow()[-1], hm.compute_single_val_analytical(w1, w2)"
   ],
   "metadata": {
    "collapsed": false,
    "pycharm": {
     "name": "#%%\n"
    }
   }
  },
  {
   "cell_type": "code",
   "execution_count": 59,
   "outputs": [
    {
     "data": {
      "text/plain": "(0.99988612, 0.9856680054718829)"
     },
     "execution_count": 59,
     "metadata": {},
     "output_type": "execute_result"
    }
   ],
   "source": [
    "w1 = 1/10\n",
    "w2 = 1/1000\n",
    "L = 80\n",
    "f = generate_series((w1, w2), N=N, Q=Q)\n",
    "hm = Hmatr(f, B, T_, L, neig=r, svdMethod=method)\n",
    "hm.getRow()[-1], hm.compute_single_val_analytical(w1, w2)"
   ],
   "metadata": {
    "collapsed": false,
    "pycharm": {
     "name": "#%%\n"
    }
   }
  },
  {
   "cell_type": "code",
   "execution_count": 78,
   "outputs": [
    {
     "name": "stdout",
     "output_type": "stream",
     "text": [
      "Numer: 2.3500060492354042\n",
      "Denom: 1792.5674830082487\n"
     ]
    },
    {
     "data": {
      "text/plain": "(0.99824211, 0.9986890278488754)"
     },
     "execution_count": 78,
     "metadata": {},
     "output_type": "execute_result"
    }
   ],
   "source": [
    "w1 = 1/10\n",
    "w2 = 1/100\n",
    "L = 80\n",
    "f = generate_series((w1, w2), N=N, Q=Q)\n",
    "hm = Hmatr(f, B, T_, L, neig=r, svdMethod=method)\n",
    "hm.getRow()[-1], hm.compute_single_val_analytical(w1, w2)"
   ],
   "metadata": {
    "collapsed": false,
    "pycharm": {
     "name": "#%%\n"
    }
   }
  },
  {
   "cell_type": "code",
   "execution_count": 134,
   "outputs": [],
   "source": [
    "np.arange()"
   ],
   "metadata": {
    "collapsed": false,
    "pycharm": {
     "name": "#%%\n"
    }
   }
  },
  {
   "cell_type": "code",
   "execution_count": 134,
   "outputs": [
    {
     "ename": "TypeError",
     "evalue": "'float' object cannot be interpreted as an integer",
     "output_type": "error",
     "traceback": [
      "\u001B[1;31m---------------------------------------------------------------------------\u001B[0m",
      "\u001B[1;31mTypeError\u001B[0m                                 Traceback (most recent call last)",
      "\u001B[1;32m~\\AppData\\Local\\Temp/ipykernel_17736/3527237806.py\u001B[0m in \u001B[0;36m<module>\u001B[1;34m\u001B[0m\n\u001B[0;32m      7\u001B[0m \u001B[0mratios\u001B[0m \u001B[1;33m=\u001B[0m \u001B[1;33m[\u001B[0m\u001B[1;33m]\u001B[0m\u001B[1;33m\u001B[0m\u001B[1;33m\u001B[0m\u001B[0m\n\u001B[0;32m      8\u001B[0m \u001B[0mgs\u001B[0m \u001B[1;33m=\u001B[0m \u001B[1;33m[\u001B[0m\u001B[1;33m]\u001B[0m\u001B[1;33m\u001B[0m\u001B[1;33m\u001B[0m\u001B[0m\n\u001B[1;32m----> 9\u001B[1;33m \u001B[1;32mfor\u001B[0m \u001B[0mi\u001B[0m \u001B[1;32min\u001B[0m \u001B[0mrange\u001B[0m\u001B[1;33m(\u001B[0m\u001B[1;36m10.0\u001B[0m\u001B[1;33m,\u001B[0m \u001B[1;36m20.0\u001B[0m\u001B[1;33m,\u001B[0m \u001B[1;36m0.1\u001B[0m\u001B[1;33m)\u001B[0m\u001B[1;33m:\u001B[0m\u001B[1;33m\u001B[0m\u001B[1;33m\u001B[0m\u001B[0m\n\u001B[0m\u001B[0;32m     10\u001B[0m     \u001B[0mw2\u001B[0m \u001B[1;33m=\u001B[0m \u001B[1;36m1\u001B[0m\u001B[1;33m/\u001B[0m\u001B[0mi\u001B[0m\u001B[1;33m\u001B[0m\u001B[1;33m\u001B[0m\u001B[0m\n\u001B[0;32m     11\u001B[0m     \u001B[0mstats\u001B[0m \u001B[1;33m=\u001B[0m \u001B[0mhm\u001B[0m\u001B[1;33m.\u001B[0m\u001B[0mcompute_single_val_analytical\u001B[0m\u001B[1;33m(\u001B[0m\u001B[0mw1\u001B[0m\u001B[1;33m,\u001B[0m \u001B[0mw2\u001B[0m\u001B[1;33m)\u001B[0m\u001B[1;33m\u001B[0m\u001B[1;33m\u001B[0m\u001B[0m\n",
      "\u001B[1;31mTypeError\u001B[0m: 'float' object cannot be interpreted as an integer"
     ]
    }
   ],
   "source": [
    "from matplotlib import pyplot as plt\n",
    "\n",
    "\n",
    "w1 = 1/10\n",
    "numers = []\n",
    "denoms = []\n",
    "ratios = []\n",
    "gs = []\n",
    "for i in range(10.0, 20.0, 0.1):\n",
    "    w2 = 1/i\n",
    "    stats = hm.compute_single_val_analytical(w1, w2)\n",
    "    gs.append(stats[0])\n",
    "    numers.append(stats[1])\n",
    "    denoms.append(stats[2])\n",
    "    ratios.append(stats[3])"
   ],
   "metadata": {
    "collapsed": false,
    "pycharm": {
     "name": "#%%\n"
    }
   }
  },
  {
   "cell_type": "code",
   "execution_count": 133,
   "outputs": [
    {
     "data": {
      "text/plain": "[<matplotlib.lines.Line2D at 0x250f7080730>]"
     },
     "execution_count": 133,
     "metadata": {},
     "output_type": "execute_result"
    },
    {
     "data": {
      "text/plain": "<Figure size 1080x576 with 1 Axes>",
      "image/png": "[encoded data removed]"
     },
     "metadata": {
      "needs_background": "light"
     },
     "output_type": "display_data"
    }
   ],
   "source": [
    "plt.figure(figsize=(15, 8))\n",
    "plt.title(\"GS\")\n",
    "plt.plot(gs, marker=\"1\")"
   ],
   "metadata": {
    "collapsed": false,
    "pycharm": {
     "name": "#%%\n"
    }
   }
  },
  {
   "cell_type": "code",
   "execution_count": 126,
   "outputs": [
    {
     "data": {
      "text/plain": "[<matplotlib.lines.Line2D at 0x250f5d124d0>]"
     },
     "execution_count": 126,
     "metadata": {},
     "output_type": "execute_result"
    },
    {
     "data": {
      "text/plain": "<Figure size 1080x576 with 1 Axes>",
      "image/png": "[encoded data removed]"
     },
     "metadata": {
      "needs_background": "light"
     },
     "output_type": "display_data"
    }
   ],
   "source": [
    "plt.figure(figsize=(15, 8))\n",
    "plt.title(\"ratios\")\n",
    "plt.plot(ratios, marker=\"1\")"
   ],
   "metadata": {
    "collapsed": false,
    "pycharm": {
     "name": "#%%\n"
    }
   }
  },
  {
   "cell_type": "code",
   "execution_count": 127,
   "outputs": [
    {
     "data": {
      "text/plain": "[<matplotlib.lines.Line2D at 0x250f5d79690>]"
     },
     "execution_count": 127,
     "metadata": {},
     "output_type": "execute_result"
    },
    {
     "data": {
      "text/plain": "<Figure size 1080x576 with 1 Axes>",
      "image/png": "[encoded data removed]"
     },
     "metadata": {
      "needs_background": "light"
     },
     "output_type": "display_data"
    }
   ],
   "source": [
    "plt.figure(figsize=(15, 8))\n",
    "plt.title(\"numers\")\n",
    "plt.plot(numers, marker=\"1\")"
   ],
   "metadata": {
    "collapsed": false,
    "pycharm": {
     "name": "#%%\n"
    }
   }
  },
  {
   "cell_type": "code",
   "execution_count": 128,
   "outputs": [
    {
     "data": {
      "text/plain": "[<matplotlib.lines.Line2D at 0x250f5de9360>]"
     },
     "execution_count": 128,
     "metadata": {},
     "output_type": "execute_result"
    },
    {
     "data": {
      "text/plain": "<Figure size 1080x576 with 1 Axes>",
      "image/png": "[encoded data removed]"
     },
     "metadata": {
      "needs_background": "light"
     },
     "output_type": "display_data"
    }
   ],
   "source": [
    "plt.figure(figsize=(15, 8))\n",
    "plt.title(\"denoms\")\n",
    "plt.plot(denoms, marker=\"1\")"
   ],
   "metadata": {
    "collapsed": false,
    "pycharm": {
     "name": "#%%\n"
    }
   }
  },
  {
   "cell_type": "code",
   "execution_count": 128,
   "outputs": [],
   "source": [],
   "metadata": {
    "collapsed": false,
    "pycharm": {
     "name": "#%%\n"
    }
   }
  },
  {
   "cell_type": "code",
   "execution_count": 128,
   "outputs": [],
   "source": [],
   "metadata": {
    "collapsed": false,
    "pycharm": {
     "name": "#%%\n"
    }
   }
  },
  {
   "cell_type": "code",
   "execution_count": null,
   "outputs": [],
   "source": [],
   "metadata": {
    "collapsed": false,
    "pycharm": {
     "name": "#%%\n"
    }
   }
  }
 ],
 "metadata": {
  "kernelspec": {
   "display_name": "Python 3",
   "language": "python",
   "name": "python3"
  },
  "language_info": {
   "codemirror_mode": {
    "name": "ipython",
    "version": 3
   },
   "file_extension": ".py",
   "mimetype": "text/x-python",
   "name": "python",
   "nbconvert_exporter": "python",
   "pygments_lexer": "ipython3",
   "version": "3.6.12"
  }
 },
 "nbformat": 4,
 "nbformat_minor": 5
}