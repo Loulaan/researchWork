{
 "cells": [
  {
   "cell_type": "code",
   "execution_count": 1,
   "id": "genuine-tongue",
   "metadata": {},
   "outputs": [
    {
     "name": "stderr",
     "output_type": "stream",
     "text": [
      "R[write to console]: Installing package into 'F:/Users/ivank/Documents/R/win-library/4.0'\n",
      "(as 'lib' is unspecified)\n",
      "\n",
      "R[write to console]: trying URL 'https://cloud.r-project.org/bin/windows/contrib/4.0/Rssa_1.0.4.zip'\n",
      "\n",
      "R[write to console]: Content type 'application/zip'\n",
      "R[write to console]:  length 2216675 bytes (2.1 MB)\n",
      "\n",
      "R[write to console]: downloaded 2.1 MB\n",
      "\n",
      "\n"
     ]
    },
    {
     "name": "stdout",
     "output_type": "stream",
     "text": [
      "package 'Rssa' successfully unpacked and MD5 sums checked\n",
      "\n",
      "The downloaded binary packages are in\n",
      "\tC:\\Users\\ivank\\AppData\\Local\\Temp\\RtmpCOITLh\\downloaded_packages\n"
     ]
    },
    {
     "name": "stderr",
     "output_type": "stream",
     "text": [
      "f:\\users\\ivank\\documents\\education\\magistracy\\researchwork\\researchwork\\venv_new\\lib\\site-packages\\rpy2\\robjects\\packages.py:366: UserWarning: The symbol 'quartz' is not in this R namespace/package.\n",
      "  warnings.warn(\n"
     ]
    }
   ],
   "source": [
    "from collections import Counter\n",
    "import numpy as np\n",
    "import rpy2.robjects as robjects\n",
    "import rpy2.robjects.numpy2ri\n",
    "from rpy2.robjects.packages import importr\n",
    "from utils.hmatrStatistics import Hmatr\n",
    "\n",
    "%load_ext autoreload\n",
    "%load_ext rpy2.ipython\n",
    "%autoreload 2\n",
    "rpy2.robjects.numpy2ri.activate()\n",
    "\n",
    "rssa = importr('Rssa')"
   ]
  },
  {
   "cell_type": "markdown",
   "id": "02426f76",
   "metadata": {
    "pycharm": {
     "name": "#%% md\n"
    }
   },
   "source": [
    "# Аналитическое исследование индекса неоднородности"
   ]
  },
  {
   "cell_type": "markdown",
   "id": "jewish-strand",
   "metadata": {
    "pycharm": {
     "name": "#%% md\n"
    }
   },
   "source": [
    "Для простоты, пусть наш ряд задан как $x_n = sin(2\\pi \\omega n)$, причем $\\begin{equation*} \\omega = \\begin{cases} \\omega_1\\ n \\in [0, Q-1] \\\\ \\omega_2\\ n\\in [Q, N-1] \\end{cases} \\end{equation*}$"
   ]
  },
  {
   "cell_type": "markdown",
   "id": "acting-sierra",
   "metadata": {
    "pycharm": {
     "name": "#%% md\n"
    }
   },
   "source": [
    "Проведем аналитический анализ индекса неоднородности. Вспомним как он задается:\n",
    "$$g(F^{(1)}; F^{(2)}) = \\frac{\\sum\\limits_{l=1}^{K_2}\\mathrm{dist}^2(X_l^{(2)}, \\mathfrak{L}_r^{(1)})}{\\sum\\limits_{l=1}^{K_2}\\|X_l^{(2)}\\|^2} = \\frac{\\sum\\limits_{l=1}^{K_2}\\;(\\|X_l^{(2)}\\|^2 - \\sum\\limits_{i=1}^{r}\\langle X_l^{(2)}, U_i^{(1)}\\rangle^2)}{\\sum\\limits_{l=1}^{K_2}\\|X_l^{(2)}\\|^2} = 1 - \\frac{\\sum\\limits_{l=1}^{K_2}\\;\\sum\\limits_{i=1}^{r}\\langle X_l^{(2)}, U_i^{(1)}\\rangle^2}{\\sum\\limits_{l=1}^{K_2}\\|X_l^{(2)}\\|^2}$$\n"
   ]
  },
  {
   "cell_type": "markdown",
   "id": "e277d6a5",
   "metadata": {
    "pycharm": {
     "name": "#%% md\n"
    }
   },
   "source": [
    "## Знаменатель"
   ]
  },
  {
   "cell_type": "markdown",
   "id": "integral-stopping",
   "metadata": {
    "pycharm": {
     "name": "#%% md\n"
    }
   },
   "source": [
    "Начнем со знаменателя $\\sum\\limits_{l=1}^{K_2}\\|X_l^{(2)}\\|^2$, а точнее, с квадрата нормы $\\|X_l^{(2)}\\|^2$. Оценим его:\n",
    "\n",
    "$$ \\|X_l^{(2)}\\|^2 = \\sum\\limits_{i=1}^{L}(X_{l_i}^{(2)}) = \\int\\limits_{0}^{L}X_{l_i}^{(2)} = \\int\\limits_{0}^{L}\\sin^2{(2\\pi\\omega_2 y)}dy = \\frac{L}{2} - \\frac{\\sin(4\\pi L\\omega_2)}{8\\pi\\omega_2} \\approx \\frac{L}{2} $$\n",
    "\n",
    "Отсюда $\\sum\\limits_{l=1}^{K_2}\\|X_l^{(2)}\\|^2 \\approx K_2\\cdot\\frac{L}{2}$.\n",
    "\n",
    "Проверим равенство программно."
   ]
  },
  {
   "cell_type": "code",
   "execution_count": 2,
   "id": "alpine-biodiversity",
   "metadata": {},
   "outputs": [],
   "source": [
    "N = 700\n",
    "w1 = 1/10\n",
    "w2 = 1/5\n",
    "C = 1\n",
    "phi1 = 0\n",
    "phi2 = 0\n",
    "Q = 301\n",
    "B = 100\n",
    "T_ = 100\n",
    "L = 50\n",
    "r = 2\n",
    "method = \"svd\""
   ]
  },
  {
   "cell_type": "code",
   "execution_count": 3,
   "id": "athletic-pursuit",
   "metadata": {},
   "outputs": [],
   "source": [
    "def generate_series(omega, C=1, N=700, Q=301):\n",
    "    w1, w2 = omega\n",
    "    series = lambda n: C*np.sin(2*np.pi*w1*n + phi1) if n < Q-1 else C*np.sin(2*np.pi*w2*n + phi1)\n",
    "    return [series(i) for i in range(N)]"
   ]
  },
  {
   "cell_type": "code",
   "execution_count": 4,
   "id": "alternative-tuner",
   "metadata": {},
   "outputs": [],
   "source": [
    "f = generate_series((w1, w2), N=N, Q=Q)\n",
    "hm = Hmatr(f, B, T_, L, neig=r, svdMethod=method)"
   ]
  },
  {
   "cell_type": "markdown",
   "id": "successful-reporter",
   "metadata": {},
   "source": [
    "В формуле расстояния считаются между базовыми и тестовыми подрядами. В знаменателе $X_l^{(2)}$ -  столбцы траекторной матрицы тестового подряда (в формуле (2.1) ряда $F^{(2)}$). Длина таких рядов равна $T$, а длина окна равна $L$. Отсюда $K_2 = T - L$"
   ]
  },
  {
   "cell_type": "code",
   "execution_count": 5,
   "id": "diverse-bahrain",
   "metadata": {
    "jupyter": {
     "outputs_hidden": false
    },
    "pycharm": {
     "name": "#%%\n"
    }
   },
   "outputs": [
    {
     "data": {
      "text/plain": [
       "50"
      ]
     },
     "execution_count": 5,
     "metadata": {},
     "output_type": "execute_result"
    }
   ],
   "source": [
    "K2 = T_ - L\n",
    "K2"
   ]
  },
  {
   "cell_type": "code",
   "execution_count": 6,
   "id": "proof-craps",
   "metadata": {
    "jupyter": {
     "outputs_hidden": false
    },
    "pycharm": {
     "name": "#%%\n"
    }
   },
   "outputs": [
    {
     "data": {
      "text/plain": [
       "1250.0"
      ]
     },
     "execution_count": 6,
     "metadata": {},
     "output_type": "execute_result"
    }
   ],
   "source": [
    "K2 * L/2"
   ]
  },
  {
   "cell_type": "markdown",
   "id": "choice-combination",
   "metadata": {
    "pycharm": {
     "name": "#%% md\n"
    }
   },
   "source": [
    "Проверим полученную аналитически оценку эмпирически."
   ]
  },
  {
   "cell_type": "code",
   "execution_count": 7,
   "id": "detailed-aside",
   "metadata": {
    "scrolled": true
   },
   "outputs": [
    {
     "data": {
      "text/plain": [
       "1250.0"
      ]
     },
     "execution_count": 7,
     "metadata": {},
     "output_type": "execute_result"
    }
   ],
   "source": [
    "sum(hm.STATISTICS['norm'])/len(hm.STATISTICS['norm'])"
   ]
  },
  {
   "cell_type": "markdown",
   "id": "macro-radical",
   "metadata": {
    "pycharm": {
     "name": "#%% md\n"
    }
   },
   "source": [
    "Получили то же самое число, правда в среднем. Посмотрим на значения, которые встречались:"
   ]
  },
  {
   "cell_type": "code",
   "execution_count": 8,
   "id": "short-butler",
   "metadata": {
    "jupyter": {
     "outputs_hidden": false
    },
    "pycharm": {
     "name": "#%%\n"
    }
   },
   "outputs": [
    {
     "data": {
      "text/plain": [
       "Counter({1250.0: 560, 1250.5590169943753: 20, 1249.4409830056247: 20})"
      ]
     },
     "execution_count": 8,
     "metadata": {},
     "output_type": "execute_result"
    }
   ],
   "source": [
    "Counter(hm.STATISTICS['norm'])"
   ]
  },
  {
   "cell_type": "markdown",
   "id": "polish-startup",
   "metadata": {
    "pycharm": {
     "name": "#%% md\n"
    }
   },
   "source": [
    "Как мы видим, значения не сильно отклоняются от среднего. Отсюда можно заключить, что хвост $\\frac{\\sin(4\\pi L\\omega_2)}{8\\pi\\omega_2}$, отнимаемый от $\\frac{L}{2}$ ассимптотически не влияет на оценку $\\sum\\limits_{l=1}^{K_2}\\|X_l^{(2)}\\|^2$ и при достаточно больших $L$ мы имеем равенство: $\\sum\\limits_{l=1}^{K_2}\\|X_l^{(2)}\\|^2 = K_2\\cdot\\frac{L}{2}$."
   ]
  },
  {
   "cell_type": "markdown",
   "id": "alone-persian",
   "metadata": {
    "pycharm": {
     "name": "#%% md\n"
    }
   },
   "source": [
    "Для подтверждения нашего предположения, проведем еще несколько экспериментов."
   ]
  },
  {
   "cell_type": "markdown",
   "id": "b934bfc5",
   "metadata": {
    "pycharm": {
     "name": "#%% md\n"
    }
   },
   "source": [
    "---"
   ]
  },
  {
   "cell_type": "markdown",
   "id": "tested-slovakia",
   "metadata": {
    "pycharm": {
     "name": "#%% md\n"
    }
   },
   "source": [
    "1"
   ]
  },
  {
   "cell_type": "code",
   "execution_count": 9,
   "id": "constitutional-gamma",
   "metadata": {
    "jupyter": {
     "outputs_hidden": false
    },
    "pycharm": {
     "name": "#%%\n"
    }
   },
   "outputs": [
    {
     "name": "stderr",
     "output_type": "stream",
     "text": [
      "R[write to console]: Warning:\n",
      "R[write to console]:  package 'Rssa' is in use and will not be installed\n",
      "\n"
     ]
    },
    {
     "name": "stdout",
     "output_type": "stream",
     "text": [
      "4950.0\n",
      "Counter({4950.0: 660, 4950.000000000002: 14, 4950.000000000004: 10, 4949.999999999993: 10, 4950.000000000001: 6})\n"
     ]
    }
   ],
   "source": [
    "L = 990\n",
    "N = 1700\n",
    "Q = 801\n",
    "B = 1000\n",
    "T_ = 1000\n",
    "f = generate_series((w1, w2), N=N, Q=Q)\n",
    "hm = Hmatr(f, B, T_, L, neig=r, svdMethod=method)\n",
    "print(sum(hm.STATISTICS['norm'])/len(hm.STATISTICS['norm']))\n",
    "print(Counter(hm.STATISTICS['norm']))"
   ]
  },
  {
   "cell_type": "code",
   "execution_count": 10,
   "id": "nervous-impression",
   "metadata": {
    "jupyter": {
     "outputs_hidden": false
    },
    "pycharm": {
     "name": "#%%\n"
    }
   },
   "outputs": [
    {
     "data": {
      "text/plain": [
       "4950.0"
      ]
     },
     "execution_count": 10,
     "metadata": {},
     "output_type": "execute_result"
    }
   ],
   "source": [
    "K2 = T_ - L\n",
    "K2 * L/2"
   ]
  },
  {
   "cell_type": "markdown",
   "id": "e245c580",
   "metadata": {
    "pycharm": {
     "name": "#%% md\n"
    }
   },
   "source": [
    "---"
   ]
  },
  {
   "cell_type": "markdown",
   "id": "developmental-edinburgh",
   "metadata": {
    "pycharm": {
     "name": "#%% md\n"
    }
   },
   "source": [
    "2"
   ]
  },
  {
   "cell_type": "code",
   "execution_count": 51,
   "id": "brutal-processor",
   "metadata": {
    "jupyter": {
     "outputs_hidden": false
    },
    "pycharm": {
     "name": "#%%\n"
    }
   },
   "outputs": [
    {
     "name": "stdout",
     "output_type": "stream",
     "text": [
      "119999.90416851516\n",
      "Counter({120000.0: 580, 119999.44098300562: 120})\n"
     ]
    }
   ],
   "source": [
    "L = 400\n",
    "N = 1700\n",
    "Q = 301\n",
    "B = 1000\n",
    "T_ = 1000\n",
    "f = generate_series((w1, w2), N=N, Q=Q)\n",
    "hm = Hmatr(f, B, T_, L, neig=r, svdMethod=method)\n",
    "print(sum(hm.STATISTICS['norm'])/len(hm.STATISTICS['norm']))\n",
    "print(Counter(hm.STATISTICS['norm']))"
   ]
  },
  {
   "cell_type": "code",
   "execution_count": 52,
   "id": "stuck-roller",
   "metadata": {
    "jupyter": {
     "outputs_hidden": false
    },
    "pycharm": {
     "name": "#%%\n"
    }
   },
   "outputs": [
    {
     "data": {
      "text/plain": [
       "120000.0"
      ]
     },
     "execution_count": 52,
     "metadata": {},
     "output_type": "execute_result"
    }
   ],
   "source": [
    "K2 = T_ - L\n",
    "K2 * L/2"
   ]
  },
  {
   "cell_type": "markdown",
   "id": "outstanding-english",
   "metadata": {
    "pycharm": {
     "name": "#%% md\n"
    }
   },
   "source": [
    "Получили примерно те же самые значения и чем больше L, тем меньше влияет $\\frac{\\sin(4\\pi L\\omega_2)}{8\\pi\\omega_2}$."
   ]
  },
  {
   "cell_type": "markdown",
   "id": "65657d68",
   "metadata": {
    "pycharm": {
     "name": "#%% md\n"
    }
   },
   "source": [
    "---"
   ]
  },
  {
   "cell_type": "markdown",
   "id": "aaf4e1b6",
   "metadata": {
    "pycharm": {
     "name": "#%% md\n"
    }
   },
   "source": [
    "## Числитель"
   ]
  },
  {
   "cell_type": "markdown",
   "id": "8a32bfc3",
   "metadata": {
    "pycharm": {
     "name": "#%% md\n"
    }
   },
   "source": [
    "Для простоты мы взяли ряд, состоящий из синусов. Его ранг равен $ 2 $ и скалярное произведение будет состоять из одинаковых слагаемых.\n",
    "\n",
    "\n",
    "\n",
    "$$ \\sum\\limits_{l=1}^{K_2}\\;\\sum\\limits_{i=1}^{r}\\langle X_l^{(2)}, U_i^{(1)}\\rangle^2 = \\sum\\limits_{l=1}^{K_2}\\;\\sum\\limits_{i=1}^{r}\\;\\left (\\sum\\limits_{j=1}^{L}X_{l_j}^{(2)}\\cdot U_{i_j}^{(1)}\\right )^2 \\approx \\sum\\limits_{l=1}^{K_2}\\;\\sum\\limits_{i=1}^{r} \\left (\\int\\limits_{0}^{L}(X_{l}^{(2)} \\cdot U_{i}^{(1)})dy\\right )^2 = $$\n",
    "$$ = \\sum\\limits_{l=1}^{K_2}\\;\\left[\\left(\\int\\limits_{0}^{L}(X_{l}^{(2)} \\cdot U_{1}^{(1)})dy\\right )^2 + \\left(\\int\\limits_{0}^{L}(X_{l}^{(2)} \\cdot U_{2}^{(1)})dy\\right )^2\\right ] \\approx $$\n",
    "$$ \\approx K_2 \\cdot\\left[\\left(\\int\\limits_{0}^{L}(X_{l}^{(2)} \\cdot U_{1}^{(1)})dy\\right )^2 + \\left(\\int\\limits_{0}^{L}(X_{l}^{(2)} \\cdot U_{2}^{(1)})dy\\right )^2\\right ] = $$\n",
    "\n",
    "$$ = K_2 \\cdot\\left[\\left(\\int\\limits_{0}^{L}(\\sin(2\\pi\\omega_2 y) \\cdot \\frac{\\sin(2\\pi\\omega_1 y)}{\\sqrt{L/2}}dy\\right )^2 + \\left(\\int\\limits_{0}^{L}(\\sin(2\\pi\\omega_2 y) \\cdot \\frac{\\cos(2\\pi\\omega_1 y)}{\\sqrt{L/2}})dy\\right )^2\\right ] = $$\n",
    "$$ = K_2 \\cdot \\frac{2}{L} \\cdot\\left[\\left(\\int\\limits_{0}^{L}(\\sin(2\\pi\\omega_2 y) \\cdot \\sin(2\\pi\\omega_1 y)dy\\right )^2 + \\left(\\int\\limits_{0}^{L}(\\sin(2\\pi\\omega_2 y) \\cdot \\cos(2\\pi\\omega_1 y))dy\\right )^2\\right ] $$"
   ]
  },
  {
   "cell_type": "markdown",
   "id": "4873c212",
   "metadata": {
    "pycharm": {
     "name": "#%% md\n"
    }
   },
   "source": [
    "## Индекс неоднородности"
   ]
  },
  {
   "cell_type": "markdown",
   "id": "5ea689d0",
   "metadata": {
    "pycharm": {
     "name": "#%% md\n"
    }
   },
   "source": [
    "Собирая все вместе, получаем:\n",
    "\n",
    "$$ 1 - \\frac{\\sum\\limits_{l=1}^{K_2}\\;\\sum\\limits_{i=1}^{r}\\langle X_l^{(2)}, U_i^{(1)}\\rangle^2}{\\sum\\limits_{l=1}^{K_2}\\|X_l^{(2)}\\|^2} \\approx  $$\n",
    "$$ \\approx 1 - \\frac{K_2 \\cdot \\frac{2}{L} \\cdot\\left[\\left(\\int\\limits_{0}^{L}(\\sin(2\\pi\\omega_2 y) \\cdot \\sin(2\\pi\\omega_1 y)dy\\right )^2 + \\left(\\int\\limits_{0}^{L}(\\sin(2\\pi\\omega_2 y) \\cdot \\cos(2\\pi\\omega_1 y))dy\\right )^2\\right ]}{K_2\\cdot\\frac{L}{2}} = $$\n",
    "$$ = 1 - \\frac{\\left(\\int\\limits_{0}^{L}(\\sin(2\\pi\\omega_2 y) \\cdot \\sin(2\\pi\\omega_1 y)dy\\right )^2 + \\left(\\int\\limits_{0}^{L}(\\sin(2\\pi\\omega_2 y) \\cdot \\cos(2\\pi\\omega_1 y))dy\\right )^2}{\\frac{L^2}{4}} = $$\n",
    "$$ =  1 - \\frac{\\left ( \\frac{\\sin(2\\pi Lb)}{4\\pi b} - \\frac{\\sin(2\\pi La)}{4\\pi a} \\right )^2 + \\left ( \\frac{\\cos(2\\pi Lb)}{4\\pi b} - \\frac{\\cos(2\\pi La)}{4\\pi a} - \\frac{\\omega_2}{2\\pi ab}\\right )^2}{\\frac{L^2}{4}},$$\n",
    "\n",
    "где $a = \\omega_1 + \\omega_2$, $b = \\omega_1 - \\omega_2$.\n"
   ]
  },
  {
   "cell_type": "markdown",
   "id": "acc290cd",
   "metadata": {
    "pycharm": {
     "name": "#%% md\n"
    }
   },
   "source": [
    "Сравним полученную формулу с оригинальной."
   ]
  },
  {
   "cell_type": "code",
   "execution_count": 9,
   "id": "4b994ffb",
   "metadata": {
    "pycharm": {
     "name": "#%%\n"
    }
   },
   "outputs": [],
   "source": [
    "N = 700\n",
    "Q = 301\n",
    "B = 100\n",
    "T_ = 100\n",
    "L = 50"
   ]
  },
  {
   "cell_type": "markdown",
   "id": "0317d4e5",
   "metadata": {
    "pycharm": {
     "name": "#%% md\n"
    }
   },
   "source": [
    "Возьмем $\\omega_1 = \\frac{1}{10}$, $\\omega_2 = \\frac{1}{20}$ и сравним индексы неоднородности до и после разладки."
   ]
  },
  {
   "cell_type": "code",
   "execution_count": 12,
   "id": "01e24fdf",
   "metadata": {
    "pycharm": {
     "name": "#%%\n"
    }
   },
   "outputs": [
    {
     "data": {
      "text/plain": [
       "(0.0, 1.0)"
      ]
     },
     "execution_count": 12,
     "metadata": {},
     "output_type": "execute_result"
    }
   ],
   "source": [
    "w1 = 1/10\n",
    "w2 = 1/20\n",
    "L = 60\n",
    "f = generate_series((w1, w2), N=N, Q=Q)\n",
    "hm = Hmatr(f, B, T_, L, neig=r, svdMethod=method)\n",
    "hm.compute_single_row(0)[1], hm.compute_single_row(0)[-1]"
   ]
  },
  {
   "cell_type": "code",
   "execution_count": 13,
   "id": "eccef319",
   "metadata": {
    "pycharm": {
     "name": "#%%\n"
    }
   },
   "outputs": [
    {
     "data": {
      "text/plain": [
       "(0.0, 0.9987491211896008)"
      ]
     },
     "execution_count": 13,
     "metadata": {},
     "output_type": "execute_result"
    }
   ],
   "source": [
    "hm.compute_single_val_analytical(1/10, 1/10), hm.compute_single_val_analytical(1/10, 1/20)"
   ]
  },
  {
   "cell_type": "markdown",
   "id": "f65d32ad",
   "metadata": {
    "pycharm": {
     "name": "#%% md\n"
    }
   },
   "source": [
    "Получили одинаковые числа."
   ]
  },
  {
   "cell_type": "markdown",
   "id": "deaee293",
   "metadata": {
    "pycharm": {
     "name": "#%% md\n"
    }
   },
   "source": [
    "Уменьшим разность частот, сохранив $L=50$: $\\omega_1 = \\frac{1}{10}$, $\\omega_2 = \\frac{1}{11}$"
   ]
  },
  {
   "cell_type": "code",
   "execution_count": 14,
   "id": "220c51f8",
   "metadata": {
    "pycharm": {
     "name": "#%%\n"
    }
   },
   "outputs": [
    {
     "data": {
      "text/plain": [
       "(0.6659330299999999, 0.9214902036531843)"
      ]
     },
     "execution_count": 14,
     "metadata": {},
     "output_type": "execute_result"
    }
   ],
   "source": [
    "w1 = 1/10\n",
    "w2 = 1/11\n",
    "f = generate_series((w1, w2), N=N, Q=Q)\n",
    "hm = Hmatr(f, B, T_, L, neig=r, svdMethod=method)\n",
    "hm.getRow()[-1], hm.compute_single_val_analytical(w1, w2)"
   ]
  },
  {
   "cell_type": "markdown",
   "id": "33cedd56",
   "metadata": {
    "pycharm": {
     "name": "#%% md\n"
    }
   },
   "source": [
    "Увеличим $L$ до $80$"
   ]
  },
  {
   "cell_type": "code",
   "execution_count": 15,
   "id": "71a50884",
   "metadata": {
    "pycharm": {
     "name": "#%%\n"
    }
   },
   "outputs": [
    {
     "data": {
      "text/plain": [
       "(0.89075337, 0.947625104932811)"
      ]
     },
     "execution_count": 15,
     "metadata": {},
     "output_type": "execute_result"
    }
   ],
   "source": [
    "w1 = 1/10\n",
    "w2 = 1/11\n",
    "L = 80\n",
    "f = generate_series((w1, w2), N=N, Q=Q)\n",
    "hm = Hmatr(f, B, T_, L, neig=r, svdMethod=method)\n",
    "hm.getRow()[-1], hm.compute_single_val_analytical(w1, w2)"
   ]
  },
  {
   "cell_type": "markdown",
   "id": "7f614e98",
   "metadata": {
    "pycharm": {
     "name": "#%% md\n"
    }
   },
   "source": [
    "Получили более близкие друг к другу значения. Увеличим $L=90$"
   ]
  },
  {
   "cell_type": "code",
   "execution_count": 16,
   "id": "886f6cd6",
   "metadata": {},
   "outputs": [
    {
     "data": {
      "text/plain": [
       "(0.95585467, 0.9597151768519586)"
      ]
     },
     "execution_count": 16,
     "metadata": {},
     "output_type": "execute_result"
    }
   ],
   "source": [
    "w1 = 1/10\n",
    "w2 = 1/11\n",
    "L = 90\n",
    "f = generate_series((w1, w2), N=N, Q=Q)\n",
    "hm = Hmatr(f, B, T_, L, neig=r, svdMethod=method)\n",
    "hm.getRow()[-1], hm.compute_single_val_analytical(w1, w2)"
   ]
  },
  {
   "cell_type": "markdown",
   "id": "f60d0fa1",
   "metadata": {},
   "source": [
    "С ростом $L$ значения индекса неоднородности сходятся друг к другу."
   ]
  },
  {
   "cell_type": "markdown",
   "id": "e7cf014f",
   "metadata": {},
   "source": [
    "---"
   ]
  },
  {
   "cell_type": "markdown",
   "id": "e0dcf5fb",
   "metadata": {},
   "source": [
    "### Динамика по $\\omega_2$"
   ]
  },
  {
   "cell_type": "code",
   "execution_count": 12,
   "id": "5722b556",
   "metadata": {},
   "outputs": [],
   "source": [
    "from matplotlib import pyplot as plt\n",
    "\n",
    "def generate_gs_comparsion_omegas():\n",
    "    w1 = 1/10\n",
    "    w2 = 1/np.arange(10, 20, 0.2)\n",
    "\n",
    "    gs_a = []\n",
    "    gs_c = []\n",
    "\n",
    "    for i in range(len(w2)):\n",
    "        f = generate_series((w1, w2[i]), N=N, Q=Q)\n",
    "        hm = Hmatr(f, B, T_, L, neig=r, svdMethod=method)\n",
    "        gs_c.append(hm.compute_single_row(0)[-1])\n",
    "        gs_a.append(hm.compute_single_val_analytical(w1, w2[i], verbose=False))\n",
    "    return w1, w2, gs_a, gs_c"
   ]
  },
  {
   "cell_type": "code",
   "execution_count": 27,
   "id": "c931e1d2",
   "metadata": {
    "pycharm": {
     "name": "#%%\n"
    }
   },
   "outputs": [
    {
     "data": {
      "text/plain": [
       "<matplotlib.legend.Legend at 0x28e0796aa70>"
      ]
     },
     "execution_count": 27,
     "metadata": {},
     "output_type": "execute_result"
    },
    {
     "data": {
      "image/png": "[encoded data removed]",
      "text/plain": [
       "<Figure size 1080x576 with 1 Axes>"
      ]
     },
     "metadata": {
      "needs_background": "light"
     },
     "output_type": "display_data"
    }
   ],
   "source": [
    "w1_, w2_, gs_a, gs_c = generate_gs_comparsion_omegas()\n",
    "plt.figure(figsize=(15, 8))\n",
    "plt.title(\"Heterogeneity index\")\n",
    "plt.xlabel(r\"$\\omega_2$\")\n",
    "plt.ylabel(r\"$G(F^{(1)}, F^{(2)})$\")\n",
    "plt.grid()\n",
    "plt.plot(w2_, gs_a, marker=\".\", color=\"g\", label=\"Analytical approximation\")\n",
    "plt.plot(w2_, gs_c, marker=\".\", color=\"b\", label=\"Classic approach\")\n",
    "plt.legend(loc = \"lower left\")"
   ]
  },
  {
   "cell_type": "markdown",
   "id": "3b889619",
   "metadata": {},
   "source": [
    "### Динамика по $L$"
   ]
  },
  {
   "cell_type": "code",
   "execution_count": 32,
   "id": "f66629e1",
   "metadata": {
    "pycharm": {
     "name": "#%%\n"
    }
   },
   "outputs": [],
   "source": [
    "def generate_gs_comparsion_Ls():\n",
    "    w1 = 1/10\n",
    "    w2 = 1/19\n",
    "    B = 200\n",
    "    T_ = 200\n",
    "    L = np.arange(1, 191, 1, dtype=int)\n",
    "\n",
    "    gs_a = []\n",
    "    gs_c = []\n",
    "    \n",
    "    f = generate_series((w1, w2), N=N, Q=Q)\n",
    "    \n",
    "    for i in range(len(L)):\n",
    "        hm = Hmatr(f, B, T_, L[i], neig=r, svdMethod=method)\n",
    "        gs_c.append(hm.compute_single_row(0)[-1])\n",
    "        gs_a.append(hm.compute_single_val_analytical(w1, w2, verbose=False))\n",
    "    return w1, w2, gs_a, gs_c"
   ]
  },
  {
   "cell_type": "code",
   "execution_count": null,
   "id": "dbce4d82",
   "metadata": {
    "pycharm": {
     "name": "#%%\n"
    }
   },
   "outputs": [],
   "source": [
    "w1_, w2_, gs_a, gs_c = generate_gs_comparsion_Ls()\n",
    "plt.figure(figsize=(15, 8))\n",
    "plt.title(\"Heterogeneity index\")\n",
    "plt.xlabel(r\"$\\omega_2$\")\n",
    "plt.ylabel(r\"$G(F^{(1)}, F^{(2)})$\")\n",
    "plt.grid()\n",
    "plt.plot(w2_, gs_a, marker=\".\", color=\"g\", label=\"Analytical approximation\")\n",
    "plt.plot(w2_, gs_c, marker=\".\", color=\"b\", label=\"Classic approach\")\n",
    "plt.legend(loc = \"lower left\")"
   ]
  },
  {
   "cell_type": "code",
   "execution_count": null,
   "id": "5edd87df",
   "metadata": {
    "pycharm": {
     "name": "#%%\n"
    }
   },
   "outputs": [],
   "source": []
  },
  {
   "cell_type": "code",
   "execution_count": null,
   "id": "9f0b3903",
   "metadata": {},
   "outputs": [],
   "source": []
  },
  {
   "cell_type": "code",
   "execution_count": null,
   "id": "e349daa2",
   "metadata": {},
   "outputs": [],
   "source": []
  },
  {
   "cell_type": "code",
   "execution_count": null,
   "id": "ec255a25",
   "metadata": {},
   "outputs": [],
   "source": []
  }
 ],
 "metadata": {
  "kernelspec": {
   "display_name": "Python 3 (ipykernel)",
   "language": "python",
   "name": "python3"
  },
  "language_info": {
   "codemirror_mode": {
    "name": "ipython",
    "version": 3
   },
   "file_extension": ".py",
   "mimetype": "text/x-python",
   "name": "python",
   "nbconvert_exporter": "python",
   "pygments_lexer": "ipython3",
   "version": "3.10.1"
  }
 },
 "nbformat": 4,
 "nbformat_minor": 5
}