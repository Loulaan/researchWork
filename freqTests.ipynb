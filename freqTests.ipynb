{
 "cells": [
  {
   "cell_type": "markdown",
   "source": [
    "# Анализ функций разладки"
   ],
   "metadata": {
    "collapsed": false
   }
  },
  {
   "cell_type": "markdown",
   "source": [
    "## Инициализация"
   ],
   "metadata": {
    "collapsed": false
   }
  },
  {
   "cell_type": "code",
   "execution_count": null,
   "outputs": [],
   "source": [
    "from copy import deepcopy\n",
    "import warnings\n",
    "\n",
    "import numpy as np\n",
    "import matplotlib.pyplot as plt\n",
    "import rpy2.robjects as robjects\n",
    "import rpy2.robjects.numpy2ri\n",
    "from rpy2.robjects.packages import importr\n",
    "import openpyxl\n",
    "import pandas as pd\n",
    "from utils.hmatr import Hmatr\n",
    "\n",
    "from utils.modelling import modellingSeriesStatistics\n",
    "from utils.modelling import fixSeriesStatistics\n",
    "\n",
    "%load_ext autoreload\n",
    "%load_ext rpy2.ipython\n",
    "%autoreload 2\n",
    "\n",
    "warnings.filterwarnings('ignore')\n",
    "rpy2.robjects.numpy2ri.activate()\n",
    "# utils = importr('utils')\n",
    "\n",
    "# utils.chooseCRANmirror(ind=1)\n",
    "# utils.install_packages('Rssa')\n",
    "\n",
    "rssa = importr('Rssa')"
   ],
   "metadata": {
    "collapsed": false,
    "pycharm": {
     "name": "#%%\n"
    }
   }
  },
  {
   "cell_type": "code",
   "execution_count": null,
   "outputs": [],
   "source": [
    "N = 700\n",
    "w1 = 1/10\n",
    "w2 = 1/5\n",
    "C1 = 1\n",
    "C2 = 2\n",
    "phi1 = 0\n",
    "phi2 = np.pi/2\n",
    "Q = 301  # 301 номер, значит разладка в ряде будет на 302й точке, если ряд задан с 0.\n",
    "B = 100\n",
    "T_ = 100\n",
    "L = 50\n",
    "r = 2\n",
    "noiseVariance = 0.5\n",
    "\n",
    "\n",
    "iterationsNumber = 300\n",
    "\n",
    "method = \"svd\""
   ],
   "metadata": {
    "collapsed": false,
    "pycharm": {
     "name": "#%%\n"
    }
   }
  },
  {
   "cell_type": "code",
   "execution_count": null,
   "outputs": [],
   "source": [
    "def plotSeries(s, title='Series', w=16, h=4):\n",
    "    plt.figure(figsize=(w, h))\n",
    "    plt.title(title)\n",
    "    plt.plot(s)"
   ],
   "metadata": {
    "collapsed": false,
    "pycharm": {
     "name": "#%%\n"
    }
   }
  },
  {
   "cell_type": "markdown",
   "source": [
    "Зададим наши функции"
   ],
   "metadata": {
    "collapsed": false
   }
  },
  {
   "cell_type": "code",
   "execution_count": null,
   "outputs": [],
   "source": [
    "seriesPermanent = lambda n: C1*np.sin(2*np.pi*w1*n + phi1) if n < Q-1 else C1*np.sin(2*np.pi*w2*n + phi1)\n",
    "seriesTemporary = lambda n: C1*np.sin(2*np.pi*w1*n + phi1) if n < Q-1 else C2*np.sin(2*np.pi*w1*n + phi1)\n",
    "seriesShifted = lambda n: C1*np.sin(2*np.pi*w1*n + phi1) if n < Q-1 else C1*np.sin(2*np.pi*w1*n + phi2)\n",
    "seriesOutlier = lambda n: C1*np.sin(2*np.pi*w1*n + phi1)"
   ],
   "metadata": {
    "collapsed": false,
    "pycharm": {
     "name": "#%%\n"
    }
   }
  },
  {
   "cell_type": "markdown",
   "source": [
    "Сгенерируем ряды с шумомом и без"
   ],
   "metadata": {
    "collapsed": false
   }
  },
  {
   "cell_type": "code",
   "execution_count": null,
   "outputs": [],
   "source": [
    "np.random.seed(0)\n",
    "eps = np.random.normal(scale=noiseVariance, size=N)\n",
    "\n",
    "fPerm = [seriesPermanent(i) for i in range(N)]\n",
    "fPermNoise = fPerm + eps\n",
    "\n",
    "fTemp = [seriesTemporary(i) for i in range(N)]\n",
    "tmp = deepcopy(eps)\n",
    "tmp[:Q] = tmp[:Q]/2\n",
    "fTempNoise = fTemp + tmp\n",
    "\n",
    "fShifted = [seriesShifted(i) for i in range(N)]\n",
    "fShiftedNoise = fShifted + eps\n",
    "\n",
    "\n",
    "fOutlier = [seriesOutlier(i) for i in range(N)]\n",
    "fOutlier[Q] = fOutlier[Q] + C1*10\n",
    "fOutlierNoise = fOutlier + eps"
   ],
   "metadata": {
    "collapsed": false,
    "pycharm": {
     "name": "#%%\n"
    }
   }
  },
  {
   "cell_type": "markdown",
   "source": [
    "---"
   ],
   "metadata": {
    "collapsed": false
   }
  },
  {
   "cell_type": "markdown",
   "source": [
    "Посмотрим на графики строковых функций разладки в случае *постоянной* разладки при разных значениях частот ряда."
   ],
   "metadata": {
    "collapsed": false
   }
  },
  {
   "cell_type": "code",
   "execution_count": null,
   "outputs": [],
   "source": [
    "def generate_series(omega, C1=1, C2=2, outlierVal=10, N=700, Q=301):\n",
    "    w1, w2 = omega\n",
    "    seriesPermanent = lambda n: C1*np.sin(2*np.pi*w1*n + phi1) if n < Q-1 else C1*np.sin(2*np.pi*w2*n + phi1)\n",
    "    seriesTemporary = lambda n: C1*np.sin(2*np.pi*w1*n + phi1) if n < Q-1 else C2*np.sin(2*np.pi*w1*n + phi1)\n",
    "    seriesShifted = lambda n: C1*np.sin(2*np.pi*w1*n + phi1) if n < Q-1 else C1*np.sin(2*np.pi*w1*n + phi2)\n",
    "    seriesOutlier = lambda n: C1*np.sin(2*np.pi*w1*n + phi1)\n",
    "    \n",
    "    fPerm = [seriesPermanent(i) for i in range(N)]\n",
    "    fTemp = [seriesTemporary(i) for i in range(N)]\n",
    "    fShifted = [seriesShifted(i) for i in range(N)]\n",
    "    fOutlier = [seriesOutlier(i) for i in range(N)]\n",
    "    fOutlier[Q] = fOutlier[Q] + C1*outlierVal\n",
    "    return dict(zip(['Permanent', 'Temporary', 'Shifted', 'Outlier'], [fPerm, fTemp, fShifted, fOutlier]))\n",
    "\n",
    "def generate_hm_for_series(dictSeries, which):\n",
    "    dictHM = {}\n",
    "    for typeH, valH in zip(dictSeries.keys(), dictSeries.values()):\n",
    "        if typeH not in which:\n",
    "            continue\n",
    "        dictHM[typeH] = Hmatr(valH, B, T_, L, neig=r, svdMethod=method)\n",
    "    return dictHM\n",
    "\n",
    "def get_det_func(dictHM, which):\n",
    "    dictHMFunc = {}\n",
    "    for typeHM, HM in zip(dictHM.keys(), dictHM.values()):\n",
    "        dictFunc = {}\n",
    "        for func in which:\n",
    "            if func == 'row':\n",
    "                dictFunc[func] = HM.getRow()\n",
    "            if func == 'col':\n",
    "                dictFunc[func] = HM.getCol()\n",
    "            if func == 'sym':\n",
    "                dictFunc[func] = HM.getSym()\n",
    "            if func == 'diag':\n",
    "                dictFunc[func] = HM.getDiag()\n",
    "        dictHMFunc[typeHM] = dictFunc\n",
    "    return dictHMFunc\n",
    "\n",
    "def generate_funcs_for_diff_omegas(omegas, whichH, whichF):\n",
    "    ans = {}\n",
    "    for omega in omegas:\n",
    "        ans[str(omega)] = get_det_func(generate_hm_for_series(generate_series(omega), whichH), whichF)\n",
    "    return ans\n",
    "\n",
    "def plot_heter_func(freqStats, which):\n",
    "    \n",
    "    len_types_hm = len(freqStats[list(freqStats.keys())[0]].keys())\n",
    "    len_types_func = len(which)\n",
    "    plt.figure(figsize=(10 * len_types_func, 6 * len_types_hm))\n",
    "    for omegas, heterogeneity in zip(freqStats.keys(), freqStats.values()):\n",
    "        for i, (typeH, funcs) in enumerate(zip(heterogeneity.keys(), heterogeneity.values())):\n",
    "            for j, (typeF, vals) in enumerate(zip(funcs.keys(), funcs.values())):\n",
    "                plt.subplot(len_types_hm, len_types_func, i * 4 + j + 1)\n",
    "                plt.plot(vals, label = omegas)\n",
    "                plt.title(f\"{typeH} - {typeF}\")\n",
    "                plt.xlabel(r\"$x_i$\")\n",
    "                plt.ylabel(r\"$f(x_i)$\")\n",
    "                plt.ylim(0, 1)\n",
    "                plt.legend()\n",
    "    plt.show()"
   ],
   "metadata": {
    "collapsed": false,
    "pycharm": {
     "name": "#%%\n"
    }
   }
  },
  {
   "cell_type": "code",
   "execution_count": null,
   "outputs": [],
   "source": [
    "which_heterogeneity = ['Permanent']\n",
    "which_funcs = ['row']\n",
    "omegas = ((1/10, 1/20), (1/10, 1/11), (1/10, 1/10.1))\n",
    "plot_heter_func(generate_funcs_for_diff_omegas(omegas, which_heterogeneity, which_funcs), which_funcs)"
   ],
   "metadata": {
    "collapsed": false,
    "pycharm": {
     "name": "#%%\n"
    }
   }
  },
  {
   "cell_type": "markdown",
   "source": [
    "Проверим еще раз."
   ],
   "metadata": {
    "collapsed": false
   }
  },
  {
   "cell_type": "code",
   "execution_count": null,
   "outputs": [],
   "source": [
    "generate_hm_for_series(generate_series((1/10, 1/11)), which_heterogeneity)['Permanent'].plotHeterFunc()"
   ],
   "metadata": {
    "collapsed": false,
    "pycharm": {
     "name": "#%%\n"
    }
   }
  },
  {
   "cell_type": "code",
   "execution_count": null,
   "outputs": [],
   "source": [
    "tmp = generate_hm_for_series(generate_series((1/10, 1/10.1)), which_heterogeneity)['Permanent'].plotHeterFunc()"
   ],
   "metadata": {
    "collapsed": false,
    "pycharm": {
     "name": "#%%\n"
    }
   }
  },
  {
   "cell_type": "code",
   "execution_count": null,
   "outputs": [],
   "source": [
    "tmp = generate_hm_for_series(generate_series((1/10, 1/10.000001)), which_heterogeneity)\n",
    "tmp['Permanent'].plotHeterFunc()"
   ],
   "metadata": {
    "collapsed": false,
    "pycharm": {
     "name": "#%%\n"
    }
   }
  },
  {
   "cell_type": "markdown",
   "source": [
    "Из эмпирических наблюдений следует вывод:  \n",
    "**Чем сильнее различия в рядах, тем лучше метод определяет наличие неоднородности**.\n"
   ],
   "metadata": {
    "collapsed": false
   }
  },
  {
   "cell_type": "markdown",
   "source": [
    "---"
   ],
   "metadata": {
    "collapsed": false
   }
  },
  {
   "cell_type": "markdown",
   "source": [
    "# Анализ переходного интервала (численный)"
   ],
   "metadata": {
    "collapsed": false
   }
  },
  {
   "cell_type": "code",
   "execution_count": null,
   "outputs": [],
   "source": [
    "import warnings\n",
    "warnings.filterwarnings('ignore')\n",
    "\n",
    "from utils.hmatrStatistics import Hmatr"
   ],
   "metadata": {
    "collapsed": false,
    "pycharm": {
     "name": "#%%\n"
    }
   }
  },
  {
   "cell_type": "code",
   "execution_count": null,
   "outputs": [],
   "source": [
    "L=50\n",
    "hm = Hmatr(fPerm, B, T_, L, neig=r, svdMethod=method)\n",
    "data = hm.compute_distance(0)\n",
    "print(np.sum(data[220], axis=1))\n",
    "data[251]"
   ],
   "metadata": {
    "collapsed": false,
    "pycharm": {
     "name": "#%%\n"
    }
   }
  },
  {
   "cell_type": "code",
   "execution_count": null,
   "outputs": [],
   "source": [
    "L=10\n",
    "hm = Hmatr(fPerm, B, T_, L, neig=r, svdMethod=method)\n",
    "data = hm.compute_distance(0)\n",
    "print(np.sum(data[220], axis=1))\n",
    "data[220]"
   ],
   "metadata": {
    "collapsed": false,
    "pycharm": {
     "name": "#%%\n"
    }
   }
  },
  {
   "cell_type": "code",
   "execution_count": null,
   "outputs": [],
   "source": [
    "data[240]"
   ],
   "metadata": {
    "collapsed": false,
    "pycharm": {
     "name": "#%%\n"
    }
   }
  },
  {
   "cell_type": "code",
   "execution_count": null,
   "outputs": [],
   "source": [],
   "metadata": {
    "collapsed": false,
    "pycharm": {
     "name": "#%%\n"
    }
   }
  },
  {
   "cell_type": "code",
   "execution_count": null,
   "outputs": [],
   "source": [
    "L=90\n",
    "hm = Hmatr(fPerm, B, T_, L, neig=r, svdMethod=method)\n",
    "data = hm.compute_distance(0)\n",
    "print(np.sum(data[220], axis=1))\n",
    "data[211]"
   ],
   "metadata": {
    "collapsed": false,
    "pycharm": {
     "name": "#%%\n"
    }
   }
  },
  {
   "cell_type": "code",
   "execution_count": null,
   "outputs": [],
   "source": [
    "data[221]"
   ],
   "metadata": {
    "collapsed": false,
    "pycharm": {
     "name": "#%%\n"
    }
   }
  },
  {
   "cell_type": "code",
   "execution_count": null,
   "outputs": [],
   "source": [
    "data[231]"
   ],
   "metadata": {
    "collapsed": false,
    "pycharm": {
     "name": "#%%\n"
    }
   }
  },
  {
   "cell_type": "code",
   "execution_count": null,
   "outputs": [],
   "source": [
    "data[241]"
   ],
   "metadata": {
    "collapsed": false,
    "pycharm": {
     "name": "#%%\n"
    }
   }
  },
  {
   "cell_type": "code",
   "execution_count": null,
   "outputs": [],
   "source": [],
   "metadata": {
    "collapsed": false,
    "pycharm": {
     "name": "#%%\n"
    }
   }
  }
 ],
 "metadata": {
  "kernelspec": {
   "display_name": "Python 3",
   "language": "python",
   "name": "python3"
  },
  "language_info": {
   "codemirror_mode": {
    "name": "ipython",
    "version": 3
   },
   "file_extension": ".py",
   "mimetype": "text/x-python",
   "name": "python",
   "nbconvert_exporter": "python",
   "pygments_lexer": "ipython3",
   "version": "3.8.3"
  }
 },
 "nbformat": 4,
 "nbformat_minor": 5
}